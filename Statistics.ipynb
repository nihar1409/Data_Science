{
 "cells": [
  {
   "cell_type": "code",
   "execution_count": 97,
   "id": "028cd000",
   "metadata": {},
   "outputs": [],
   "source": [
    "# 1) Business Problem: A retail store wants to analyze the sales data of a particular\n",
    "# product category to understand the typical sales performance and make strategic\n",
    "# decisions.\n",
    "# Data:\n",
    "# Let's consider the weekly sales data (in units) for the past month for a specific product\n",
    "# category:\n",
    "Week1 = 50 \n",
    "Week2 = 60 \n",
    "Week3 = 55 \n",
    "Week4 = 70 "
   ]
  },
  {
   "cell_type": "code",
   "execution_count": 98,
   "id": "6f5d73f5",
   "metadata": {},
   "outputs": [
    {
     "data": {
      "text/plain": [
       "58.75"
      ]
     },
     "execution_count": 98,
     "metadata": {},
     "output_type": "execute_result"
    }
   ],
   "source": [
    "# 1. Mean: What is the average weekly sales of the product category?\n",
    "\n",
    "avg = (Week1+Week2+Week3+Week4)/4\n",
    "avg"
   ]
  },
  {
   "cell_type": "code",
   "execution_count": 99,
   "id": "ef3f6eab",
   "metadata": {},
   "outputs": [
    {
     "data": {
      "text/plain": [
       "57.5"
      ]
     },
     "execution_count": 99,
     "metadata": {},
     "output_type": "execute_result"
    }
   ],
   "source": [
    "# 2. Median: What is the typical or central sales value for the product category?\n",
    "lst = [50,60,55,70]\n",
    "lst = sorted(lst)\n",
    "\n",
    "def c_median(lst):\n",
    "    if len(lst)%2 == 0:\n",
    "        med = (lst[len(lst)//2 - 1] + lst[(len(lst)//2)])/2\n",
    "    else:\n",
    "        med = lst[len(lst)//2]\n",
    "    return med\n",
    "\n",
    "c_median(lst)"
   ]
  },
  {
   "cell_type": "code",
   "execution_count": 100,
   "id": "2af79e66",
   "metadata": {},
   "outputs": [],
   "source": [
    "# 3. Mode: Are there any recurring or most frequently occurring sales figures for the\n",
    "# product category?\n",
    "\n",
    "# No"
   ]
  },
  {
   "cell_type": "code",
   "execution_count": 101,
   "id": "2ad23446",
   "metadata": {},
   "outputs": [
    {
     "data": {
      "text/plain": [
       "17.0"
      ]
     },
     "execution_count": 101,
     "metadata": {},
     "output_type": "execute_result"
    }
   ],
   "source": [
    "# 2) Business Problem: A restaurant wants to analyze the waiting times of its\n",
    "# customers to understand the typical waiting experience and improve service\n",
    "# efficiency.\n",
    "\n",
    "# Data\n",
    "# Let's consider the waiting times (in minutes) for the past 20 customers:\n",
    "data = [15, 10, 20, 25, 15, 10, 30, 20, 15, 10, 10, 25, 15, 20, 20, 15, 10, 10, 20, 25]\n",
    "\n",
    "def c_average(lst):\n",
    "    sum_data = 0\n",
    "    for i in range(len(lst)):\n",
    "        sum_data += data[i]\n",
    "\n",
    "    avg = sum_data / len(lst)\n",
    "    return avg\n",
    "c_average(data)"
   ]
  },
  {
   "cell_type": "code",
   "execution_count": 102,
   "id": "71b828a7",
   "metadata": {},
   "outputs": [
    {
     "data": {
      "text/plain": [
       "10.0"
      ]
     },
     "execution_count": 102,
     "metadata": {},
     "output_type": "execute_result"
    }
   ],
   "source": [
    "# 2. Median: What is the typical or central waiting time experienced by customers?\n",
    "\n",
    "c_median(data)"
   ]
  },
  {
   "cell_type": "code",
   "execution_count": 103,
   "id": "4e82f053",
   "metadata": {},
   "outputs": [
    {
     "data": {
      "text/plain": [
       "{10: 6}"
      ]
     },
     "execution_count": 103,
     "metadata": {},
     "output_type": "execute_result"
    }
   ],
   "source": [
    "def c_mode(lst):\n",
    "    dict1 = {}\n",
    "    for i in lst:\n",
    "        if i not in dict1:\n",
    "            dict1[i] = 1\n",
    "        else:\n",
    "            dict1[i] += 1\n",
    "    \n",
    "    dict_sorted = sorted(dict1.items(), key=lambda x: x[1], reverse=True)\n",
    "    mode = {key:value for key, value in dict_sorted if value == dict_sorted[0][1]}\n",
    "    return mode\n",
    "c_mode(data)"
   ]
  },
  {
   "cell_type": "code",
   "execution_count": 104,
   "id": "2225d638",
   "metadata": {},
   "outputs": [],
   "source": [
    "# Business Problem: A car rental company wants to analyze the rental durations of\n",
    "# its customers to understand the typical rental period and optimize its pricing and\n",
    "# fleet management strategies.\n",
    "# Data:\n",
    "# Let's consider the rental durations (in days) for a sample of 50 customers:\n",
    "data = [3, 2, 5, 4, 7, 2, 3, 3, 1, 6,\n",
    "4, 2, 3, 5, 2, 4, 2, 1, 3, 5,\n",
    "6, 3, 2, 1, 4, 2, 4, 5, 3, 2,\n",
    "7, 2, 3, 4, 5, 1, 6, 2, 4, 3,\n",
    "5, 3, 2, 4, 2, 6, 3, 2, 4, 5]"
   ]
  },
  {
   "cell_type": "code",
   "execution_count": 105,
   "id": "115a737e",
   "metadata": {},
   "outputs": [
    {
     "data": {
      "text/plain": [
       "3.44"
      ]
     },
     "execution_count": 105,
     "metadata": {},
     "output_type": "execute_result"
    }
   ],
   "source": [
    "# 1. Mean: What is the average rental duration for customers at the car rental company?\n",
    "avg = c_average(data)\n",
    "avg"
   ]
  },
  {
   "cell_type": "code",
   "execution_count": 106,
   "id": "6a5fc544",
   "metadata": {
    "scrolled": true
   },
   "outputs": [
    {
     "data": {
      "text/plain": [
       "3.0"
      ]
     },
     "execution_count": 106,
     "metadata": {},
     "output_type": "execute_result"
    }
   ],
   "source": [
    "c_median(data)"
   ]
  },
  {
   "cell_type": "code",
   "execution_count": 107,
   "id": "9c720bde",
   "metadata": {},
   "outputs": [
    {
     "data": {
      "text/plain": [
       "{2: 13}"
      ]
     },
     "execution_count": 107,
     "metadata": {},
     "output_type": "execute_result"
    }
   ],
   "source": [
    "c_mode(data)"
   ]
  },
  {
   "cell_type": "code",
   "execution_count": 108,
   "id": "6257b90e",
   "metadata": {},
   "outputs": [],
   "source": [
    "# Problem: A manufacturing company wants to analyze the production output of a\n",
    "# specific machine to understand the variability or spread in its performance.\n",
    "# Data:\n",
    "# Let's consider the number of units produced per hour by the machine for a sample of 10\n",
    "# working days:\n",
    "# Day 1: 120 units\n",
    "# Day 2: 110 units\n",
    "# Day 3: 130 units\n",
    "# Day 4: 115 units\n",
    "# Day 5: 125 units\n",
    "# Day 6: 105 units\n",
    "# Day 7: 135 units\n",
    "# Day 8: 115 units\n",
    "# Day 9: 125 units\n",
    "# Day 10: 140 units\n",
    "\n",
    "units_per_day = [120, 110, 130, 115, 125, 105, 135, 115, 125, 140]"
   ]
  },
  {
   "cell_type": "code",
   "execution_count": 109,
   "id": "d39204e2",
   "metadata": {},
   "outputs": [
    {
     "data": {
      "text/plain": [
       "35"
      ]
     },
     "execution_count": 109,
     "metadata": {},
     "output_type": "execute_result"
    }
   ],
   "source": [
    "#1. Range: What is the range of the production output for the machine?\n",
    "def c_range(lst):\n",
    "    lst = sorted(lst)\n",
    "    \n",
    "    ranges = lst[-1] - lst[0]\n",
    "    return ranges\n",
    "\n",
    "c_range(units_per_day)"
   ]
  },
  {
   "cell_type": "code",
   "execution_count": 116,
   "id": "9ead550a",
   "metadata": {},
   "outputs": [
    {
     "data": {
      "text/plain": [
       "111.0"
      ]
     },
     "execution_count": 116,
     "metadata": {},
     "output_type": "execute_result"
    }
   ],
   "source": [
    "#2. Variance: What is the variance of the production output for the machine?\n",
    "# def c_variance(lst):\n",
    "#     addition = 0\n",
    "#     mean = c_average(lst)\n",
    "#     for i in range(len(lst)):\n",
    "#         addition += (lst[i]-mean)**2/len(lst)\n",
    "#     return addition\n",
    "\n",
    "\n",
    "def c_variance(ls):\n",
    "    addition = 0\n",
    "    m = sum(ls)/len(ls)\n",
    "    for i in range(len(ls)):\n",
    "        addition += (ls[i] - m)**2\n",
    "\n",
    "    return addition / len(ls)\n",
    "\n",
    "c_variance(units_per_day)"
   ]
  },
  {
   "cell_type": "code",
   "execution_count": 117,
   "id": "5b86bad6",
   "metadata": {
    "scrolled": true
   },
   "outputs": [
    {
     "data": {
      "text/plain": [
       "10.535653752852738"
      ]
     },
     "execution_count": 117,
     "metadata": {},
     "output_type": "execute_result"
    }
   ],
   "source": [
    "import math\n",
    "def c_standard_dev(val):\n",
    "    std = math.sqrt(val)\n",
    "    return std\n",
    "var = c_variance(units_per_day)\n",
    "c_standard_dev(var)"
   ]
  },
  {
   "cell_type": "code",
   "execution_count": 119,
   "id": "b3f42471",
   "metadata": {},
   "outputs": [],
   "source": [
    "# 2) Problem: A retail store wants to analyze the sales of a specific product to\n",
    "# understand the variability in daily sales and assess its inventory management.\n",
    "# Data:\n",
    "# Let's consider the daily sales (in dollars) for the past 30 days:\n",
    "# $500, $700, $400, $600, $550, $750, $650, $500, $600, $550,\n",
    "# $800, $450, $700, $550, $600, $400, $650, $500, $750, $550,\n",
    "# $700, $600, $500, $800, $550, $650, $400, $600, $750, $550\n",
    "\n",
    "sales = [500,700,400,600,550,750,650,500,600,550,800,450,700,550,600,400,\n",
    "         650,500,750,550,700,600,500,800,550,650,400,600,750,550]"
   ]
  },
  {
   "cell_type": "code",
   "execution_count": 120,
   "id": "04bb95c1",
   "metadata": {
    "scrolled": true
   },
   "outputs": [
    {
     "data": {
      "text/plain": [
       "400"
      ]
     },
     "execution_count": 120,
     "metadata": {},
     "output_type": "execute_result"
    }
   ],
   "source": [
    "# 1. Range: What is the range of the daily sales?\n",
    "c_range(sales)"
   ]
  },
  {
   "cell_type": "code",
   "execution_count": 122,
   "id": "5ce6fe0e",
   "metadata": {
    "scrolled": true
   },
   "outputs": [
    {
     "data": {
      "text/plain": [
       "12725.0"
      ]
     },
     "execution_count": 122,
     "metadata": {},
     "output_type": "execute_result"
    }
   ],
   "source": [
    "# 2. Variance: What is the variance of the daily sales?\n",
    "sales_var = c_variance(sales)\n",
    "sales_var"
   ]
  },
  {
   "cell_type": "code",
   "execution_count": 124,
   "id": "8ca56a55",
   "metadata": {
    "scrolled": true
   },
   "outputs": [
    {
     "data": {
      "text/plain": [
       "112.80514172678478"
      ]
     },
     "execution_count": 124,
     "metadata": {},
     "output_type": "execute_result"
    }
   ],
   "source": [
    "#3. Standard Deviation: What is the standard deviation of the daily sales?\n",
    "c_standard_dev(sales_var)"
   ]
  },
  {
   "cell_type": "code",
   "execution_count": 125,
   "id": "9e34729b",
   "metadata": {},
   "outputs": [],
   "source": [
    "# 3) Problem: An e-commerce platform wants to analyze the delivery times of its\n",
    "# shipments to understand the variability in order fulfillment and optimize its\n",
    "# logistics operations.\n",
    "# Data:\n",
    "# Let's consider the delivery times (in days) for a sample of 50 shipments:\n",
    "# 3, 5, 2, 4, 6, 2, 3, 4, 2, 5,\n",
    "# 7, 2, 3, 4, 2, 4, 2, 3, 5, 6,\n",
    "# 3, 2, 1, 4, 2, 4, 5, 3, 2, 7,\n",
    "# 2, 3, 4, 5, 1, 6, 2, 4, 3, 5,\n",
    "# 3, 2, 4, 2, 6, 3, 2, 4, 5, 3\n",
    "\n",
    "time = [3, 5, 2, 4, 6, 2, 3, 4, 2, 5,\n",
    "7, 2, 3, 4, 2, 4, 2, 3, 5, 6,\n",
    "3, 2, 1, 4, 2, 4, 5, 3, 2, 7,\n",
    "2, 3, 4, 5, 1, 6, 2, 4, 3, 5,\n",
    "3, 2, 4, 2, 6, 3, 2, 4, 5, 3]"
   ]
  },
  {
   "cell_type": "code",
   "execution_count": 126,
   "id": "c41ea726",
   "metadata": {},
   "outputs": [
    {
     "data": {
      "text/plain": [
       "6"
      ]
     },
     "execution_count": 126,
     "metadata": {},
     "output_type": "execute_result"
    }
   ],
   "source": [
    "# 1. Range: What is the range of the delivery times?\n",
    "c_range(time)"
   ]
  },
  {
   "cell_type": "code",
   "execution_count": 127,
   "id": "12151496",
   "metadata": {},
   "outputs": [
    {
     "data": {
      "text/plain": [
       "2.2896000000000005"
      ]
     },
     "execution_count": 127,
     "metadata": {},
     "output_type": "execute_result"
    }
   ],
   "source": [
    "# 2. Variance: What is the variance of the delivery times?\n",
    "time_var = c_variance(time)\n",
    "time_var"
   ]
  },
  {
   "cell_type": "code",
   "execution_count": 128,
   "id": "0d93e02d",
   "metadata": {},
   "outputs": [
    {
     "data": {
      "text/plain": [
       "1.513142425550219"
      ]
     },
     "execution_count": 128,
     "metadata": {},
     "output_type": "execute_result"
    }
   ],
   "source": [
    "#3. Standard Deviation: What is the standard deviation of the delivery times?\n",
    "c_standard_dev(time_var)"
   ]
  },
  {
   "cell_type": "code",
   "execution_count": 129,
   "id": "dae622e1",
   "metadata": {},
   "outputs": [],
   "source": [
    "# 8) Problem : A company wants to analyze the ages of its employees to understand\n",
    "# the age distribution and demographics within the organization.\n",
    "# Data:\n",
    "# Let's consider the ages of 100 employees:\n",
    "# 28, 32, 35, 40, 42, 28, 33, 38, 30, 41,\n",
    "# 37, 31, 34, 29, 36, 43, 39, 27, 35, 31,\n",
    "# 39, 45, 29, 33, 37, 40, 36, 29, 31, 38,\n",
    "# 35, 44, 32, 39, 36, 30, 33, 28, 41, 35,\n",
    "# 31, 37, 42, 29, 34, 40, 31, 33, 38, 36,\n",
    "# 39, 27, 35, 30, 43, 29, 32, 36, 31, 40,\n",
    "# 38, 44, 37, 33, 35, 41, 30, 31, 39, 28,\n",
    "# 45, 29, 33, 38, 34, 32, 35, 31, 40, 36,\n",
    "# 39, 27, 35, 30, 43, 29, 32, 36, 31, 40,\n",
    "# 38, 44, 37, 33, 35, 41, 30, 31, 39, 28\n",
    "# Questions:\n",
    "# 1. Frequency Distribution: Create a frequency distribution table for the ages of the\n",
    "# employees.\n",
    "# 2. Mode: What is the mode (most common age) among the employees?\n",
    "# 3. Median: What is the median age of the employees?\n",
    "# 4. Range: What is the range of ages among the employees?\n",
    "\n",
    "age = [28, 32, 35, 40, 42, 28, 33, 38, 30, 41,\n",
    "37, 31, 34, 29, 36, 43, 39, 27, 35, 31,\n",
    "39, 45, 29, 33, 37, 40, 36, 29, 31, 38,\n",
    "35, 44, 32, 39, 36, 30, 33, 28, 41, 35,\n",
    "31, 37, 42, 29, 34, 40, 31, 33, 38, 36,\n",
    "39, 27, 35, 30, 43, 29, 32, 36, 31, 40,\n",
    "38, 44, 37, 33, 35, 41, 30, 31, 39, 28,\n",
    "45, 29, 33, 38, 34, 32, 35, 31, 40, 36,\n",
    "39, 27, 35, 30, 43, 29, 32, 36, 31, 40,\n",
    "38, 44, 37, 33, 35, 41, 30, 31, 39, 28]"
   ]
  },
  {
   "cell_type": "code",
   "execution_count": 140,
   "id": "11700e3f",
   "metadata": {
    "scrolled": false
   },
   "outputs": [
    {
     "data": {
      "text/html": [
       "<div>\n",
       "<style scoped>\n",
       "    .dataframe tbody tr th:only-of-type {\n",
       "        vertical-align: middle;\n",
       "    }\n",
       "\n",
       "    .dataframe tbody tr th {\n",
       "        vertical-align: top;\n",
       "    }\n",
       "\n",
       "    .dataframe thead th {\n",
       "        text-align: right;\n",
       "    }\n",
       "</style>\n",
       "<table border=\"1\" class=\"dataframe\">\n",
       "  <thead>\n",
       "    <tr style=\"text-align: right;\">\n",
       "      <th></th>\n",
       "      <th>age</th>\n",
       "      <th>emp_count</th>\n",
       "    </tr>\n",
       "  </thead>\n",
       "  <tbody>\n",
       "    <tr>\n",
       "      <th>0</th>\n",
       "      <td>28</td>\n",
       "      <td>5</td>\n",
       "    </tr>\n",
       "    <tr>\n",
       "      <th>1</th>\n",
       "      <td>32</td>\n",
       "      <td>5</td>\n",
       "    </tr>\n",
       "    <tr>\n",
       "      <th>2</th>\n",
       "      <td>35</td>\n",
       "      <td>9</td>\n",
       "    </tr>\n",
       "    <tr>\n",
       "      <th>3</th>\n",
       "      <td>40</td>\n",
       "      <td>6</td>\n",
       "    </tr>\n",
       "    <tr>\n",
       "      <th>4</th>\n",
       "      <td>42</td>\n",
       "      <td>2</td>\n",
       "    </tr>\n",
       "    <tr>\n",
       "      <th>5</th>\n",
       "      <td>33</td>\n",
       "      <td>7</td>\n",
       "    </tr>\n",
       "    <tr>\n",
       "      <th>6</th>\n",
       "      <td>38</td>\n",
       "      <td>6</td>\n",
       "    </tr>\n",
       "    <tr>\n",
       "      <th>7</th>\n",
       "      <td>30</td>\n",
       "      <td>6</td>\n",
       "    </tr>\n",
       "    <tr>\n",
       "      <th>8</th>\n",
       "      <td>41</td>\n",
       "      <td>4</td>\n",
       "    </tr>\n",
       "    <tr>\n",
       "      <th>9</th>\n",
       "      <td>37</td>\n",
       "      <td>5</td>\n",
       "    </tr>\n",
       "    <tr>\n",
       "      <th>10</th>\n",
       "      <td>31</td>\n",
       "      <td>10</td>\n",
       "    </tr>\n",
       "    <tr>\n",
       "      <th>11</th>\n",
       "      <td>34</td>\n",
       "      <td>3</td>\n",
       "    </tr>\n",
       "    <tr>\n",
       "      <th>12</th>\n",
       "      <td>29</td>\n",
       "      <td>7</td>\n",
       "    </tr>\n",
       "    <tr>\n",
       "      <th>13</th>\n",
       "      <td>36</td>\n",
       "      <td>7</td>\n",
       "    </tr>\n",
       "    <tr>\n",
       "      <th>14</th>\n",
       "      <td>43</td>\n",
       "      <td>3</td>\n",
       "    </tr>\n",
       "    <tr>\n",
       "      <th>15</th>\n",
       "      <td>39</td>\n",
       "      <td>7</td>\n",
       "    </tr>\n",
       "    <tr>\n",
       "      <th>16</th>\n",
       "      <td>27</td>\n",
       "      <td>3</td>\n",
       "    </tr>\n",
       "    <tr>\n",
       "      <th>17</th>\n",
       "      <td>45</td>\n",
       "      <td>2</td>\n",
       "    </tr>\n",
       "    <tr>\n",
       "      <th>18</th>\n",
       "      <td>44</td>\n",
       "      <td>3</td>\n",
       "    </tr>\n",
       "  </tbody>\n",
       "</table>\n",
       "</div>"
      ],
      "text/plain": [
       "    age  emp_count\n",
       "0    28          5\n",
       "1    32          5\n",
       "2    35          9\n",
       "3    40          6\n",
       "4    42          2\n",
       "5    33          7\n",
       "6    38          6\n",
       "7    30          6\n",
       "8    41          4\n",
       "9    37          5\n",
       "10   31         10\n",
       "11   34          3\n",
       "12   29          7\n",
       "13   36          7\n",
       "14   43          3\n",
       "15   39          7\n",
       "16   27          3\n",
       "17   45          2\n",
       "18   44          3"
      ]
     },
     "execution_count": 140,
     "metadata": {},
     "output_type": "execute_result"
    }
   ],
   "source": [
    "# 1. Frequency Distribution: Create a frequency distribution table for the ages of the\n",
    "# employees.\n",
    "import pandas as pd\n",
    "import matplotlib.pyplot as plt\n",
    "import seaborn as sns\n",
    "\n",
    "def freq_dist(lst):\n",
    "    age_dict = {}\n",
    "\n",
    "    for i in lst:\n",
    "        if i not in age_dict:\n",
    "            age_dict[i] = 1\n",
    "        else:\n",
    "            age_dict[i] += 1\n",
    "    return age_dict\n",
    "freq = freq_dist(age)\n",
    "df = pd.DataFrame(list(freq.items()), columns=[\"age\", \"emp_count\"])\n",
    "df"
   ]
  },
  {
   "cell_type": "code",
   "execution_count": 152,
   "id": "fa78cc64",
   "metadata": {},
   "outputs": [
    {
     "data": {
      "text/plain": [
       "{31: 10}"
      ]
     },
     "execution_count": 152,
     "metadata": {},
     "output_type": "execute_result"
    }
   ],
   "source": [
    "# 2. Mode: What is the mode (most common age) among the employees?\n",
    "c_mode(age)"
   ]
  },
  {
   "cell_type": "code",
   "execution_count": 150,
   "id": "50fd2a10",
   "metadata": {},
   "outputs": [
    {
     "data": {
      "text/plain": [
       "37.5"
      ]
     },
     "execution_count": 150,
     "metadata": {},
     "output_type": "execute_result"
    }
   ],
   "source": [
    "# 3. Median: What is the median age of the employees?\n",
    "c_median(age)"
   ]
  },
  {
   "cell_type": "code",
   "execution_count": 151,
   "id": "b6e9b82f",
   "metadata": {},
   "outputs": [
    {
     "data": {
      "text/plain": [
       "18"
      ]
     },
     "execution_count": 151,
     "metadata": {},
     "output_type": "execute_result"
    }
   ],
   "source": [
    "#4. Range: What is the range of ages among the employees?\n",
    "c_range(age)"
   ]
  },
  {
   "cell_type": "code",
   "execution_count": 154,
   "id": "b5c86f47",
   "metadata": {},
   "outputs": [],
   "source": [
    "# 9) Problem :A retail store wants to analyze the purchase amounts made by\n",
    "# customers to understand their spending habits.\n",
    "# Data:\n",
    "# Let's consider the purchase amounts (in dollars) for a sample of 50 customers:\n",
    "# 56, 40, 28, 73, 52, 61, 35, 40, 47, 65,\n",
    "# 52, 44, 38, 60, 56, 40, 36, 49, 68, 57,\n",
    "# 52, 63, 41, 48, 55, 42, 39, 58, 62, 49,\n",
    "# 59, 45, 47, 51, 65, 41, 48, 55, 42, 39,\n",
    "# 58, 62, 49, 59, 45, 47, 51, 65, 43, 58\n",
    "# Questions:\n",
    "# 1. Frequency Distribution: Create a frequency distribution table for the purchase\n",
    "# amounts.\n",
    "# 2. Mode: What is the mode (most common purchase amount) among the customers?\n",
    "# 3. Median: What is the median purchase amount among the customers?\n",
    "# 4. Interquartile Range: What is the interquartile range of the purchase amounts?\n",
    "# By answering these questions using frequency distribution and other measures, the retail\n",
    "# store can gain insights into the spending habits of its customers, identify the most\n",
    "# common purchase amount\n",
    "\n",
    "spends = [56, 40, 28, 73, 52, 61, 35, 40, 47, 65,\n",
    "52, 44, 38, 60, 56, 40, 36, 49, 68, 57,\n",
    "52, 63, 41, 48, 55, 42, 39, 58, 62, 49,\n",
    "59, 45, 47, 51, 65, 41, 48, 55, 42, 39,\n",
    "58, 62, 49, 59, 45, 47, 51, 65, 43, 58]"
   ]
  },
  {
   "cell_type": "code",
   "execution_count": 155,
   "id": "8e95f3db",
   "metadata": {
    "scrolled": true
   },
   "outputs": [
    {
     "data": {
      "text/plain": [
       "{56: 2,\n",
       " 40: 3,\n",
       " 28: 1,\n",
       " 73: 1,\n",
       " 52: 3,\n",
       " 61: 1,\n",
       " 35: 1,\n",
       " 47: 3,\n",
       " 65: 3,\n",
       " 44: 1,\n",
       " 38: 1,\n",
       " 60: 1,\n",
       " 36: 1,\n",
       " 49: 3,\n",
       " 68: 1,\n",
       " 57: 1,\n",
       " 63: 1,\n",
       " 41: 2,\n",
       " 48: 2,\n",
       " 55: 2,\n",
       " 42: 2,\n",
       " 39: 2,\n",
       " 58: 3,\n",
       " 62: 2,\n",
       " 59: 2,\n",
       " 45: 2,\n",
       " 51: 2,\n",
       " 43: 1}"
      ]
     },
     "execution_count": 155,
     "metadata": {},
     "output_type": "execute_result"
    }
   ],
   "source": [
    "# 1. Frequency Distribution: Create a frequency distribution table for the purchase\n",
    "# amounts.\n",
    "freq_dist(spends)"
   ]
  },
  {
   "cell_type": "code",
   "execution_count": 156,
   "id": "063791e7",
   "metadata": {},
   "outputs": [
    {
     "data": {
      "text/plain": [
       "{40: 3, 52: 3, 47: 3, 65: 3, 49: 3, 58: 3}"
      ]
     },
     "execution_count": 156,
     "metadata": {},
     "output_type": "execute_result"
    }
   ],
   "source": [
    "#2. Mode: What is the mode (most common purchase amount) among the customers?\n",
    "c_mode(spends)"
   ]
  },
  {
   "cell_type": "code",
   "execution_count": 157,
   "id": "15c61a5c",
   "metadata": {},
   "outputs": [
    {
     "data": {
      "text/plain": [
       "48.5"
      ]
     },
     "execution_count": 157,
     "metadata": {},
     "output_type": "execute_result"
    }
   ],
   "source": [
    "# 3. Median: What is the median purchase amount among the customers?\n",
    "c_median(spends)"
   ]
  },
  {
   "cell_type": "code",
   "execution_count": 159,
   "id": "5c39281b",
   "metadata": {},
   "outputs": [
    {
     "data": {
      "text/plain": [
       "15.75"
      ]
     },
     "execution_count": 159,
     "metadata": {},
     "output_type": "execute_result"
    }
   ],
   "source": [
    "#4. Interquartile Range: What is the interquartile range of the purchase amounts?\n",
    "import numpy as np\n",
    "def c_iqr(lst):\n",
    "    q1 = np.percentile(lst, 25)\n",
    "    q3 = np.percentile(lst, 75)\n",
    "    iqr = q3-q1\n",
    "    return iqr\n",
    "c_iqr(spends)"
   ]
  },
  {
   "cell_type": "code",
   "execution_count": 161,
   "id": "7d1e0980",
   "metadata": {
    "scrolled": true
   },
   "outputs": [
    {
     "data": {
      "text/html": [
       "<div>\n",
       "<style scoped>\n",
       "    .dataframe tbody tr th:only-of-type {\n",
       "        vertical-align: middle;\n",
       "    }\n",
       "\n",
       "    .dataframe tbody tr th {\n",
       "        vertical-align: top;\n",
       "    }\n",
       "\n",
       "    .dataframe thead th {\n",
       "        text-align: right;\n",
       "    }\n",
       "</style>\n",
       "<table border=\"1\" class=\"dataframe\">\n",
       "  <thead>\n",
       "    <tr style=\"text-align: right;\">\n",
       "      <th></th>\n",
       "      <th>Defect Type</th>\n",
       "      <th>Frequency</th>\n",
       "    </tr>\n",
       "  </thead>\n",
       "  <tbody>\n",
       "    <tr>\n",
       "      <th>0</th>\n",
       "      <td>A</td>\n",
       "      <td>30</td>\n",
       "    </tr>\n",
       "    <tr>\n",
       "      <th>1</th>\n",
       "      <td>B</td>\n",
       "      <td>40</td>\n",
       "    </tr>\n",
       "    <tr>\n",
       "      <th>2</th>\n",
       "      <td>C</td>\n",
       "      <td>20</td>\n",
       "    </tr>\n",
       "    <tr>\n",
       "      <th>3</th>\n",
       "      <td>D</td>\n",
       "      <td>10</td>\n",
       "    </tr>\n",
       "    <tr>\n",
       "      <th>4</th>\n",
       "      <td>E</td>\n",
       "      <td>45</td>\n",
       "    </tr>\n",
       "    <tr>\n",
       "      <th>5</th>\n",
       "      <td>F</td>\n",
       "      <td>25</td>\n",
       "    </tr>\n",
       "    <tr>\n",
       "      <th>6</th>\n",
       "      <td>G</td>\n",
       "      <td>30</td>\n",
       "    </tr>\n",
       "  </tbody>\n",
       "</table>\n",
       "</div>"
      ],
      "text/plain": [
       "  Defect Type  Frequency\n",
       "0           A         30\n",
       "1           B         40\n",
       "2           C         20\n",
       "3           D         10\n",
       "4           E         45\n",
       "5           F         25\n",
       "6           G         30"
      ]
     },
     "execution_count": 161,
     "metadata": {},
     "output_type": "execute_result"
    }
   ],
   "source": [
    "# 10) Problem : A manufacturing company wants to analyze the defect rates of its\n",
    "# production line to identify the frequency of different types of defects.\n",
    "# Data:\n",
    "# Let's consider the types of defects and their corresponding frequencies observed in a\n",
    "# sample of 200 products:\n",
    "# Defect Type: A, B, C, D, E, F, G\n",
    "# Frequency: 30, 40, 20, 10, 45, 25, 30\n",
    "# Questions:\n",
    "# 1. Bar Chart: Create a bar chart to visualize the frequency of different defect types.\n",
    "# 2. Most Common Defect: Which defect type has the highest frequency?\n",
    "# 3. Histogram: Create a histogram to represent the defect frequencies.\n",
    "# By answering these questions using a bar chart and histogram, the manufacturing\n",
    "# company can visually understand the distribution of defect types, identify the most\n",
    "# common defect, and prioritize quality control efforts to address the prevalent issues.\n",
    "\n",
    "def_df = pd.DataFrame({\"Defect Type\": [\"A\", \"B\", \"C\", \"D\", \"E\", \"F\", \"G\"],\n",
    "                       \"Frequency\": [30, 40, 20, 10, 45, 25, 30]})\n",
    "def_df"
   ]
  },
  {
   "cell_type": "code",
   "execution_count": 164,
   "id": "c4d5a318",
   "metadata": {
    "scrolled": true
   },
   "outputs": [
    {
     "data": {
      "text/plain": [
       "<BarContainer object of 7 artists>"
      ]
     },
     "execution_count": 164,
     "metadata": {},
     "output_type": "execute_result"
    },
    {
     "data": {
      "image/png": "[encoded data removed]",
      "text/plain": [
       "<Figure size 432x288 with 1 Axes>"
      ]
     },
     "metadata": {
      "needs_background": "light"
     },
     "output_type": "display_data"
    }
   ],
   "source": [
    "plt.bar(def_df[\"Defect Type\"], def_df[\"Frequency\"])"
   ]
  },
  {
   "cell_type": "code",
   "execution_count": 167,
   "id": "a1dd4885",
   "metadata": {},
   "outputs": [
    {
     "data": {
      "text/plain": [
       "{30: 2}"
      ]
     },
     "execution_count": 167,
     "metadata": {},
     "output_type": "execute_result"
    }
   ],
   "source": [
    "c_mode(def_df[\"Frequency\"])"
   ]
  },
  {
   "cell_type": "code",
   "execution_count": 171,
   "id": "42bbe267",
   "metadata": {
    "scrolled": true
   },
   "outputs": [
    {
     "data": {
      "text/plain": [
       "<AxesSubplot:xlabel='Frequency', ylabel='Count'>"
      ]
     },
     "execution_count": 171,
     "metadata": {},
     "output_type": "execute_result"
    },
    {
     "data": {
      "image/png": "[encoded data removed]",
      "text/plain": [
       "<Figure size 432x288 with 1 Axes>"
      ]
     },
     "metadata": {
      "needs_background": "light"
     },
     "output_type": "display_data"
    }
   ],
   "source": [
    "sns.histplot(def_df[\"Frequency\"], bins=3)"
   ]
  },
  {
   "cell_type": "code",
   "execution_count": null,
   "id": "e3bc4c32",
   "metadata": {},
   "outputs": [],
   "source": []
  }
 ],
 "metadata": {
  "kernelspec": {
   "display_name": "Python 3 (ipykernel)",
   "language": "python",
   "name": "python3"
  },
  "language_info": {
   "codemirror_mode": {
    "name": "ipython",
    "version": 3
   },
   "file_extension": ".py",
   "mimetype": "text/x-python",
   "name": "python",
   "nbconvert_exporter": "python",
   "pygments_lexer": "ipython3",
   "version": "3.9.12"
  }
 },
 "nbformat": 4,
 "nbformat_minor": 5
}
