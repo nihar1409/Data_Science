{
  "nbformat": 4,
  "nbformat_minor": 0,
  "metadata": {
    "colab": {
      "provenance": []
    },
    "kernelspec": {
      "name": "python3",
      "display_name": "Python 3"
    },
    "language_info": {
      "name": "python"
    }
  },
  "cells": [
    {
      "cell_type": "code",
      "source": [
        "#Fashion Mnistb"
      ],
      "metadata": {
        "id": "-CjYyFY7ey65"
      },
      "execution_count": 4,
      "outputs": []
    },
    {
      "cell_type": "code",
      "source": [
        "!mkdir -p ~/.kaggle\n",
        "!cp kaggle.json ~/.kaggle\n",
        "!kaggle datasets download -d zalando-research/fashionmnist"
      ],
      "metadata": {
        "colab": {
          "base_uri": "https://localhost:8080/"
        },
        "id": "xBjAkxZtay_h",
        "outputId": "9cf73c39-a213-4f59-8206-f4bd0eab2166"
      },
      "execution_count": 5,
      "outputs": [
        {
          "output_type": "stream",
          "name": "stdout",
          "text": [
            "Warning: Your Kaggle API key is readable by other users on this system! To fix this, you can run 'chmod 600 /root/.kaggle/kaggle.json'\n",
            "Downloading fashionmnist.zip to /content\n",
            " 92% 63.0M/68.8M [00:00<00:00, 174MB/s]\n",
            "100% 68.8M/68.8M [00:00<00:00, 159MB/s]\n"
          ]
        }
      ]
    },
    {
      "cell_type": "code",
      "source": [
        "import zipfile\n",
        "zr = zipfile.ZipFile(\"/content/fashionmnist.zip\", \"r\")\n",
        "zr.extractall()\n",
        "zr.close()"
      ],
      "metadata": {
        "id": "Akz_2T4kbmOJ"
      },
      "execution_count": 6,
      "outputs": []
    },
    {
      "cell_type": "code",
      "source": [
        "import tensorflow as tf\n",
        "import pandas as pd\n",
        "import numpy as np\n",
        "import matplotlib.pyplot as plt"
      ],
      "metadata": {
        "id": "lmRWm73i2E25"
      },
      "execution_count": 2,
      "outputs": []
    },
    {
      "cell_type": "code",
      "source": [
        "#train data\n",
        "train = pd.read_csv(\"/content/fashion-mnist_train.csv\")"
      ],
      "metadata": {
        "id": "0SFBae6p81C5"
      },
      "execution_count": 8,
      "outputs": []
    },
    {
      "cell_type": "code",
      "source": [
        "#test data\n",
        "test = pd.read_csv(\"/content/fashion-mnist_test.csv\")"
      ],
      "metadata": {
        "id": "vQK2D1SgVwn8"
      },
      "execution_count": 9,
      "outputs": []
    },
    {
      "cell_type": "code",
      "source": [
        "train.head()"
      ],
      "metadata": {
        "colab": {
          "base_uri": "https://localhost:8080/",
          "height": 255
        },
        "id": "nWv9_LqYWElz",
        "outputId": "cb0991ea-1bf7-4f51-a3ac-954b867f2b0a"
      },
      "execution_count": 10,
      "outputs": [
        {
          "output_type": "execute_result",
          "data": {
            "text/plain": [
              "   label  pixel1  pixel2  pixel3  pixel4  pixel5  pixel6  pixel7  pixel8  \\\n",
              "0      2       0       0       0       0       0       0       0       0   \n",
              "1      9       0       0       0       0       0       0       0       0   \n",
              "2      6       0       0       0       0       0       0       0       5   \n",
              "3      0       0       0       0       1       2       0       0       0   \n",
              "4      3       0       0       0       0       0       0       0       0   \n",
              "\n",
              "   pixel9  ...  pixel775  pixel776  pixel777  pixel778  pixel779  pixel780  \\\n",
              "0       0  ...         0         0         0         0         0         0   \n",
              "1       0  ...         0         0         0         0         0         0   \n",
              "2       0  ...         0         0         0        30        43         0   \n",
              "3       0  ...         3         0         0         0         0         1   \n",
              "4       0  ...         0         0         0         0         0         0   \n",
              "\n",
              "   pixel781  pixel782  pixel783  pixel784  \n",
              "0         0         0         0         0  \n",
              "1         0         0         0         0  \n",
              "2         0         0         0         0  \n",
              "3         0         0         0         0  \n",
              "4         0         0         0         0  \n",
              "\n",
              "[5 rows x 785 columns]"
            ],
            "text/html": [
              "\n",
              "  <div id=\"df-269d3d69-ab3d-4f52-a6b9-27348a834b43\" class=\"colab-df-container\">\n",
              "    <div>\n",
              "<style scoped>\n",
              "    .dataframe tbody tr th:only-of-type {\n",
              "        vertical-align: middle;\n",
              "    }\n",
              "\n",
              "    .dataframe tbody tr th {\n",
              "        vertical-align: top;\n",
              "    }\n",
              "\n",
              "    .dataframe thead th {\n",
              "        text-align: right;\n",
              "    }\n",
              "</style>\n",
              "<table border=\"1\" class=\"dataframe\">\n",
              "  <thead>\n",
              "    <tr style=\"text-align: right;\">\n",
              "      <th></th>\n",
              "      <th>label</th>\n",
              "      <th>pixel1</th>\n",
              "      <th>pixel2</th>\n",
              "      <th>pixel3</th>\n",
              "      <th>pixel4</th>\n",
              "      <th>pixel5</th>\n",
              "      <th>pixel6</th>\n",
              "      <th>pixel7</th>\n",
              "      <th>pixel8</th>\n",
              "      <th>pixel9</th>\n",
              "      <th>...</th>\n",
              "      <th>pixel775</th>\n",
              "      <th>pixel776</th>\n",
              "      <th>pixel777</th>\n",
              "      <th>pixel778</th>\n",
              "      <th>pixel779</th>\n",
              "      <th>pixel780</th>\n",
              "      <th>pixel781</th>\n",
              "      <th>pixel782</th>\n",
              "      <th>pixel783</th>\n",
              "      <th>pixel784</th>\n",
              "    </tr>\n",
              "  </thead>\n",
              "  <tbody>\n",
              "    <tr>\n",
              "      <th>0</th>\n",
              "      <td>2</td>\n",
              "      <td>0</td>\n",
              "      <td>0</td>\n",
              "      <td>0</td>\n",
              "      <td>0</td>\n",
              "      <td>0</td>\n",
              "      <td>0</td>\n",
              "      <td>0</td>\n",
              "      <td>0</td>\n",
              "      <td>0</td>\n",
              "      <td>...</td>\n",
              "      <td>0</td>\n",
              "      <td>0</td>\n",
              "      <td>0</td>\n",
              "      <td>0</td>\n",
              "      <td>0</td>\n",
              "      <td>0</td>\n",
              "      <td>0</td>\n",
              "      <td>0</td>\n",
              "      <td>0</td>\n",
              "      <td>0</td>\n",
              "    </tr>\n",
              "    <tr>\n",
              "      <th>1</th>\n",
              "      <td>9</td>\n",
              "      <td>0</td>\n",
              "      <td>0</td>\n",
              "      <td>0</td>\n",
              "      <td>0</td>\n",
              "      <td>0</td>\n",
              "      <td>0</td>\n",
              "      <td>0</td>\n",
              "      <td>0</td>\n",
              "      <td>0</td>\n",
              "      <td>...</td>\n",
              "      <td>0</td>\n",
              "      <td>0</td>\n",
              "      <td>0</td>\n",
              "      <td>0</td>\n",
              "      <td>0</td>\n",
              "      <td>0</td>\n",
              "      <td>0</td>\n",
              "      <td>0</td>\n",
              "      <td>0</td>\n",
              "      <td>0</td>\n",
              "    </tr>\n",
              "    <tr>\n",
              "      <th>2</th>\n",
              "      <td>6</td>\n",
              "      <td>0</td>\n",
              "      <td>0</td>\n",
              "      <td>0</td>\n",
              "      <td>0</td>\n",
              "      <td>0</td>\n",
              "      <td>0</td>\n",
              "      <td>0</td>\n",
              "      <td>5</td>\n",
              "      <td>0</td>\n",
              "      <td>...</td>\n",
              "      <td>0</td>\n",
              "      <td>0</td>\n",
              "      <td>0</td>\n",
              "      <td>30</td>\n",
              "      <td>43</td>\n",
              "      <td>0</td>\n",
              "      <td>0</td>\n",
              "      <td>0</td>\n",
              "      <td>0</td>\n",
              "      <td>0</td>\n",
              "    </tr>\n",
              "    <tr>\n",
              "      <th>3</th>\n",
              "      <td>0</td>\n",
              "      <td>0</td>\n",
              "      <td>0</td>\n",
              "      <td>0</td>\n",
              "      <td>1</td>\n",
              "      <td>2</td>\n",
              "      <td>0</td>\n",
              "      <td>0</td>\n",
              "      <td>0</td>\n",
              "      <td>0</td>\n",
              "      <td>...</td>\n",
              "      <td>3</td>\n",
              "      <td>0</td>\n",
              "      <td>0</td>\n",
              "      <td>0</td>\n",
              "      <td>0</td>\n",
              "      <td>1</td>\n",
              "      <td>0</td>\n",
              "      <td>0</td>\n",
              "      <td>0</td>\n",
              "      <td>0</td>\n",
              "    </tr>\n",
              "    <tr>\n",
              "      <th>4</th>\n",
              "      <td>3</td>\n",
              "      <td>0</td>\n",
              "      <td>0</td>\n",
              "      <td>0</td>\n",
              "      <td>0</td>\n",
              "      <td>0</td>\n",
              "      <td>0</td>\n",
              "      <td>0</td>\n",
              "      <td>0</td>\n",
              "      <td>0</td>\n",
              "      <td>...</td>\n",
              "      <td>0</td>\n",
              "      <td>0</td>\n",
              "      <td>0</td>\n",
              "      <td>0</td>\n",
              "      <td>0</td>\n",
              "      <td>0</td>\n",
              "      <td>0</td>\n",
              "      <td>0</td>\n",
              "      <td>0</td>\n",
              "      <td>0</td>\n",
              "    </tr>\n",
              "  </tbody>\n",
              "</table>\n",
              "<p>5 rows × 785 columns</p>\n",
              "</div>\n",
              "    <div class=\"colab-df-buttons\">\n",
              "\n",
              "  <div class=\"colab-df-container\">\n",
              "    <button class=\"colab-df-convert\" onclick=\"convertToInteractive('df-269d3d69-ab3d-4f52-a6b9-27348a834b43')\"\n",
              "            title=\"Convert this dataframe to an interactive table.\"\n",
              "            style=\"display:none;\">\n",
              "\n",
              "  <svg xmlns=\"http://www.w3.org/2000/svg\" height=\"24px\" viewBox=\"0 -960 960 960\">\n",
              "    <path d=\"M120-120v-720h720v720H120Zm60-500h600v-160H180v160Zm220 220h160v-160H400v160Zm0 220h160v-160H400v160ZM180-400h160v-160H180v160Zm440 0h160v-160H620v160ZM180-180h160v-160H180v160Zm440 0h160v-160H620v160Z\"/>\n",
              "  </svg>\n",
              "    </button>\n",
              "\n",
              "  <style>\n",
              "    .colab-df-container {\n",
              "      display:flex;\n",
              "      gap: 12px;\n",
              "    }\n",
              "\n",
              "    .colab-df-convert {\n",
              "      background-color: #E8F0FE;\n",
              "      border: none;\n",
              "      border-radius: 50%;\n",
              "      cursor: pointer;\n",
              "      display: none;\n",
              "      fill: #1967D2;\n",
              "      height: 32px;\n",
              "      padding: 0 0 0 0;\n",
              "      width: 32px;\n",
              "    }\n",
              "\n",
              "    .colab-df-convert:hover {\n",
              "      background-color: #E2EBFA;\n",
              "      box-shadow: 0px 1px 2px rgba(60, 64, 67, 0.3), 0px 1px 3px 1px rgba(60, 64, 67, 0.15);\n",
              "      fill: #174EA6;\n",
              "    }\n",
              "\n",
              "    .colab-df-buttons div {\n",
              "      margin-bottom: 4px;\n",
              "    }\n",
              "\n",
              "    [theme=dark] .colab-df-convert {\n",
              "      background-color: #3B4455;\n",
              "      fill: #D2E3FC;\n",
              "    }\n",
              "\n",
              "    [theme=dark] .colab-df-convert:hover {\n",
              "      background-color: #434B5C;\n",
              "      box-shadow: 0px 1px 3px 1px rgba(0, 0, 0, 0.15);\n",
              "      filter: drop-shadow(0px 1px 2px rgba(0, 0, 0, 0.3));\n",
              "      fill: #FFFFFF;\n",
              "    }\n",
              "  </style>\n",
              "\n",
              "    <script>\n",
              "      const buttonEl =\n",
              "        document.querySelector('#df-269d3d69-ab3d-4f52-a6b9-27348a834b43 button.colab-df-convert');\n",
              "      buttonEl.style.display =\n",
              "        google.colab.kernel.accessAllowed ? 'block' : 'none';\n",
              "\n",
              "      async function convertToInteractive(key) {\n",
              "        const element = document.querySelector('#df-269d3d69-ab3d-4f52-a6b9-27348a834b43');\n",
              "        const dataTable =\n",
              "          await google.colab.kernel.invokeFunction('convertToInteractive',\n",
              "                                                    [key], {});\n",
              "        if (!dataTable) return;\n",
              "\n",
              "        const docLinkHtml = 'Like what you see? Visit the ' +\n",
              "          '<a target=\"_blank\" href=https://colab.research.google.com/notebooks/data_table.ipynb>data table notebook</a>'\n",
              "          + ' to learn more about interactive tables.';\n",
              "        element.innerHTML = '';\n",
              "        dataTable['output_type'] = 'display_data';\n",
              "        await google.colab.output.renderOutput(dataTable, element);\n",
              "        const docLink = document.createElement('div');\n",
              "        docLink.innerHTML = docLinkHtml;\n",
              "        element.appendChild(docLink);\n",
              "      }\n",
              "    </script>\n",
              "  </div>\n",
              "\n",
              "\n",
              "<div id=\"df-a5d556ec-f2c1-426d-b767-08e790b06f81\">\n",
              "  <button class=\"colab-df-quickchart\" onclick=\"quickchart('df-a5d556ec-f2c1-426d-b767-08e790b06f81')\"\n",
              "            title=\"Suggest charts\"\n",
              "            style=\"display:none;\">\n",
              "\n",
              "<svg xmlns=\"http://www.w3.org/2000/svg\" height=\"24px\"viewBox=\"0 0 24 24\"\n",
              "     width=\"24px\">\n",
              "    <g>\n",
              "        <path d=\"M19 3H5c-1.1 0-2 .9-2 2v14c0 1.1.9 2 2 2h14c1.1 0 2-.9 2-2V5c0-1.1-.9-2-2-2zM9 17H7v-7h2v7zm4 0h-2V7h2v10zm4 0h-2v-4h2v4z\"/>\n",
              "    </g>\n",
              "</svg>\n",
              "  </button>\n",
              "\n",
              "<style>\n",
              "  .colab-df-quickchart {\n",
              "      --bg-color: #E8F0FE;\n",
              "      --fill-color: #1967D2;\n",
              "      --hover-bg-color: #E2EBFA;\n",
              "      --hover-fill-color: #174EA6;\n",
              "      --disabled-fill-color: #AAA;\n",
              "      --disabled-bg-color: #DDD;\n",
              "  }\n",
              "\n",
              "  [theme=dark] .colab-df-quickchart {\n",
              "      --bg-color: #3B4455;\n",
              "      --fill-color: #D2E3FC;\n",
              "      --hover-bg-color: #434B5C;\n",
              "      --hover-fill-color: #FFFFFF;\n",
              "      --disabled-bg-color: #3B4455;\n",
              "      --disabled-fill-color: #666;\n",
              "  }\n",
              "\n",
              "  .colab-df-quickchart {\n",
              "    background-color: var(--bg-color);\n",
              "    border: none;\n",
              "    border-radius: 50%;\n",
              "    cursor: pointer;\n",
              "    display: none;\n",
              "    fill: var(--fill-color);\n",
              "    height: 32px;\n",
              "    padding: 0;\n",
              "    width: 32px;\n",
              "  }\n",
              "\n",
              "  .colab-df-quickchart:hover {\n",
              "    background-color: var(--hover-bg-color);\n",
              "    box-shadow: 0 1px 2px rgba(60, 64, 67, 0.3), 0 1px 3px 1px rgba(60, 64, 67, 0.15);\n",
              "    fill: var(--button-hover-fill-color);\n",
              "  }\n",
              "\n",
              "  .colab-df-quickchart-complete:disabled,\n",
              "  .colab-df-quickchart-complete:disabled:hover {\n",
              "    background-color: var(--disabled-bg-color);\n",
              "    fill: var(--disabled-fill-color);\n",
              "    box-shadow: none;\n",
              "  }\n",
              "\n",
              "  .colab-df-spinner {\n",
              "    border: 2px solid var(--fill-color);\n",
              "    border-color: transparent;\n",
              "    border-bottom-color: var(--fill-color);\n",
              "    animation:\n",
              "      spin 1s steps(1) infinite;\n",
              "  }\n",
              "\n",
              "  @keyframes spin {\n",
              "    0% {\n",
              "      border-color: transparent;\n",
              "      border-bottom-color: var(--fill-color);\n",
              "      border-left-color: var(--fill-color);\n",
              "    }\n",
              "    20% {\n",
              "      border-color: transparent;\n",
              "      border-left-color: var(--fill-color);\n",
              "      border-top-color: var(--fill-color);\n",
              "    }\n",
              "    30% {\n",
              "      border-color: transparent;\n",
              "      border-left-color: var(--fill-color);\n",
              "      border-top-color: var(--fill-color);\n",
              "      border-right-color: var(--fill-color);\n",
              "    }\n",
              "    40% {\n",
              "      border-color: transparent;\n",
              "      border-right-color: var(--fill-color);\n",
              "      border-top-color: var(--fill-color);\n",
              "    }\n",
              "    60% {\n",
              "      border-color: transparent;\n",
              "      border-right-color: var(--fill-color);\n",
              "    }\n",
              "    80% {\n",
              "      border-color: transparent;\n",
              "      border-right-color: var(--fill-color);\n",
              "      border-bottom-color: var(--fill-color);\n",
              "    }\n",
              "    90% {\n",
              "      border-color: transparent;\n",
              "      border-bottom-color: var(--fill-color);\n",
              "    }\n",
              "  }\n",
              "</style>\n",
              "\n",
              "  <script>\n",
              "    async function quickchart(key) {\n",
              "      const quickchartButtonEl =\n",
              "        document.querySelector('#' + key + ' button');\n",
              "      quickchartButtonEl.disabled = true;  // To prevent multiple clicks.\n",
              "      quickchartButtonEl.classList.add('colab-df-spinner');\n",
              "      try {\n",
              "        const charts = await google.colab.kernel.invokeFunction(\n",
              "            'suggestCharts', [key], {});\n",
              "      } catch (error) {\n",
              "        console.error('Error during call to suggestCharts:', error);\n",
              "      }\n",
              "      quickchartButtonEl.classList.remove('colab-df-spinner');\n",
              "      quickchartButtonEl.classList.add('colab-df-quickchart-complete');\n",
              "    }\n",
              "    (() => {\n",
              "      let quickchartButtonEl =\n",
              "        document.querySelector('#df-a5d556ec-f2c1-426d-b767-08e790b06f81 button');\n",
              "      quickchartButtonEl.style.display =\n",
              "        google.colab.kernel.accessAllowed ? 'block' : 'none';\n",
              "    })();\n",
              "  </script>\n",
              "</div>\n",
              "\n",
              "    </div>\n",
              "  </div>\n"
            ]
          },
          "metadata": {},
          "execution_count": 10
        }
      ]
    },
    {
      "cell_type": "code",
      "source": [
        "test.head()"
      ],
      "metadata": {
        "colab": {
          "base_uri": "https://localhost:8080/",
          "height": 255
        },
        "id": "VUET0CAuWN07",
        "outputId": "957bb215-4464-4d81-e72c-48fb2c952428"
      },
      "execution_count": 11,
      "outputs": [
        {
          "output_type": "execute_result",
          "data": {
            "text/plain": [
              "   label  pixel1  pixel2  pixel3  pixel4  pixel5  pixel6  pixel7  pixel8  \\\n",
              "0      0       0       0       0       0       0       0       0       9   \n",
              "1      1       0       0       0       0       0       0       0       0   \n",
              "2      2       0       0       0       0       0       0      14      53   \n",
              "3      2       0       0       0       0       0       0       0       0   \n",
              "4      3       0       0       0       0       0       0       0       0   \n",
              "\n",
              "   pixel9  ...  pixel775  pixel776  pixel777  pixel778  pixel779  pixel780  \\\n",
              "0       8  ...       103        87        56         0         0         0   \n",
              "1       0  ...        34         0         0         0         0         0   \n",
              "2      99  ...         0         0         0         0        63        53   \n",
              "3       0  ...       137       126       140         0       133       224   \n",
              "4       0  ...         0         0         0         0         0         0   \n",
              "\n",
              "   pixel781  pixel782  pixel783  pixel784  \n",
              "0         0         0         0         0  \n",
              "1         0         0         0         0  \n",
              "2        31         0         0         0  \n",
              "3       222        56         0         0  \n",
              "4         0         0         0         0  \n",
              "\n",
              "[5 rows x 785 columns]"
            ],
            "text/html": [
              "\n",
              "  <div id=\"df-865af9d7-e423-467f-b682-abc18cd3a236\" class=\"colab-df-container\">\n",
              "    <div>\n",
              "<style scoped>\n",
              "    .dataframe tbody tr th:only-of-type {\n",
              "        vertical-align: middle;\n",
              "    }\n",
              "\n",
              "    .dataframe tbody tr th {\n",
              "        vertical-align: top;\n",
              "    }\n",
              "\n",
              "    .dataframe thead th {\n",
              "        text-align: right;\n",
              "    }\n",
              "</style>\n",
              "<table border=\"1\" class=\"dataframe\">\n",
              "  <thead>\n",
              "    <tr style=\"text-align: right;\">\n",
              "      <th></th>\n",
              "      <th>label</th>\n",
              "      <th>pixel1</th>\n",
              "      <th>pixel2</th>\n",
              "      <th>pixel3</th>\n",
              "      <th>pixel4</th>\n",
              "      <th>pixel5</th>\n",
              "      <th>pixel6</th>\n",
              "      <th>pixel7</th>\n",
              "      <th>pixel8</th>\n",
              "      <th>pixel9</th>\n",
              "      <th>...</th>\n",
              "      <th>pixel775</th>\n",
              "      <th>pixel776</th>\n",
              "      <th>pixel777</th>\n",
              "      <th>pixel778</th>\n",
              "      <th>pixel779</th>\n",
              "      <th>pixel780</th>\n",
              "      <th>pixel781</th>\n",
              "      <th>pixel782</th>\n",
              "      <th>pixel783</th>\n",
              "      <th>pixel784</th>\n",
              "    </tr>\n",
              "  </thead>\n",
              "  <tbody>\n",
              "    <tr>\n",
              "      <th>0</th>\n",
              "      <td>0</td>\n",
              "      <td>0</td>\n",
              "      <td>0</td>\n",
              "      <td>0</td>\n",
              "      <td>0</td>\n",
              "      <td>0</td>\n",
              "      <td>0</td>\n",
              "      <td>0</td>\n",
              "      <td>9</td>\n",
              "      <td>8</td>\n",
              "      <td>...</td>\n",
              "      <td>103</td>\n",
              "      <td>87</td>\n",
              "      <td>56</td>\n",
              "      <td>0</td>\n",
              "      <td>0</td>\n",
              "      <td>0</td>\n",
              "      <td>0</td>\n",
              "      <td>0</td>\n",
              "      <td>0</td>\n",
              "      <td>0</td>\n",
              "    </tr>\n",
              "    <tr>\n",
              "      <th>1</th>\n",
              "      <td>1</td>\n",
              "      <td>0</td>\n",
              "      <td>0</td>\n",
              "      <td>0</td>\n",
              "      <td>0</td>\n",
              "      <td>0</td>\n",
              "      <td>0</td>\n",
              "      <td>0</td>\n",
              "      <td>0</td>\n",
              "      <td>0</td>\n",
              "      <td>...</td>\n",
              "      <td>34</td>\n",
              "      <td>0</td>\n",
              "      <td>0</td>\n",
              "      <td>0</td>\n",
              "      <td>0</td>\n",
              "      <td>0</td>\n",
              "      <td>0</td>\n",
              "      <td>0</td>\n",
              "      <td>0</td>\n",
              "      <td>0</td>\n",
              "    </tr>\n",
              "    <tr>\n",
              "      <th>2</th>\n",
              "      <td>2</td>\n",
              "      <td>0</td>\n",
              "      <td>0</td>\n",
              "      <td>0</td>\n",
              "      <td>0</td>\n",
              "      <td>0</td>\n",
              "      <td>0</td>\n",
              "      <td>14</td>\n",
              "      <td>53</td>\n",
              "      <td>99</td>\n",
              "      <td>...</td>\n",
              "      <td>0</td>\n",
              "      <td>0</td>\n",
              "      <td>0</td>\n",
              "      <td>0</td>\n",
              "      <td>63</td>\n",
              "      <td>53</td>\n",
              "      <td>31</td>\n",
              "      <td>0</td>\n",
              "      <td>0</td>\n",
              "      <td>0</td>\n",
              "    </tr>\n",
              "    <tr>\n",
              "      <th>3</th>\n",
              "      <td>2</td>\n",
              "      <td>0</td>\n",
              "      <td>0</td>\n",
              "      <td>0</td>\n",
              "      <td>0</td>\n",
              "      <td>0</td>\n",
              "      <td>0</td>\n",
              "      <td>0</td>\n",
              "      <td>0</td>\n",
              "      <td>0</td>\n",
              "      <td>...</td>\n",
              "      <td>137</td>\n",
              "      <td>126</td>\n",
              "      <td>140</td>\n",
              "      <td>0</td>\n",
              "      <td>133</td>\n",
              "      <td>224</td>\n",
              "      <td>222</td>\n",
              "      <td>56</td>\n",
              "      <td>0</td>\n",
              "      <td>0</td>\n",
              "    </tr>\n",
              "    <tr>\n",
              "      <th>4</th>\n",
              "      <td>3</td>\n",
              "      <td>0</td>\n",
              "      <td>0</td>\n",
              "      <td>0</td>\n",
              "      <td>0</td>\n",
              "      <td>0</td>\n",
              "      <td>0</td>\n",
              "      <td>0</td>\n",
              "      <td>0</td>\n",
              "      <td>0</td>\n",
              "      <td>...</td>\n",
              "      <td>0</td>\n",
              "      <td>0</td>\n",
              "      <td>0</td>\n",
              "      <td>0</td>\n",
              "      <td>0</td>\n",
              "      <td>0</td>\n",
              "      <td>0</td>\n",
              "      <td>0</td>\n",
              "      <td>0</td>\n",
              "      <td>0</td>\n",
              "    </tr>\n",
              "  </tbody>\n",
              "</table>\n",
              "<p>5 rows × 785 columns</p>\n",
              "</div>\n",
              "    <div class=\"colab-df-buttons\">\n",
              "\n",
              "  <div class=\"colab-df-container\">\n",
              "    <button class=\"colab-df-convert\" onclick=\"convertToInteractive('df-865af9d7-e423-467f-b682-abc18cd3a236')\"\n",
              "            title=\"Convert this dataframe to an interactive table.\"\n",
              "            style=\"display:none;\">\n",
              "\n",
              "  <svg xmlns=\"http://www.w3.org/2000/svg\" height=\"24px\" viewBox=\"0 -960 960 960\">\n",
              "    <path d=\"M120-120v-720h720v720H120Zm60-500h600v-160H180v160Zm220 220h160v-160H400v160Zm0 220h160v-160H400v160ZM180-400h160v-160H180v160Zm440 0h160v-160H620v160ZM180-180h160v-160H180v160Zm440 0h160v-160H620v160Z\"/>\n",
              "  </svg>\n",
              "    </button>\n",
              "\n",
              "  <style>\n",
              "    .colab-df-container {\n",
              "      display:flex;\n",
              "      gap: 12px;\n",
              "    }\n",
              "\n",
              "    .colab-df-convert {\n",
              "      background-color: #E8F0FE;\n",
              "      border: none;\n",
              "      border-radius: 50%;\n",
              "      cursor: pointer;\n",
              "      display: none;\n",
              "      fill: #1967D2;\n",
              "      height: 32px;\n",
              "      padding: 0 0 0 0;\n",
              "      width: 32px;\n",
              "    }\n",
              "\n",
              "    .colab-df-convert:hover {\n",
              "      background-color: #E2EBFA;\n",
              "      box-shadow: 0px 1px 2px rgba(60, 64, 67, 0.3), 0px 1px 3px 1px rgba(60, 64, 67, 0.15);\n",
              "      fill: #174EA6;\n",
              "    }\n",
              "\n",
              "    .colab-df-buttons div {\n",
              "      margin-bottom: 4px;\n",
              "    }\n",
              "\n",
              "    [theme=dark] .colab-df-convert {\n",
              "      background-color: #3B4455;\n",
              "      fill: #D2E3FC;\n",
              "    }\n",
              "\n",
              "    [theme=dark] .colab-df-convert:hover {\n",
              "      background-color: #434B5C;\n",
              "      box-shadow: 0px 1px 3px 1px rgba(0, 0, 0, 0.15);\n",
              "      filter: drop-shadow(0px 1px 2px rgba(0, 0, 0, 0.3));\n",
              "      fill: #FFFFFF;\n",
              "    }\n",
              "  </style>\n",
              "\n",
              "    <script>\n",
              "      const buttonEl =\n",
              "        document.querySelector('#df-865af9d7-e423-467f-b682-abc18cd3a236 button.colab-df-convert');\n",
              "      buttonEl.style.display =\n",
              "        google.colab.kernel.accessAllowed ? 'block' : 'none';\n",
              "\n",
              "      async function convertToInteractive(key) {\n",
              "        const element = document.querySelector('#df-865af9d7-e423-467f-b682-abc18cd3a236');\n",
              "        const dataTable =\n",
              "          await google.colab.kernel.invokeFunction('convertToInteractive',\n",
              "                                                    [key], {});\n",
              "        if (!dataTable) return;\n",
              "\n",
              "        const docLinkHtml = 'Like what you see? Visit the ' +\n",
              "          '<a target=\"_blank\" href=https://colab.research.google.com/notebooks/data_table.ipynb>data table notebook</a>'\n",
              "          + ' to learn more about interactive tables.';\n",
              "        element.innerHTML = '';\n",
              "        dataTable['output_type'] = 'display_data';\n",
              "        await google.colab.output.renderOutput(dataTable, element);\n",
              "        const docLink = document.createElement('div');\n",
              "        docLink.innerHTML = docLinkHtml;\n",
              "        element.appendChild(docLink);\n",
              "      }\n",
              "    </script>\n",
              "  </div>\n",
              "\n",
              "\n",
              "<div id=\"df-290164ab-15d9-4982-aad6-bbdcce45fa20\">\n",
              "  <button class=\"colab-df-quickchart\" onclick=\"quickchart('df-290164ab-15d9-4982-aad6-bbdcce45fa20')\"\n",
              "            title=\"Suggest charts\"\n",
              "            style=\"display:none;\">\n",
              "\n",
              "<svg xmlns=\"http://www.w3.org/2000/svg\" height=\"24px\"viewBox=\"0 0 24 24\"\n",
              "     width=\"24px\">\n",
              "    <g>\n",
              "        <path d=\"M19 3H5c-1.1 0-2 .9-2 2v14c0 1.1.9 2 2 2h14c1.1 0 2-.9 2-2V5c0-1.1-.9-2-2-2zM9 17H7v-7h2v7zm4 0h-2V7h2v10zm4 0h-2v-4h2v4z\"/>\n",
              "    </g>\n",
              "</svg>\n",
              "  </button>\n",
              "\n",
              "<style>\n",
              "  .colab-df-quickchart {\n",
              "      --bg-color: #E8F0FE;\n",
              "      --fill-color: #1967D2;\n",
              "      --hover-bg-color: #E2EBFA;\n",
              "      --hover-fill-color: #174EA6;\n",
              "      --disabled-fill-color: #AAA;\n",
              "      --disabled-bg-color: #DDD;\n",
              "  }\n",
              "\n",
              "  [theme=dark] .colab-df-quickchart {\n",
              "      --bg-color: #3B4455;\n",
              "      --fill-color: #D2E3FC;\n",
              "      --hover-bg-color: #434B5C;\n",
              "      --hover-fill-color: #FFFFFF;\n",
              "      --disabled-bg-color: #3B4455;\n",
              "      --disabled-fill-color: #666;\n",
              "  }\n",
              "\n",
              "  .colab-df-quickchart {\n",
              "    background-color: var(--bg-color);\n",
              "    border: none;\n",
              "    border-radius: 50%;\n",
              "    cursor: pointer;\n",
              "    display: none;\n",
              "    fill: var(--fill-color);\n",
              "    height: 32px;\n",
              "    padding: 0;\n",
              "    width: 32px;\n",
              "  }\n",
              "\n",
              "  .colab-df-quickchart:hover {\n",
              "    background-color: var(--hover-bg-color);\n",
              "    box-shadow: 0 1px 2px rgba(60, 64, 67, 0.3), 0 1px 3px 1px rgba(60, 64, 67, 0.15);\n",
              "    fill: var(--button-hover-fill-color);\n",
              "  }\n",
              "\n",
              "  .colab-df-quickchart-complete:disabled,\n",
              "  .colab-df-quickchart-complete:disabled:hover {\n",
              "    background-color: var(--disabled-bg-color);\n",
              "    fill: var(--disabled-fill-color);\n",
              "    box-shadow: none;\n",
              "  }\n",
              "\n",
              "  .colab-df-spinner {\n",
              "    border: 2px solid var(--fill-color);\n",
              "    border-color: transparent;\n",
              "    border-bottom-color: var(--fill-color);\n",
              "    animation:\n",
              "      spin 1s steps(1) infinite;\n",
              "  }\n",
              "\n",
              "  @keyframes spin {\n",
              "    0% {\n",
              "      border-color: transparent;\n",
              "      border-bottom-color: var(--fill-color);\n",
              "      border-left-color: var(--fill-color);\n",
              "    }\n",
              "    20% {\n",
              "      border-color: transparent;\n",
              "      border-left-color: var(--fill-color);\n",
              "      border-top-color: var(--fill-color);\n",
              "    }\n",
              "    30% {\n",
              "      border-color: transparent;\n",
              "      border-left-color: var(--fill-color);\n",
              "      border-top-color: var(--fill-color);\n",
              "      border-right-color: var(--fill-color);\n",
              "    }\n",
              "    40% {\n",
              "      border-color: transparent;\n",
              "      border-right-color: var(--fill-color);\n",
              "      border-top-color: var(--fill-color);\n",
              "    }\n",
              "    60% {\n",
              "      border-color: transparent;\n",
              "      border-right-color: var(--fill-color);\n",
              "    }\n",
              "    80% {\n",
              "      border-color: transparent;\n",
              "      border-right-color: var(--fill-color);\n",
              "      border-bottom-color: var(--fill-color);\n",
              "    }\n",
              "    90% {\n",
              "      border-color: transparent;\n",
              "      border-bottom-color: var(--fill-color);\n",
              "    }\n",
              "  }\n",
              "</style>\n",
              "\n",
              "  <script>\n",
              "    async function quickchart(key) {\n",
              "      const quickchartButtonEl =\n",
              "        document.querySelector('#' + key + ' button');\n",
              "      quickchartButtonEl.disabled = true;  // To prevent multiple clicks.\n",
              "      quickchartButtonEl.classList.add('colab-df-spinner');\n",
              "      try {\n",
              "        const charts = await google.colab.kernel.invokeFunction(\n",
              "            'suggestCharts', [key], {});\n",
              "      } catch (error) {\n",
              "        console.error('Error during call to suggestCharts:', error);\n",
              "      }\n",
              "      quickchartButtonEl.classList.remove('colab-df-spinner');\n",
              "      quickchartButtonEl.classList.add('colab-df-quickchart-complete');\n",
              "    }\n",
              "    (() => {\n",
              "      let quickchartButtonEl =\n",
              "        document.querySelector('#df-290164ab-15d9-4982-aad6-bbdcce45fa20 button');\n",
              "      quickchartButtonEl.style.display =\n",
              "        google.colab.kernel.accessAllowed ? 'block' : 'none';\n",
              "    })();\n",
              "  </script>\n",
              "</div>\n",
              "\n",
              "    </div>\n",
              "  </div>\n"
            ]
          },
          "metadata": {},
          "execution_count": 11
        }
      ]
    },
    {
      "cell_type": "code",
      "source": [
        "#train, test shape\n",
        "train.shape, test.shape"
      ],
      "metadata": {
        "colab": {
          "base_uri": "https://localhost:8080/"
        },
        "id": "cQ6rBtKEWROk",
        "outputId": "f79b2837-5a66-4482-d819-ee2b357cf9ac"
      },
      "execution_count": 12,
      "outputs": [
        {
          "output_type": "execute_result",
          "data": {
            "text/plain": [
              "((60000, 785), (10000, 785))"
            ]
          },
          "metadata": {},
          "execution_count": 12
        }
      ]
    },
    {
      "cell_type": "code",
      "source": [
        "# import tensorflow as tf\n",
        "# import numpy as np\n",
        "\n",
        "\n",
        "# # get the data\n",
        "# (train_images, train_labels), (test_images, test_labels) = tf.keras.datasets.mnist.load_data()\n",
        "\n",
        "\n",
        "# def preprocess_images(images):\n",
        "#     return images.reshape(-1, 784).astype(np.float32) / 255\n",
        "\n",
        "\n",
        "# def preprocess_labels(labels):\n",
        "#     return labels.reshape(-1).astype(np.int32)\n",
        "\n",
        "\n",
        "# train_images = preprocess_images(train_images)\n",
        "# test_images = preprocess_images(test_images)\n",
        "# train_labels = preprocess_labels(train_labels)\n",
        "# test_labels = preprocess_labels(test_labels)\n",
        "\n",
        "# train_data = tf.data.Dataset.from_tensor_slices((train_images, train_labels)).shuffle(60000).batch(128).repeat()\n",
        "# #test_data = tf.data.Dataset.from_tensor_slices((test_images, test_labels)).batch(128)\n",
        "\n",
        "\n",
        "# # define the model first, from input to output\n",
        "\n",
        "# # this is a super deep model, cool!\n",
        "# n_units = 100\n",
        "# n_layers = 8\n",
        "# w_range = 0.4\n",
        "\n",
        "# # just set up a \"chain\" of hidden layers\n",
        "# # model is represented by a list where each element is a layer,\n",
        "# # and each layer is in turn a list of the layer variables (w, b)\n",
        "\n",
        "# # first layer goes from n_input to n_hidden\n",
        "# w_input = tf.Variable(tf.random.uniform([784, n_units], -w_range, w_range),\n",
        "#                       name=\"w0\")\n",
        "# b_input = tf.Variable(tf.zeros(n_units), name=\"b0\")\n",
        "# layers = [[w_input, b_input]]\n",
        "\n",
        "# # all other hidden layers go from n_hidden to n_hidden\n",
        "# for layer in range(n_layers - 1):\n",
        "#     w = tf.Variable(tf.random.uniform([n_units, n_units], -w_range, w_range),\n",
        "#                     name=\"w\" + str(layer+1))\n",
        "#     b = tf.Variable(tf.zeros(n_units), name=\"b\" + str(layer+1))\n",
        "#     layers.append([w, b])\n",
        "\n",
        "# # finally add the output layer\n",
        "# w_out = tf.Variable(tf.random.uniform([n_units, 10], -w_range, w_range),\n",
        "#                     name=\"wout\")\n",
        "# b_out = tf.Variable(tf.zeros(10), name=\"bout\")\n",
        "# layers.append([w_out, b_out])\n",
        "\n",
        "# # flatten the layers to get a list of variables\n",
        "# all_variables = [variable for layer in layers for variable in layer]\n",
        "\n",
        "\n",
        "# def model_forward(inputs):\n",
        "#     x = inputs\n",
        "#     for w, b in layers[:-1]:\n",
        "#         x = tf.nn.relu(tf.matmul(x, w) + b)\n",
        "#     logits = tf.matmul(x, layers[-1][0]) + layers[-1][1]\n",
        "\n",
        "#     return logits\n",
        "\n",
        "\n",
        "# lr = 0.1\n",
        "# train_steps = 2000\n",
        "# for step, (img_batch, lbl_batch) in enumerate(train_data):\n",
        "#     if step > train_steps:\n",
        "#         break\n",
        "\n",
        "#     with tf.GradientTape() as tape:\n",
        "#         # here we just run all the layers in sequence via a for-loop\n",
        "#         logits = model_forward(img_batch)\n",
        "#         xent = tf.reduce_mean(tf.nn.sparse_softmax_cross_entropy_with_logits(\n",
        "#             logits=logits, labels=lbl_batch))\n",
        "\n",
        "#     grads = tape.gradient(xent, all_variables)\n",
        "#     for grad, var in zip(grads, all_variables):\n",
        "#         var.assign_sub(lr*grad)\n",
        "\n",
        "#     if not step % 100:\n",
        "#         preds = tf.argmax(logits, axis=1, output_type=tf.int32)\n",
        "#         acc = tf.reduce_mean(tf.cast(tf.equal(preds, lbl_batch), tf.float32))\n",
        "#         print(\"Loss: {} Accuracy: {}\".format(xent, acc))\n",
        "\n",
        "\n",
        "# test_preds = model_forward(test_images)\n",
        "# test_preds = tf.argmax(test_preds, axis=1, output_type=tf.int32)\n",
        "# acc = tf.reduce_mean(tf.cast(tf.equal(test_preds, test_labels), tf.float32))\n",
        "# print(\"Final test accuracy: {}\".format(acc))\n"
      ],
      "metadata": {
        "id": "3dR6fRwvRahl"
      },
      "execution_count": 13,
      "outputs": []
    },
    {
      "cell_type": "markdown",
      "source": [
        "#shuffle is used to randomly shuffle elements of a dataset, this adds randomeness and remove inherent order which can reduce overfitting.\n",
        "\n",
        "#batch is used to create batches of a specified number if the batch size is 32 then 32 images\n",
        "#will be passed at one time and can reduce required memory\n",
        "\n",
        "#repeat works like epochs and is used to iterate over a dataset multiple times during training."
      ],
      "metadata": {
        "id": "O9KwcXT4Vn-Z"
      }
    },
    {
      "cell_type": "code",
      "source": [
        "from keras import Sequential\n",
        "from keras.layers import Dense, Conv2D, MaxPooling2D, Flatten"
      ],
      "metadata": {
        "id": "m0OsZM4YVyBM"
      },
      "execution_count": 14,
      "outputs": []
    },
    {
      "cell_type": "code",
      "source": [
        "# Load MNIST data\n",
        "(train_images, train_labels), (test_images, test_labels) = tf.keras.datasets.mnist.load_data()\n",
        "\n",
        "# Visualize an image\n",
        "index = 0\n",
        "image_pixels = train_images[index]\n",
        "plt.imshow(image_pixels, cmap='gray')\n",
        "plt.title(f\"Label: {train_labels[index]}\")\n",
        "plt.show()\n",
        "\n",
        "# Preprocess images and labels\n",
        "def preprocess_images(images):\n",
        "    return images.reshape(-1, 28, 28, 1).astype(np.float32) / 255\n",
        "\n",
        "def preprocess_labels(labels):\n",
        "    return tf.keras.utils.to_categorical(labels, 10).astype(np.int32)\n",
        "\n",
        "train_images = preprocess_images(train_images)\n",
        "test_images = preprocess_images(test_images)\n",
        "train_labels = preprocess_labels(train_labels)\n",
        "test_labels = preprocess_labels(test_labels)\n",
        "\n",
        "# Create TensorFlow datasets\n",
        "train_data = tf.data.Dataset.from_tensor_slices((train_images, train_labels)).shuffle(60000).batch(128).repeat()\n",
        "test_data = tf.data.Dataset.from_tensor_slices((test_images, test_labels)).batch(128)\n",
        "\n",
        "# Build the CNN model\n",
        "cnn = Sequential()\n",
        "cnn.add(Conv2D(128, kernel_size=(3,3), strides=(2,2), activation=\"relu\", input_shape=(28, 28, 1)))\n",
        "cnn.add(MaxPooling2D(pool_size=(2,2)))\n",
        "cnn.add(Conv2D(64, kernel_size=(3,3), strides=(2,2), activation=\"relu\"))\n",
        "cnn.add(MaxPooling2D(pool_size=(2,2)))\n",
        "cnn.add(Flatten())\n",
        "cnn.add(Dense(128, activation=\"relu\"))\n",
        "cnn.add(Dense(64, activation=\"relu\"))\n",
        "cnn.add(Dense(10, activation=\"softmax\"))\n",
        "\n",
        "# Compile the model\n",
        "cnn.compile(optimizer=\"adam\", loss=\"categorical_crossentropy\", metrics=[\"accuracy\"])\n",
        "\n",
        "# Train the model using the datasets\n",
        "history = cnn.fit(train_data, epochs=5, validation_data=test_data, steps_per_epoch=len(train_images)//128, validation_steps=len(test_images)//128)\n",
        "\n",
        "# Visualize training history\n",
        "plt.plot(history.history['accuracy'], label='accuracy')\n",
        "plt.plot(history.history['val_accuracy'], label = 'val_accuracy')\n",
        "plt.xlabel('Epoch')\n",
        "plt.ylabel('Accuracy')\n",
        "plt.ylim([0, 1])\n",
        "plt.legend(loc='lower right')\n",
        "plt.show()\n"
      ],
      "metadata": {
        "colab": {
          "base_uri": "https://localhost:8080/",
          "height": 1000
        },
        "id": "ZylrE8P9un2M",
        "outputId": "68e82648-aed9-47e6-8e3f-24eea455309e"
      },
      "execution_count": 15,
      "outputs": [
        {
          "output_type": "stream",
          "name": "stdout",
          "text": [
            "Downloading data from https://storage.googleapis.com/tensorflow/tf-keras-datasets/mnist.npz\n",
            "11490434/11490434 [==============================] - 0s 0us/step\n"
          ]
        },
        {
          "output_type": "display_data",
          "data": {
            "text/plain": [
              "<Figure size 640x480 with 1 Axes>"
            ],
            "image/png": "[encoded data removed]"
          },
          "metadata": {}
        },
        {
          "output_type": "stream",
          "name": "stdout",
          "text": [
            "Epoch 1/5\n",
            "468/468 [==============================] - 21s 42ms/step - loss: 0.4521 - accuracy: 0.8659 - val_loss: 0.1562 - val_accuracy: 0.9528\n",
            "Epoch 2/5\n",
            "468/468 [==============================] - 21s 44ms/step - loss: 0.1406 - accuracy: 0.9567 - val_loss: 0.1110 - val_accuracy: 0.9651\n",
            "Epoch 3/5\n",
            "468/468 [==============================] - 20s 43ms/step - loss: 0.1097 - accuracy: 0.9668 - val_loss: 0.0934 - val_accuracy: 0.9719\n",
            "Epoch 4/5\n",
            "468/468 [==============================] - 21s 45ms/step - loss: 0.0883 - accuracy: 0.9728 - val_loss: 0.0913 - val_accuracy: 0.9716\n",
            "Epoch 5/5\n",
            "468/468 [==============================] - 20s 42ms/step - loss: 0.0761 - accuracy: 0.9761 - val_loss: 0.0967 - val_accuracy: 0.9696\n"
          ]
        },
        {
          "output_type": "display_data",
          "data": {
            "text/plain": [
              "<Figure size 640x480 with 1 Axes>"
            ],
            "image/png": "[encoded data removed]"
          },
          "metadata": {}
        }
      ]
    },
    {
      "cell_type": "code",
      "source": [
        "#CIFAR100"
      ],
      "metadata": {
        "id": "oh0-SR_MyBcY"
      },
      "execution_count": 16,
      "outputs": []
    },
    {
      "cell_type": "code",
      "source": [
        "(X_images, X_labels), (y_images, y_labels) = tf.keras.datasets.cifar100.load_data()"
      ],
      "metadata": {
        "id": "ktfWlwvxu1GS"
      },
      "execution_count": 36,
      "outputs": []
    },
    {
      "cell_type": "code",
      "source": [
        "X_labels = to_categorical(X_labels, num_classes=100)\n",
        "y_labels = to_categorical(y_labels, num_classes=100)"
      ],
      "metadata": {
        "id": "FCfDonH_wQcz"
      },
      "execution_count": 37,
      "outputs": []
    },
    {
      "cell_type": "code",
      "source": [
        "plt.imshow(X_images[5])"
      ],
      "metadata": {
        "colab": {
          "base_uri": "https://localhost:8080/",
          "height": 447
        },
        "id": "U38wrrQSx-mm",
        "outputId": "d99ce64f-37b2-43e3-8f3e-e3f4ffc58582"
      },
      "execution_count": 38,
      "outputs": [
        {
          "output_type": "execute_result",
          "data": {
            "text/plain": [
              "<matplotlib.image.AxesImage at 0x7de682e12020>"
            ]
          },
          "metadata": {},
          "execution_count": 38
        },
        {
          "output_type": "display_data",
          "data": {
            "text/plain": [
              "<Figure size 640x480 with 1 Axes>"
            ],
            "image/png": "[encoded data removed]"
          },
          "metadata": {}
        }
      ]
    },
    {
      "cell_type": "code",
      "source": [
        "X_images[0].shape"
      ],
      "metadata": {
        "colab": {
          "base_uri": "https://localhost:8080/"
        },
        "id": "9K5gQZypy2ZV",
        "outputId": "ae8a6a82-a592-4374-ed9b-f5889bb33bbc"
      },
      "execution_count": 39,
      "outputs": [
        {
          "output_type": "execute_result",
          "data": {
            "text/plain": [
              "(32, 32, 3)"
            ]
          },
          "metadata": {},
          "execution_count": 39
        }
      ]
    },
    {
      "cell_type": "code",
      "source": [
        "X_images, y_images = X_images/255, y_images/255"
      ],
      "metadata": {
        "id": "zi4mJqSCy9Ya"
      },
      "execution_count": 40,
      "outputs": []
    },
    {
      "cell_type": "code",
      "source": [
        "X_images.shape"
      ],
      "metadata": {
        "colab": {
          "base_uri": "https://localhost:8080/"
        },
        "id": "KqWvU9RJ7DzK",
        "outputId": "5a8dd409-ba9d-4e10-b23a-d7b205221ecb"
      },
      "execution_count": 41,
      "outputs": [
        {
          "output_type": "execute_result",
          "data": {
            "text/plain": [
              "(50000, 32, 32, 3)"
            ]
          },
          "metadata": {},
          "execution_count": 41
        }
      ]
    },
    {
      "cell_type": "code",
      "source": [
        "np.unique(X_labels)"
      ],
      "metadata": {
        "colab": {
          "base_uri": "https://localhost:8080/"
        },
        "id": "EV_qm8FoETSB",
        "outputId": "c8619de7-f210-4db8-d4ae-31af86b5f57c"
      },
      "execution_count": 42,
      "outputs": [
        {
          "output_type": "execute_result",
          "data": {
            "text/plain": [
              "array([0., 1.], dtype=float32)"
            ]
          },
          "metadata": {},
          "execution_count": 42
        }
      ]
    },
    {
      "cell_type": "code",
      "source": [
        "model = Sequential()\n",
        "\n",
        "model.add(Conv2D(32, kernel_size=(3,3), strides=(2,2), padding=\"valid\", activation=\"relu\", input_shape=(32,32,3)))\n",
        "model.add(MaxPooling2D(pool_size=(2,2)))\n",
        "\n",
        "model.add(Conv2D(64, kernel_size=(3,3), strides=(2,2), padding=\"valid\", activation=\"relu\"))\n",
        "model.add(MaxPooling2D(pool_size=(2,2)))\n",
        "\n",
        "model.add(Flatten())\n",
        "model.add(Dense(128, activation=\"relu\"))\n",
        "# model.add(Dense(64, activation=\"relu\"))\n",
        "model.add(Dense(100, activation=\"softmax\"))\n",
        "\n",
        "model.compile(optimizer=\"adam\", loss=\"categorical_crossentropy\", metrics=[\"accuracy\"])"
      ],
      "metadata": {
        "id": "k84hGKQu7Lqo"
      },
      "execution_count": 48,
      "outputs": []
    },
    {
      "cell_type": "code",
      "source": [
        "hist = model.fit(X_images, X_labels, epochs=5, validation_data=(y_images, y_labels))"
      ],
      "metadata": {
        "colab": {
          "base_uri": "https://localhost:8080/"
        },
        "id": "2D5GlzvwGsFl",
        "outputId": "df3bfdfe-ab34-46ec-bb80-02affbb99f41"
      },
      "execution_count": 49,
      "outputs": [
        {
          "output_type": "stream",
          "name": "stdout",
          "text": [
            "Epoch 1/5\n",
            "1563/1563 [==============================] - 17s 10ms/step - loss: 4.1128 - accuracy: 0.0691 - val_loss: 3.7941 - val_accuracy: 0.1172\n",
            "Epoch 2/5\n",
            "1563/1563 [==============================] - 15s 9ms/step - loss: 3.6563 - accuracy: 0.1354 - val_loss: 3.5583 - val_accuracy: 0.1538\n",
            "Epoch 3/5\n",
            "1563/1563 [==============================] - 15s 10ms/step - loss: 3.4633 - accuracy: 0.1679 - val_loss: 3.4290 - val_accuracy: 0.1833\n",
            "Epoch 4/5\n",
            "1563/1563 [==============================] - 15s 9ms/step - loss: 3.3462 - accuracy: 0.1906 - val_loss: 3.3407 - val_accuracy: 0.1937\n",
            "Epoch 5/5\n",
            "1563/1563 [==============================] - 15s 9ms/step - loss: 3.2541 - accuracy: 0.2069 - val_loss: 3.2983 - val_accuracy: 0.2043\n"
          ]
        }
      ]
    },
    {
      "cell_type": "code",
      "source": [
        "plt.plot(hist.history[\"accuracy\"], c=\"green\", label=\"accuracy\")\n",
        "plt.plot(hist.history[\"val_accuracy\"], c=\"red\", label=\"val_accuracy\")\n",
        "plt.xlabel(\"Epoch\")\n",
        "plt.ylabel(\"Accuracy\")\n",
        "plt.legend(loc=\"lower right\")"
      ],
      "metadata": {
        "colab": {
          "base_uri": "https://localhost:8080/",
          "height": 466
        },
        "id": "2kFNc_apvm10",
        "outputId": "b41b824c-1bf9-4f52-c1bb-11976b39acb5"
      },
      "execution_count": 55,
      "outputs": [
        {
          "output_type": "execute_result",
          "data": {
            "text/plain": [
              "<matplotlib.legend.Legend at 0x7de6844323b0>"
            ]
          },
          "metadata": {},
          "execution_count": 55
        },
        {
          "output_type": "display_data",
          "data": {
            "text/plain": [
              "<Figure size 640x480 with 1 Axes>"
            ],
            "image/png": "[encoded data removed]"
          },
          "metadata": {}
        }
      ]
    },
    {
      "cell_type": "markdown",
      "source": [
        "RNN\n",
        "\n",
        "#It is wasteful to pad sequences to max length because if most words are not of near max length it would consume more size and time during model training and makes the model complex unnecessarily."
      ],
      "metadata": {
        "id": "QaZqN_1GPWAO"
      }
    },
    {
      "cell_type": "code",
      "execution_count": 56,
      "metadata": {
        "id": "r-Chp8YyyvxN"
      },
      "outputs": [],
      "source": [
        "import tensorflow as tf\n",
        "import numpy as np\n",
        "from matplotlib import pyplot as plt"
      ]
    },
    {
      "cell_type": "code",
      "execution_count": 57,
      "metadata": {
        "id": "ZVE7aMvC4iXK",
        "colab": {
          "base_uri": "https://localhost:8080/"
        },
        "outputId": "1c992e81-f95a-4f58-bb8f-21d59f405aa8"
      },
      "outputs": [
        {
          "output_type": "stream",
          "name": "stdout",
          "text": [
            "Downloading data from https://storage.googleapis.com/tensorflow/tf-keras-datasets/imdb.npz\n",
            "17464789/17464789 [==============================] - 0s 0us/step\n"
          ]
        }
      ],
      "source": [
        "# remove infrequent words. you can play with this parameter as it will likely impact model quality\n",
        "num_words = 20000\n",
        "(train_sequences, train_labels), (test_sequences, test_labels) = tf.keras.datasets.imdb.load_data(num_words=num_words)"
      ]
    },
    {
      "cell_type": "code",
      "execution_count": 58,
      "metadata": {
        "id": "c07u7Z7s4opk",
        "colab": {
          "base_uri": "https://localhost:8080/"
        },
        "outputId": "502a26f6-3f29-43e2-d7ee-e797442727a0"
      },
      "outputs": [
        {
          "output_type": "execute_result",
          "data": {
            "text/plain": [
              "array([list([1, 14, 22, 16, 43, 530, 973, 1622, 1385, 65, 458, 4468, 66, 3941, 4, 173, 36, 256, 5, 25, 100, 43, 838, 112, 50, 670, 2, 9, 35, 480, 284, 5, 150, 4, 172, 112, 167, 2, 336, 385, 39, 4, 172, 4536, 1111, 17, 546, 38, 13, 447, 4, 192, 50, 16, 6, 147, 2025, 19, 14, 22, 4, 1920, 4613, 469, 4, 22, 71, 87, 12, 16, 43, 530, 38, 76, 15, 13, 1247, 4, 22, 17, 515, 17, 12, 16, 626, 18, 19193, 5, 62, 386, 12, 8, 316, 8, 106, 5, 4, 2223, 5244, 16, 480, 66, 3785, 33, 4, 130, 12, 16, 38, 619, 5, 25, 124, 51, 36, 135, 48, 25, 1415, 33, 6, 22, 12, 215, 28, 77, 52, 5, 14, 407, 16, 82, 10311, 8, 4, 107, 117, 5952, 15, 256, 4, 2, 7, 3766, 5, 723, 36, 71, 43, 530, 476, 26, 400, 317, 46, 7, 4, 12118, 1029, 13, 104, 88, 4, 381, 15, 297, 98, 32, 2071, 56, 26, 141, 6, 194, 7486, 18, 4, 226, 22, 21, 134, 476, 26, 480, 5, 144, 30, 5535, 18, 51, 36, 28, 224, 92, 25, 104, 4, 226, 65, 16, 38, 1334, 88, 12, 16, 283, 5, 16, 4472, 113, 103, 32, 15, 16, 5345, 19, 178, 32]),\n",
              "       list([1, 194, 1153, 194, 8255, 78, 228, 5, 6, 1463, 4369, 5012, 134, 26, 4, 715, 8, 118, 1634, 14, 394, 20, 13, 119, 954, 189, 102, 5, 207, 110, 3103, 21, 14, 69, 188, 8, 30, 23, 7, 4, 249, 126, 93, 4, 114, 9, 2300, 1523, 5, 647, 4, 116, 9, 35, 8163, 4, 229, 9, 340, 1322, 4, 118, 9, 4, 130, 4901, 19, 4, 1002, 5, 89, 29, 952, 46, 37, 4, 455, 9, 45, 43, 38, 1543, 1905, 398, 4, 1649, 26, 6853, 5, 163, 11, 3215, 10156, 4, 1153, 9, 194, 775, 7, 8255, 11596, 349, 2637, 148, 605, 15358, 8003, 15, 123, 125, 68, 2, 6853, 15, 349, 165, 4362, 98, 5, 4, 228, 9, 43, 2, 1157, 15, 299, 120, 5, 120, 174, 11, 220, 175, 136, 50, 9, 4373, 228, 8255, 5, 2, 656, 245, 2350, 5, 4, 9837, 131, 152, 491, 18, 2, 32, 7464, 1212, 14, 9, 6, 371, 78, 22, 625, 64, 1382, 9, 8, 168, 145, 23, 4, 1690, 15, 16, 4, 1355, 5, 28, 6, 52, 154, 462, 33, 89, 78, 285, 16, 145, 95]),\n",
              "       list([1, 14, 47, 8, 30, 31, 7, 4, 249, 108, 7, 4, 5974, 54, 61, 369, 13, 71, 149, 14, 22, 112, 4, 2401, 311, 12, 16, 3711, 33, 75, 43, 1829, 296, 4, 86, 320, 35, 534, 19, 263, 4821, 1301, 4, 1873, 33, 89, 78, 12, 66, 16, 4, 360, 7, 4, 58, 316, 334, 11, 4, 1716, 43, 645, 662, 8, 257, 85, 1200, 42, 1228, 2578, 83, 68, 3912, 15, 36, 165, 1539, 278, 36, 69, 2, 780, 8, 106, 14, 6905, 1338, 18, 6, 22, 12, 215, 28, 610, 40, 6, 87, 326, 23, 2300, 21, 23, 22, 12, 272, 40, 57, 31, 11, 4, 22, 47, 6, 2307, 51, 9, 170, 23, 595, 116, 595, 1352, 13, 191, 79, 638, 89, 2, 14, 9, 8, 106, 607, 624, 35, 534, 6, 227, 7, 129, 113])],\n",
              "      dtype=object)"
            ]
          },
          "metadata": {},
          "execution_count": 58
        }
      ],
      "source": [
        "# look at some sequences. words have been replaced with arbitrary index mappings\n",
        "# 1 is a special \"beginning of sequence\" marker\n",
        "# infrequent words have been replaced by the index 2\n",
        "# actual words start with index 4, 3 is never used (???)\n",
        "train_sequences[:3]"
      ]
    },
    {
      "cell_type": "code",
      "execution_count": 59,
      "metadata": {
        "id": "AD6Elit34sTL",
        "colab": {
          "base_uri": "https://localhost:8080/"
        },
        "outputId": "1b8b2c99-4593-4948-d55b-b239f4e5d839"
      },
      "outputs": [
        {
          "output_type": "execute_result",
          "data": {
            "text/plain": [
              "array([1, 0, 0])"
            ]
          },
          "metadata": {},
          "execution_count": 59
        }
      ],
      "source": [
        "# labels are simply binary: sentiment can be positive or negative\n",
        "train_labels[:3]"
      ]
    },
    {
      "cell_type": "code",
      "execution_count": 60,
      "metadata": {
        "id": "xHTMEyXW5KcQ",
        "colab": {
          "base_uri": "https://localhost:8080/"
        },
        "outputId": "33cec031-341f-4451-a577-b4b8f44b3b71"
      },
      "outputs": [
        {
          "output_type": "stream",
          "name": "stdout",
          "text": [
            "Downloading data from https://storage.googleapis.com/tensorflow/tf-keras-datasets/imdb_word_index.json\n",
            "1641221/1641221 [==============================] - 0s 0us/step\n"
          ]
        }
      ],
      "source": [
        "# to restore words, load the word-to-index mapping\n",
        "word_to_index = tf.keras.datasets.imdb.get_word_index()"
      ]
    },
    {
      "cell_type": "code",
      "execution_count": 61,
      "metadata": {
        "id": "Vv25lUc_5ckG"
      },
      "outputs": [],
      "source": [
        "# invert to get index-to-word mapping\n",
        "index_to_word = dict((index, word) for (word, index) in word_to_index.items())"
      ]
    },
    {
      "cell_type": "code",
      "execution_count": 62,
      "metadata": {
        "id": "CYX6F3AX5hpV",
        "colab": {
          "base_uri": "https://localhost:8080/",
          "height": 139
        },
        "outputId": "09e2bff7-5df1-4757-f6d8-77c64658e9fb"
      },
      "outputs": [
        {
          "output_type": "execute_result",
          "data": {
            "text/plain": [
              "\"this film was just brilliant casting location scenery story direction everyone's really suited the part they played and you could just imagine being there robert UNKNOWN is an amazing actor and now the same being director UNKNOWN father came from the same scottish island as myself so i loved the fact there was a real connection with this film the witty remarks throughout the film were great it was just brilliant so much that i bought the film as soon as it was released for retail and would recommend it to everyone to watch and the fly fishing was amazing really cried at the end it was so sad and you know what they say if you cry at a film it must have been good and this definitely was also congratulations to the two little boy's that played the UNKNOWN of norman and paul they were just brilliant children are often left out of the praising list i think because the stars that play them all grown up are such a big profile for the whole film but these children are amazing and should be praised for what they have done don't you think the whole story was so lovely because it was true and was someone's life after all that was shared with us all\""
            ],
            "application/vnd.google.colaboratory.intrinsic+json": {
              "type": "string"
            }
          },
          "metadata": {},
          "execution_count": 62
        }
      ],
      "source": [
        "# we can convert a sequence to text by\n",
        "# - replacing each index by the respective word\n",
        "# - joining words together via spaces\n",
        "# note that we remove the beginning of sequence character and we have to subtract 3 from all indices\n",
        "# this is because, as mentioned above, the smallest indices are reserved for special characters\n",
        "# but for some reason this is not reflected in the mapping...\n",
        "\" \".join([index_to_word.get(index - 3, \"UNKNOWN\") for index in train_sequences[0][1:]])"
      ]
    },
    {
      "cell_type": "code",
      "execution_count": 63,
      "metadata": {
        "id": "m2lt9mE-9XO7",
        "colab": {
          "base_uri": "https://localhost:8080/"
        },
        "outputId": "f3b435ab-b8bc-48a4-9647-516ad5ab11d1"
      },
      "outputs": [
        {
          "output_type": "execute_result",
          "data": {
            "text/plain": [
              "2494"
            ]
          },
          "metadata": {},
          "execution_count": 63
        }
      ],
      "source": [
        "# solution is padding all sequences to the maximum length.\n",
        "# first find the maximum length\n",
        "sequence_lengths = [len(sequence) for sequence in train_sequences]\n",
        "max_len = max(sequence_lengths)\n",
        "max_len"
      ]
    },
    {
      "cell_type": "code",
      "execution_count": 64,
      "metadata": {
        "id": "677ZXcRu9nUe",
        "colab": {
          "base_uri": "https://localhost:8080/",
          "height": 430
        },
        "outputId": "7ec11bb2-3133-4c4b-d2ad-1a710487f8c9"
      },
      "outputs": [
        {
          "output_type": "display_data",
          "data": {
            "text/plain": [
              "<Figure size 640x480 with 1 Axes>"
            ],
            "image/png": "[encoded data removed]"
          },
          "metadata": {}
        }
      ],
      "source": [
        "# overview over sequence lengths in the data\n",
        "# could also look at mean, median, standard deviation...\n",
        "plt.hist(sequence_lengths, bins=80)\n",
        "plt.show()"
      ]
    },
    {
      "cell_type": "code",
      "execution_count": 65,
      "metadata": {
        "id": "lYr10G5M9rWX"
      },
      "outputs": [],
      "source": [
        "# luckily there is a convenient function for padding\n",
        "train_sequences_padded = tf.keras.preprocessing.sequence.pad_sequences(train_sequences, maxlen=max_len)"
      ]
    },
    {
      "cell_type": "code",
      "execution_count": 66,
      "metadata": {
        "id": "pXEICggj-OL-"
      },
      "outputs": [],
      "source": [
        "# now we can create a dataset!\n",
        "train_data = tf.data.Dataset.from_tensor_slices((train_sequences_padded, train_labels))"
      ]
    },
    {
      "cell_type": "code",
      "execution_count": 67,
      "metadata": {
        "id": "IPTPy5Ff-Q_C",
        "colab": {
          "base_uri": "https://localhost:8080/"
        },
        "outputId": "3f83efeb-820d-49b2-9cb0-2467f4eadc21"
      },
      "outputs": [
        {
          "output_type": "execute_result",
          "data": {
            "text/plain": [
              "(25000, 2494)"
            ]
          },
          "metadata": {},
          "execution_count": 67
        }
      ],
      "source": [
        "# all sequences are... very long\n",
        "train_sequences_padded.shape"
      ]
    },
    {
      "cell_type": "code",
      "execution_count": 68,
      "metadata": {
        "id": "ug0OSIGjf6ji",
        "colab": {
          "base_uri": "https://localhost:8080/"
        },
        "outputId": "e2b24542-012a-4783-ef89-29eb9c39b181"
      },
      "outputs": [
        {
          "output_type": "execute_result",
          "data": {
            "text/plain": [
              "(25000, 200)"
            ]
          },
          "metadata": {},
          "execution_count": 68
        }
      ],
      "source": [
        "# it would be better to do something like this\n",
        "# all sequences above maxlen will be truncated to that length\n",
        "# note: pad_sequences has \"pre\" and \"post\" options for both padding and truncation. one may be better than the other!\n",
        "train_sequences_padded = tf.keras.preprocessing.sequence.pad_sequences(train_sequences, maxlen=200)\n",
        "train_data = tf.data.Dataset.from_tensor_slices((train_sequences_padded, train_labels))\n",
        "\n",
        "train_sequences_padded.shape"
      ]
    },
    {
      "cell_type": "code",
      "execution_count": 69,
      "metadata": {
        "id": "2ZW7YdDv_fRJ",
        "colab": {
          "base_uri": "https://localhost:8080/"
        },
        "outputId": "e457a5fe-4f75-42cf-90f5-8408d2786c36"
      },
      "outputs": [
        {
          "output_type": "execute_result",
          "data": {
            "text/plain": [
              "[(1, 'the'),\n",
              " (2, 'and'),\n",
              " (3, 'a'),\n",
              " (4, 'of'),\n",
              " (5, 'to'),\n",
              " (6, 'is'),\n",
              " (7, 'br'),\n",
              " (8, 'in'),\n",
              " (9, 'it'),\n",
              " (10, 'i'),\n",
              " (11, 'this'),\n",
              " (12, 'that'),\n",
              " (13, 'was'),\n",
              " (14, 'as'),\n",
              " (15, 'for'),\n",
              " (16, 'with'),\n",
              " (17, 'movie'),\n",
              " (18, 'but'),\n",
              " (19, 'film'),\n",
              " (20, 'on'),\n",
              " (21, 'not'),\n",
              " (22, 'you'),\n",
              " (23, 'are'),\n",
              " (24, 'his'),\n",
              " (25, 'have'),\n",
              " (26, 'he'),\n",
              " (27, 'be'),\n",
              " (28, 'one'),\n",
              " (29, 'all'),\n",
              " (30, 'at'),\n",
              " (31, 'by'),\n",
              " (32, 'an'),\n",
              " (33, 'they'),\n",
              " (34, 'who'),\n",
              " (35, 'so'),\n",
              " (36, 'from'),\n",
              " (37, 'like'),\n",
              " (38, 'her'),\n",
              " (39, 'or'),\n",
              " (40, 'just'),\n",
              " (41, 'about'),\n",
              " (42, \"it's\"),\n",
              " (43, 'out'),\n",
              " (44, 'has'),\n",
              " (45, 'if'),\n",
              " (46, 'some'),\n",
              " (47, 'there'),\n",
              " (48, 'what'),\n",
              " (49, 'good'),\n",
              " (50, 'more'),\n",
              " (51, 'when'),\n",
              " (52, 'very'),\n",
              " (53, 'up'),\n",
              " (54, 'no'),\n",
              " (55, 'time'),\n",
              " (56, 'she'),\n",
              " (57, 'even'),\n",
              " (58, 'my'),\n",
              " (59, 'would'),\n",
              " (60, 'which'),\n",
              " (61, 'only'),\n",
              " (62, 'story'),\n",
              " (63, 'really'),\n",
              " (64, 'see'),\n",
              " (65, 'their'),\n",
              " (66, 'had'),\n",
              " (67, 'can'),\n",
              " (68, 'were'),\n",
              " (69, 'me'),\n",
              " (70, 'well'),\n",
              " (71, 'than'),\n",
              " (72, 'we'),\n",
              " (73, 'much'),\n",
              " (74, 'been'),\n",
              " (75, 'bad'),\n",
              " (76, 'get'),\n",
              " (77, 'will'),\n",
              " (78, 'do'),\n",
              " (79, 'also'),\n",
              " (80, 'into'),\n",
              " (81, 'people'),\n",
              " (82, 'other'),\n",
              " (83, 'first'),\n",
              " (84, 'great'),\n",
              " (85, 'because'),\n",
              " (86, 'how'),\n",
              " (87, 'him'),\n",
              " (88, 'most'),\n",
              " (89, \"don't\"),\n",
              " (90, 'made'),\n",
              " (91, 'its'),\n",
              " (92, 'then'),\n",
              " (93, 'way'),\n",
              " (94, 'make'),\n",
              " (95, 'them'),\n",
              " (96, 'too'),\n",
              " (97, 'could'),\n",
              " (98, 'any'),\n",
              " (99, 'movies'),\n",
              " (100, 'after')]"
            ]
          },
          "metadata": {},
          "execution_count": 69
        }
      ],
      "source": [
        "# for fun, you can look at the word-index mappings.\n",
        "# in this case, the mapping was done according to word frequency.\n",
        "# you can pass reverse=True to sorted() to look at the least common words.\n",
        "sorted(index_to_word.items())[:100]"
      ]
    },
    {
      "cell_type": "code",
      "execution_count": 70,
      "metadata": {
        "id": "u4fwUhqBACri"
      },
      "outputs": [],
      "source": [
        "b# here is a high-level sketch for training RNNs\n",
        "\n",
        "\n",
        "# training loop -- same thing as before!!\n",
        "# our data is now slightly different (each batch of sequences has a time axis, which is kinda new)\n",
        "# but all the related changes are hidden away at lower levels\n",
        "def train_loop():\n",
        "    for sequence_batch, label_batch in train_data:\n",
        "        train_step(sequence_batch, label_batch)\n",
        "\n",
        "\n",
        "# a single training step -- again, seems familiar?\n",
        "def train_step(sequences, labels):\n",
        "    with tf.GradientTape() as tape:\n",
        "        logits = rnn_loop(sequences)\n",
        "        loss = loss_fn(labels, logits)\n",
        "\n",
        "    gradient = ...\n",
        "    apply_gradients(...)\n",
        "\n",
        "\n",
        "# here's where things start to change\n",
        "# we loop over the input time axis, and at each time step compute the new\n",
        "# hidden state based on the previous one as well as the current input\n",
        "# the state computation is hidden away in the rnn_step function and could be\n",
        "# arbitrarily complex.\n",
        "# in the general RNN, an output is computed at each time step, and the whole\n",
        "# sequence is returned. but in this case, since we only have one label for the\n",
        "# entire sequence, we only use the final state to compute one output and return it.\n",
        "# before the loop, the state need to be initialized somehow.\n",
        "def rnn_loop(sequences):\n",
        "    old_state = ...\n",
        "\n",
        "    for step in range(max_len):\n",
        "        x_t = sequences[:, step]\n",
        "        x_t = tf.one_hot(x_t, depth=num_words)\n",
        "        new_state = rnn_step(old_state, x_t)\n",
        "\n",
        "        old_state = new_state\n",
        "\n",
        "    o_t = output_layer(new_state)\n",
        "\n",
        "    return o_t\n",
        "\n",
        "\n",
        "# see formulas in the book ;)\n",
        "def rnn_step(state, x_t):\n",
        "    return rnn_layer(x_t, initial_state=state)"
      ]
    },
    {
      "cell_type": "markdown",
      "source": [
        "RNN2"
      ],
      "metadata": {
        "id": "FiSpsMCtXxkE"
      }
    },
    {
      "cell_type": "code",
      "execution_count": 4,
      "metadata": {
        "id": "umqeq6w632Ng"
      },
      "outputs": [],
      "source": [
        "max_words = 20000\n",
        "max_len = 200\n",
        "\n",
        "(train_sequences, train_labels), (test_sequences, test_labels) = tf.keras.datasets.imdb.load_data(num_words=max_words)\n",
        "\n",
        "\n",
        "def preprocess(sequences, labels):\n",
        "    return sequences, labels.astype(np.int32)\n",
        "\n",
        "train_sequences, train_labels = preprocess(train_sequences, train_labels)\n",
        "test_sequences, test_labels = preprocess(test_sequences, test_labels)"
      ]
    },
    {
      "cell_type": "code",
      "execution_count": 5,
      "metadata": {
        "id": "aHJA6HJm33km"
      },
      "outputs": [],
      "source": [
        "vocabulary = tf.keras.datasets.imdb.get_word_index()\n",
        "char_to_ind = vocabulary\n",
        "ind_to_char = {ind: char for (char, ind) in vocabulary.items()}"
      ]
    },
    {
      "cell_type": "code",
      "execution_count": 6,
      "metadata": {
        "id": "s5fercgq35v5"
      },
      "outputs": [],
      "source": [
        "# remember this? doesn't work...\n",
        "# train_data = tf.data.Dataset.from_tensor_slices((train_sequences, train_labels))"
      ]
    },
    {
      "cell_type": "code",
      "execution_count": 7,
      "metadata": {
        "id": "vxmJFX1B4MZ4"
      },
      "outputs": [],
      "source": [
        "# we can create a dataset from a python generator. first, we have to write the generator\n",
        "# this is a very simple one, but we could execute arbitrary python code in here\n",
        "# (say, loading files from disk and preparing the loaded inputs somehow)\n",
        "def gen():\n",
        "    for sequence, label in zip(train_sequences, train_labels):\n",
        "        yield sequence, label"
      ]
    },
    {
      "cell_type": "code",
      "execution_count": 8,
      "metadata": {
        "id": "_Lq6XE4j4gay"
      },
      "outputs": [],
      "source": [
        "# we have to tell TF what to expect from the generator (\"Tensor Specification\")\n",
        "train_data = tf.data.Dataset.from_generator(gen, output_signature=(\n",
        "         tf.TensorSpec(shape=(None,), dtype=tf.int32),\n",
        "         tf.TensorSpec(shape=(), dtype=tf.int32)))\n",
        "\n",
        "# regular .batch wouldn't work because the inputs are different length.\n",
        "# padded batch automatically pads all elements in the batch to the longest length\n",
        "# per dimension.\n",
        "# you can also specify different shapes and padding values other than 0.\n",
        "# padding is always \"post\"\n",
        "train_data = train_data.padded_batch(32)"
      ]
    },
    {
      "cell_type": "code",
      "execution_count": 9,
      "metadata": {
        "id": "hUx7O2Ha4ifV"
      },
      "outputs": [],
      "source": [
        "# for sequence, label in train_data:\n",
        "#     print(sequence.shape, label.shape)\n",
        "#     input()"
      ]
    },
    {
      "cell_type": "code",
      "execution_count": 10,
      "metadata": {
        "id": "tVgxkqBIoXWe"
      },
      "outputs": [],
      "source": [
        "# we have to tell TF what to expect from the generator (\"Tensor Specification\")\n",
        "train_data = tf.data.Dataset.from_generator(gen, output_signature=(\n",
        "         tf.TensorSpec(shape=(None,), dtype=tf.int32),\n",
        "         tf.TensorSpec(shape=(), dtype=tf.int32)))\n",
        "\n",
        "# alternatively, we can use bucketing. the idea is to define buckets for specific\n",
        "# sequence lengths, and put all sequences in their corresponding bucket.\n",
        "# when a batch is requested, first a bucket is selected and then all elements of\n",
        "# the batch are taken from this bucket.\n",
        "# this guarantees that all elements in a batch are roughly the same length,\n",
        "# minimizing the amount of padding.\n",
        "\n",
        "# here is an example with buckets in steps of 50. all sequences above length 500\n",
        "# end up in the same bucket. same for sequences below length 50.\n",
        "# do note that I by no means claim that this is a \"good\" bucketing. play around with it!\n",
        "buckets = [50, 100, 150, 200, 250, 300, 350, 400, 450, 500]\n",
        "bucket_batch_size = [32] * (len(buckets) + 1)\n",
        "train_data = train_data.bucket_by_sequence_length(lambda sequence, label: tf.shape(sequence)[0],\n",
        "                                                  bucket_boundaries=buckets, bucket_batch_sizes=bucket_batch_size)"
      ]
    },
    {
      "cell_type": "code",
      "execution_count": 11,
      "metadata": {
        "id": "SwwKeEG1XloE"
      },
      "outputs": [],
      "source": [
        "# NOTE!!\n",
        "# you should probably still remove very long sequences (longer than some cutoff)\n",
        "# before converting to a dataset"
      ]
    },
    {
      "cell_type": "code",
      "execution_count": 12,
      "metadata": {
        "id": "7Bj3tdaWpCZz",
        "colab": {
          "base_uri": "https://localhost:8080/",
          "height": 356
        },
        "outputId": "3c34fa3b-8d0e-4393-f80d-9b5df777e82f"
      },
      "outputs": [
        {
          "output_type": "error",
          "ename": "KeyboardInterrupt",
          "evalue": "ignored",
          "traceback": [
            "\u001b[0;31m---------------------------------------------------------------------------\u001b[0m",
            "\u001b[0;31mKeyboardInterrupt\u001b[0m                         Traceback (most recent call last)",
            "\u001b[0;32m<ipython-input-12-3dbe9c8c8cc0>\u001b[0m in \u001b[0;36m<cell line: 5>\u001b[0;34m()\u001b[0m\n\u001b[1;32m      5\u001b[0m \u001b[0;32mfor\u001b[0m \u001b[0msequence\u001b[0m\u001b[0;34m,\u001b[0m \u001b[0mlabel\u001b[0m \u001b[0;32min\u001b[0m \u001b[0mtrain_data\u001b[0m\u001b[0;34m:\u001b[0m\u001b[0;34m\u001b[0m\u001b[0;34m\u001b[0m\u001b[0m\n\u001b[1;32m      6\u001b[0m     \u001b[0mprint\u001b[0m\u001b[0;34m(\u001b[0m\u001b[0msequence\u001b[0m\u001b[0;34m.\u001b[0m\u001b[0mshape\u001b[0m\u001b[0;34m,\u001b[0m \u001b[0mlabel\u001b[0m\u001b[0;34m.\u001b[0m\u001b[0mshape\u001b[0m\u001b[0;34m)\u001b[0m\u001b[0;34m\u001b[0m\u001b[0;34m\u001b[0m\u001b[0m\n\u001b[0;32m----> 7\u001b[0;31m     \u001b[0minput\u001b[0m\u001b[0;34m(\u001b[0m\u001b[0;34m)\u001b[0m\u001b[0;34m\u001b[0m\u001b[0;34m\u001b[0m\u001b[0m\n\u001b[0m",
            "\u001b[0;32m/usr/local/lib/python3.10/dist-packages/ipykernel/kernelbase.py\u001b[0m in \u001b[0;36mraw_input\u001b[0;34m(self, prompt)\u001b[0m\n\u001b[1;32m    849\u001b[0m                 \u001b[0;34m\"raw_input was called, but this frontend does not support input requests.\"\u001b[0m\u001b[0;34m\u001b[0m\u001b[0;34m\u001b[0m\u001b[0m\n\u001b[1;32m    850\u001b[0m             )\n\u001b[0;32m--> 851\u001b[0;31m         return self._input_request(str(prompt),\n\u001b[0m\u001b[1;32m    852\u001b[0m             \u001b[0mself\u001b[0m\u001b[0;34m.\u001b[0m\u001b[0m_parent_ident\u001b[0m\u001b[0;34m,\u001b[0m\u001b[0;34m\u001b[0m\u001b[0;34m\u001b[0m\u001b[0m\n\u001b[1;32m    853\u001b[0m             \u001b[0mself\u001b[0m\u001b[0;34m.\u001b[0m\u001b[0m_parent_header\u001b[0m\u001b[0;34m,\u001b[0m\u001b[0;34m\u001b[0m\u001b[0;34m\u001b[0m\u001b[0m\n",
            "\u001b[0;32m/usr/local/lib/python3.10/dist-packages/ipykernel/kernelbase.py\u001b[0m in \u001b[0;36m_input_request\u001b[0;34m(self, prompt, ident, parent, password)\u001b[0m\n\u001b[1;32m    893\u001b[0m             \u001b[0;32mexcept\u001b[0m \u001b[0mKeyboardInterrupt\u001b[0m\u001b[0;34m:\u001b[0m\u001b[0;34m\u001b[0m\u001b[0;34m\u001b[0m\u001b[0m\n\u001b[1;32m    894\u001b[0m                 \u001b[0;31m# re-raise KeyboardInterrupt, to truncate traceback\u001b[0m\u001b[0;34m\u001b[0m\u001b[0;34m\u001b[0m\u001b[0m\n\u001b[0;32m--> 895\u001b[0;31m                 \u001b[0;32mraise\u001b[0m \u001b[0mKeyboardInterrupt\u001b[0m\u001b[0;34m(\u001b[0m\u001b[0;34m\"Interrupted by user\"\u001b[0m\u001b[0;34m)\u001b[0m \u001b[0;32mfrom\u001b[0m \u001b[0;32mNone\u001b[0m\u001b[0;34m\u001b[0m\u001b[0;34m\u001b[0m\u001b[0m\n\u001b[0m\u001b[1;32m    896\u001b[0m             \u001b[0;32mexcept\u001b[0m \u001b[0mException\u001b[0m \u001b[0;32mas\u001b[0m \u001b[0me\u001b[0m\u001b[0;34m:\u001b[0m\u001b[0;34m\u001b[0m\u001b[0;34m\u001b[0m\u001b[0m\n\u001b[1;32m    897\u001b[0m                 \u001b[0mself\u001b[0m\u001b[0;34m.\u001b[0m\u001b[0mlog\u001b[0m\u001b[0;34m.\u001b[0m\u001b[0mwarning\u001b[0m\u001b[0;34m(\u001b[0m\u001b[0;34m\"Invalid Message:\"\u001b[0m\u001b[0;34m,\u001b[0m \u001b[0mexc_info\u001b[0m\u001b[0;34m=\u001b[0m\u001b[0;32mTrue\u001b[0m\u001b[0;34m)\u001b[0m\u001b[0;34m\u001b[0m\u001b[0;34m\u001b[0m\u001b[0m\n",
            "\u001b[0;31mKeyboardInterrupt\u001b[0m: Interrupted by user"
          ]
        }
      ],
      "source": [
        "# compare the average batch shapes with the padded_batch example. there, batches are\n",
        "# often length 800 or so because the longest sequence in the batch happened to\n",
        "# have that length.\n",
        "# with bucketing, we get many much smaller batches, meaning more efficient training.\n",
        "# for sequence, label in train_data:\n",
        "#     print(sequence.shape, label.shape)\n",
        "#     input()"
      ]
    },
    {
      "cell_type": "code",
      "execution_count": 13,
      "metadata": {
        "id": "8R5z3NdMAwD9"
      },
      "outputs": [],
      "source": [
        "# here's a very simple toy example for a keras lstm\n",
        "# the \"hidden dimensions\" are just randomly chosen.\n",
        "# you probably don't want to use a hidden size of 12 =) (but maybe it's actually really good?)\n",
        "\n",
        "\n",
        "# embedding comes first to replace one-hot vectors.\n",
        "#    mask_zero=True to prevent computations on padded time steps.\n",
        "# then an arbitrary number of RNN layers.\n",
        "# deeper RNN layers take as input sequence the state sequence of the layer before,\n",
        "# so all layers except the last one should return_sequences=True\n",
        "# finally, a Dense layer for the output, since the output computation is *not*\n",
        "# included in the RNN cells; all cells provided by Keras only compute the states\n",
        "model = tf.keras.Sequential([tf.keras.layers.Embedding(max_words, 20, mask_zero=True),\n",
        "                             tf.keras.layers.LSTM(12, return_sequences=True),\n",
        "                             tf.keras.layers.LSTM(15),\n",
        "                             tf.keras.layers.Dense(1)])\n",
        "\n",
        "\n",
        "# FYI, the third line is the same as the first two lines together.\n",
        "# the second option can use a much more efficient implementation, it will be SOOO much faster.\n",
        "# try it yourself!\n",
        "#rnn_cell = tf.keras.layers.LSTMCell(12)\n",
        "#rnn = tf.keras.layers.RNN(rnn_cell, return_sequences=False)\n",
        "rnn = tf.keras.layers.LSTM(12, return_sequences=False)"
      ]
    },
    {
      "cell_type": "code",
      "execution_count": 14,
      "metadata": {
        "id": "VQvxblepEoDt",
        "colab": {
          "base_uri": "https://localhost:8080/"
        },
        "outputId": "6a8ab11c-9258-4477-e635-caef5cc840e0"
      },
      "outputs": [
        {
          "output_type": "execute_result",
          "data": {
            "text/plain": [
              "<tf.Tensor: shape=(32, 12), dtype=float32, numpy=\n",
              "array([[ 1.03182076e-02, -9.85400379e-03,  5.38728898e-03,\n",
              "        -3.12197069e-03, -3.59827327e-03, -6.01565279e-03,\n",
              "         1.02322851e-03, -5.91283059e-03,  9.63811390e-03,\n",
              "        -1.13183735e-02, -7.47258868e-03,  6.39468490e-04],\n",
              "       [ 2.87764269e-04, -1.08905241e-03,  1.16517686e-03,\n",
              "         1.54600409e-03,  1.21857668e-03, -1.29989360e-03,\n",
              "        -1.82603544e-03, -3.12129455e-03, -8.18572880e-04,\n",
              "        -5.58801787e-03, -5.45064453e-03, -2.10679005e-04],\n",
              "       [ 1.27036842e-02, -1.29913203e-02,  7.83124659e-03,\n",
              "        -3.50800809e-03, -2.37028231e-03, -8.41268245e-03,\n",
              "         2.12897686e-03, -6.53660670e-03,  9.48545337e-03,\n",
              "        -1.35633145e-02, -1.09938420e-02,  1.67535339e-03],\n",
              "       [ 1.21668205e-02, -1.27318949e-02,  7.39842886e-03,\n",
              "        -3.38792615e-03, -2.62178830e-03, -7.73355411e-03,\n",
              "         1.92104396e-03, -6.50213007e-03,  9.49812308e-03,\n",
              "        -1.31752575e-02, -1.01916669e-02,  1.56272762e-03],\n",
              "       [ 1.27586499e-02, -1.30166272e-02,  7.86107313e-03,\n",
              "        -3.52144055e-03, -2.34094169e-03, -8.46917368e-03,\n",
              "         2.14809109e-03, -6.55013043e-03,  9.48364846e-03,\n",
              "        -1.35880327e-02, -1.10726012e-02,  1.68694917e-03],\n",
              "       [ 1.27998963e-02, -1.30354688e-02,  7.89727271e-03,\n",
              "        -3.55042098e-03, -2.33168015e-03, -8.52074381e-03,\n",
              "         2.17095274e-03, -6.55297702e-03,  9.49376635e-03,\n",
              "        -1.36082806e-02, -1.11381840e-02,  1.71169941e-03],\n",
              "       [ 1.25306929e-02, -1.28965247e-02,  7.76149379e-03,\n",
              "        -3.47784394e-03, -2.45140446e-03, -8.23329110e-03,\n",
              "         2.04258668e-03, -6.48753857e-03,  9.48222727e-03,\n",
              "        -1.35412253e-02, -1.08233383e-02,  1.64793653e-03],\n",
              "       [ 1.25713041e-02, -1.29334312e-02,  7.79916765e-03,\n",
              "        -3.54890060e-03, -2.49225297e-03, -8.32486898e-03,\n",
              "         2.10857601e-03, -6.49231439e-03,  9.52774379e-03,\n",
              "        -1.35316309e-02, -1.08797979e-02,  1.69250229e-03],\n",
              "       [ 9.73331928e-03, -1.04459999e-02,  5.55098522e-03,\n",
              "        -2.00974592e-03, -2.72929179e-03, -4.24899533e-03,\n",
              "        -1.72645494e-04, -6.39280397e-03,  8.52649845e-03,\n",
              "        -1.17743528e-02, -7.17245368e-03,  3.88865330e-04],\n",
              "       [ 8.46446119e-03, -7.61118717e-03,  5.62774902e-03,\n",
              "        -3.52811464e-03, -3.59661644e-03, -3.70832812e-03,\n",
              "        -2.33485916e-04, -4.85116197e-03,  8.24058801e-03,\n",
              "        -1.04484605e-02, -4.65072971e-03,  6.36144832e-04],\n",
              "       [ 9.80698317e-03, -1.18183568e-02,  5.69280097e-03,\n",
              "        -3.36820981e-03, -3.87824886e-03, -5.22792153e-03,\n",
              "         1.38268445e-03, -6.48884242e-03,  9.11606383e-03,\n",
              "        -1.22806942e-02, -8.48881993e-03,  1.06034207e-03],\n",
              "       [ 9.80554149e-03, -9.06131417e-03,  5.47009334e-03,\n",
              "        -4.17129556e-03, -4.15061554e-03, -3.44243040e-03,\n",
              "         2.10459717e-03, -4.58692294e-03,  9.52034444e-03,\n",
              "        -8.58665723e-03, -4.63788258e-03,  8.25577299e-04],\n",
              "       [ 1.21181179e-02, -1.27374968e-02,  7.34143704e-03,\n",
              "        -3.24272155e-03, -2.54091411e-03, -7.66018266e-03,\n",
              "         1.81033590e-03, -6.55950140e-03,  9.40145925e-03,\n",
              "        -1.32559454e-02, -1.02424296e-02,  1.47358701e-03],\n",
              "       [ 1.27205551e-02, -1.30034145e-02,  7.84680713e-03,\n",
              "        -3.51815927e-03, -2.36574281e-03, -8.43711663e-03,\n",
              "         2.13630893e-03, -6.53990917e-03,  9.48559958e-03,\n",
              "        -1.35832494e-02, -1.10364351e-02,  1.68510887e-03],\n",
              "       [ 1.28045501e-02, -1.30372383e-02,  7.90023059e-03,\n",
              "        -3.55126150e-03, -2.32885173e-03, -8.52564443e-03,\n",
              "         2.17242702e-03, -6.55371277e-03,  9.49348416e-03,\n",
              "        -1.36105213e-02, -1.11442348e-02,  1.71244226e-03],\n",
              "       [ 1.27844969e-02, -1.30294897e-02,  7.88793340e-03,\n",
              "        -3.54777672e-03, -2.34118057e-03, -8.50485358e-03,\n",
              "         2.16620718e-03, -6.55017048e-03,  9.49480943e-03,\n",
              "        -1.36010144e-02, -1.11178961e-02,  1.70933467e-03],\n",
              "       [ 1.06250606e-02, -1.12580955e-02,  6.97592087e-03,\n",
              "        -3.39905778e-03, -3.44316219e-03, -6.07996620e-03,\n",
              "         9.58082033e-04, -5.68299601e-03,  9.48162377e-03,\n",
              "        -1.31283579e-02, -8.89718439e-03,  1.43366936e-03],\n",
              "       [ 5.68838464e-03,  3.57054756e-04,  3.98025149e-04,\n",
              "        -1.45335347e-04, -8.35327024e-04, -6.34734891e-03,\n",
              "        -4.06763842e-03, -1.61531498e-03,  3.94100230e-03,\n",
              "        -6.12428831e-03, -5.46153542e-03, -6.26459776e-04],\n",
              "       [ 1.28018707e-02, -1.30364485e-02,  7.89931230e-03,\n",
              "        -3.55206290e-03, -2.33149226e-03, -8.52352101e-03,\n",
              "         2.17219139e-03, -6.55296724e-03,  9.49441176e-03,\n",
              "        -1.36094736e-02, -1.11415638e-02,  1.71309826e-03],\n",
              "       [ 3.71993473e-03,  7.80979972e-05, -1.84140087e-03,\n",
              "        -4.06608824e-03,  2.45578680e-03,  1.75962667e-03,\n",
              "        -1.12355931e-03,  4.85318992e-03,  1.24354870e-03,\n",
              "        -1.08658653e-02, -2.64936197e-03, -7.25605618e-03],\n",
              "       [ 1.28161702e-02, -1.30472090e-02,  7.93405157e-03,\n",
              "        -3.59694124e-03, -2.35426915e-03, -8.55996087e-03,\n",
              "         2.19654944e-03, -6.54372200e-03,  9.51822940e-03,\n",
              "        -1.36221265e-02, -1.11829946e-02,  1.75082963e-03],\n",
              "       [ 1.20637668e-02, -1.26359798e-02,  7.47359358e-03,\n",
              "        -3.24763474e-03, -2.53006071e-03, -7.68818567e-03,\n",
              "         1.75079657e-03, -6.40794821e-03,  9.35936812e-03,\n",
              "        -1.34663824e-02, -1.02946497e-02,  1.47015473e-03],\n",
              "       [ 1.27867712e-02, -1.30306464e-02,  7.89181888e-03,\n",
              "        -3.55366874e-03, -2.34341575e-03, -8.50877259e-03,\n",
              "         2.16923398e-03, -6.54944777e-03,  9.49777663e-03,\n",
              "        -1.36019038e-02, -1.11235259e-02,  1.71440886e-03],\n",
              "       [ 3.98375420e-03, -1.38852361e-03,  1.33454672e-03,\n",
              "        -7.59614108e-04, -4.16394183e-03,  2.59424513e-03,\n",
              "        -6.48822635e-04, -4.84401640e-03,  1.37228437e-03,\n",
              "        -7.18166120e-03, -1.38039608e-03, -1.06934494e-04],\n",
              "       [ 1.28002744e-02, -1.30355870e-02,  7.89749343e-03,\n",
              "        -3.55063006e-03, -2.33151857e-03, -8.52109306e-03,\n",
              "         2.17112689e-03, -6.55304501e-03,  9.49383248e-03,\n",
              "        -1.36083262e-02, -1.11386431e-02,  1.71186845e-03],\n",
              "       [ 4.44872770e-03, -5.72876586e-03,  4.54882393e-03,\n",
              "         1.36337348e-03,  1.47498038e-04, -6.12444011e-04,\n",
              "         1.15562339e-04, -6.29608426e-03,  5.11507178e-03,\n",
              "        -5.30348206e-03, -2.60430761e-03, -2.74975179e-03],\n",
              "       [ 1.27506908e-02, -1.30302133e-02,  7.89664965e-03,\n",
              "        -3.59632913e-03, -2.40564696e-03, -8.49375222e-03,\n",
              "         2.17829202e-03, -6.53622625e-03,  9.52990726e-03,\n",
              "        -1.35978283e-02, -1.11208986e-02,  1.75340811e-03],\n",
              "       [ 1.27650946e-02, -1.30222058e-02,  7.87771121e-03,\n",
              "        -3.54765402e-03, -2.35493574e-03, -8.48530140e-03,\n",
              "         2.16114568e-03, -6.54612528e-03,  9.49750841e-03,\n",
              "        -1.35928430e-02, -1.10957511e-02,  1.70944515e-03],\n",
              "       [ 8.55486002e-03, -3.69297573e-04, -1.15614466e-03,\n",
              "         2.40321900e-03, -1.67404022e-03,  1.24051701e-03,\n",
              "        -5.11094648e-03, -5.60184382e-03,  2.99587700e-05,\n",
              "         1.33850990e-04, -1.73112835e-06, -2.41828430e-03],\n",
              "       [ 8.40234384e-03, -1.01266075e-02,  4.01123008e-03,\n",
              "        -1.77345215e-03, -3.50627862e-03, -3.62171442e-03,\n",
              "         2.96251150e-04, -5.99967781e-03,  8.44226684e-03,\n",
              "        -1.08464435e-02, -6.04350958e-03, -6.43136154e-04],\n",
              "       [ 7.62186805e-03, -8.90367944e-03,  3.41500901e-03,\n",
              "        -2.04054336e-03, -2.84309220e-03, -4.63540386e-03,\n",
              "         2.92852102e-03, -6.15166454e-03,  6.08735159e-03,\n",
              "        -9.21162032e-03, -8.17648880e-03, -3.61878454e-04],\n",
              "       [ 1.23157501e-02, -1.27931684e-02,  7.49583310e-03,\n",
              "        -3.29041365e-03, -2.46613612e-03, -7.90042523e-03,\n",
              "         1.92255375e-03, -6.51162351e-03,  9.41463187e-03,\n",
              "        -1.33370915e-02, -1.03909653e-02,  1.48760667e-03]], dtype=float32)>"
            ]
          },
          "metadata": {},
          "execution_count": 14
        }
      ],
      "source": [
        "# calling RNN layers is easy!\n",
        "one_hot_batch = tf.one_hot(sequence, depth=max_words)\n",
        "rnn(one_hot_batch)"
      ]
    },
    {
      "cell_type": "markdown",
      "source": [
        "Word2Vec"
      ],
      "metadata": {
        "id": "30Eobcpnb2xq"
      }
    },
    {
      "cell_type": "markdown",
      "source": [
        "Given the sentence \"I like to cuddle dogs\", how many skipgrams are created with a window size of 2?\n",
        "Total of 4 skipgrams\n",
        "\n",
        "In general, how does the number of skipgrams relate to the size of the dataset (in terms of input-target\n",
        "pairs)?\n",
        "In general, the number of skip-grams is proportional to the product of the dataset size and the window size\n",
        "\n",
        "Why is it not a good idea to compute the full softmax for classification?\n",
        "Computing the full softmax for classification can be computationally expensive, especially when dealing with large numbers of classes. The softmax function is used to convert a vector of raw scores (logits) into a probability distribution over multiple classes.\n",
        "\n",
        "The way the dataset is created, for a given (target, context) pair, are the negative samples\n",
        "(remember, these are randomly sampled) the same each time this training example is seen, or are they\n",
        "different?\n",
        "Different when training a model\n",
        "\n",
        "For the given example dataset (Shakespeare), would the code create (target, context) pairs for\n",
        "sentences that span multiple lines? For example, the last word of one line and the first word of the next\n",
        "line?\n",
        "No\n",
        "\n",
        "Does the code generate skipgrams for padding characters (index 0)?\n",
        "No\n",
        "\n",
        "The skipgrams function uses a \"sampling table\". In the code, this is shown to be a simple list of\n",
        "probabilities, and it is created without any reference to the actual text data. How/why does this work?\n",
        "I.e. how does the program \"know\" which words to sample with which probability?\n",
        "The program \"knows\" which words to sample with which probability because the sampling table is pre-computed based on word frequencies."
      ],
      "metadata": {
        "id": "mb1PgZbpb60T"
      }
    }
  ]
}