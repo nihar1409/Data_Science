{
 "cells": [
  {
   "cell_type": "code",
   "execution_count": null,
   "id": "df010e97",
   "metadata": {},
   "outputs": [],
   "source": [
    "#Question 1 \n",
    "# What is a list and how to reverse a list\n",
    "\n",
    "# A list is a container of objects of multiple data types. It can consist of integers, floats, character, lists itself or -\n",
    "# other data types. To make a list we use[]. For example [1,2,3,\"abc\", 1.89,[1.5,\"apples\", 1]].\n",
    "# It is a data type.\n",
    "\n",
    "# To reverse a list we use reverse method\n",
    "lst1 = [\"a\", 1, \"def\", 1.5]\n",
    "lst1.reverse()\n",
    "print(lst1)"
   ]
  },
  {
   "cell_type": "code",
   "execution_count": null,
   "id": "031665f8",
   "metadata": {},
   "outputs": [],
   "source": [
    "# Question 2\n",
    "#How to remove last object from a list\n",
    "\n",
    "# We use pop method to remove the last object\n",
    "lst1 = [\"a\", 1, \"def\", 1.5]\n",
    "lst1.pop()\n",
    "print(lst1)\n"
   ]
  },
  {
   "cell_type": "code",
   "execution_count": null,
   "id": "76c31e76",
   "metadata": {},
   "outputs": [],
   "source": [
    "# Question 3 \n",
    "# What is index [-1] of list1 = [2, 33, 222, 14, 25]\n",
    "#[-1] is the last element of the list.\n",
    "\n",
    "list1 = [2, 33, 222, 14, 25]\n",
    "a = list1[-1]\n",
    "print(a)"
   ]
  },
  {
   "cell_type": "code",
   "execution_count": null,
   "id": "05d31a17",
   "metadata": {},
   "outputs": [],
   "source": [
    "# Question 4\n",
    "# Differentiate between appen and extend method\n",
    "\n",
    "# append method adds an element to the last index of the list but it adds it as a single element if its a list or other similar\n",
    "#data type.\n",
    "# Whereas extend adds the whole lists each element as a different element after the current list we are adding to ends.\n",
    "\n",
    "list1 = [2, 33, 222, 14, 25]\n",
    "lst1 = [\"a\", 1, \"def\", 1.5]\n",
    "list1.append(lst1)\n",
    "print(list1)\n",
    "print()\n",
    "list1.extend(lst1)\n",
    "print(list1)"
   ]
  },
  {
   "cell_type": "code",
   "execution_count": null,
   "id": "e4c946fa",
   "metadata": {},
   "outputs": [],
   "source": [
    "# Question 5\n",
    "# Find the largest, smallest, sum of all numbs in a list\n",
    "\n",
    "list1 = [2, 33, 222, 14, 25, 1]\n",
    "a = 0\n",
    "for i in list1:\n",
    "    if(a < i):\n",
    "        a = i\n",
    "print(\"Largest number in the list is :\", a)\n",
    "\n",
    "for i in list1:\n",
    "    b = list1[0]\n",
    "    if(b > i):\n",
    "        b = i\n",
    "    \n",
    "print(\"Smallest number in the list is :\", b)\n",
    "\n",
    "c = 0\n",
    "for i in list1:\n",
    "    c += i\n",
    "    \n",
    "print(\"Sum of two numbers is :\", c)"
   ]
  },
  {
   "cell_type": "code",
   "execution_count": null,
   "id": "7f428616",
   "metadata": {},
   "outputs": [],
   "source": [
    "# Question 6\n",
    "# How to compare two lists\n",
    "\n"
   ]
  },
  {
   "cell_type": "code",
   "execution_count": null,
   "id": "92848a49",
   "metadata": {},
   "outputs": [],
   "source": [
    "# Question 7\n",
    "# Program to count the number of strings where the string length is more than two or equal and first and last character are\n",
    "# same\n",
    "\n",
    "strCount = 0\n",
    "test = \"a\"\n",
    "lst1 = [\"abc\", 1, 5, \"d\", \"a\", \"c\", 760]\n",
    "\n",
    "for i in lst1:\n",
    "    if type(i) == type(test):\n",
    "        strCount += 1\n",
    "    \n",
    "print(strCount)"
   ]
  },
  {
   "cell_type": "code",
   "execution_count": null,
   "id": "7197e89b",
   "metadata": {},
   "outputs": [],
   "source": [
    "# Question 8\n",
    "# Program to remove duplicates from a list\n",
    "\n",
    "#using for loop and membership operators\n",
    "lst1 = [\"a\", \"a\", \"abc\", \"abc\", 2, 5, 5, 10, 4]\n",
    "lst2 = []\n",
    "for i in lst1:\n",
    "    if i not in lst2:\n",
    "        lst2.append(i)\n",
    "        \n",
    "print(lst2)\n",
    "\n",
    "#using data type casting(converting to set as set doesn't allow duplicates)\n",
    "\n",
    "lst3 = set(lst1)\n",
    "lst1 = list(lst3)\n",
    "\n",
    "print(lst1)\n",
    "\n"
   ]
  },
  {
   "cell_type": "code",
   "execution_count": null,
   "id": "3b0cd457",
   "metadata": {},
   "outputs": [],
   "source": [
    "# Question 9\n",
    "# Progran to print list is empty if no elements are found\n",
    "\n",
    "lst1 = []\n",
    "a = 0\n",
    "for i in lst1:\n",
    "    a += 1\n",
    "if(a == 0):\n",
    "    print(\"list is empty\")\n",
    "\n"
   ]
  },
  {
   "cell_type": "code",
   "execution_count": null,
   "id": "6dbb6387",
   "metadata": {},
   "outputs": [],
   "source": [
    "# Question 10\n",
    "# Program that returns true for two list if any common member found between them\n",
    "\n",
    "lst1 = [1, 2, 3, 4 ,5]\n",
    "lst2 = [2 ,6 ,7 ,8 ,5]\n",
    "a = 0\n",
    "\n",
    "for i in lst1:\n",
    "    for j in lst2:\n",
    "        if j == i:\n",
    "            a += 1\n",
    "            print(i == j)\n",
    "print(\"The lists have\", a, \"common elements\")\n",
    "    \n",
    "            \n",
    "    "
   ]
  },
  {
   "cell_type": "code",
   "execution_count": 17,
   "id": "4aaca488",
   "metadata": {},
   "outputs": [
    {
     "name": "stdout",
     "output_type": "stream",
     "text": [
      "[1, 4, 9, 16, 25, 676, 729, 784, 841, 900]\n"
     ]
    }
   ],
   "source": [
    "# Question 11\n",
    "# Program to print the first 5 and last five elements in a list where the numbers are square ranginng betn 1 to 30\n",
    "\n",
    "lst1 = []\n",
    "a = 30\n",
    "\n",
    "for i in range (1, a+1):\n",
    "    if (i <= 5 or i > 25):\n",
    "        lst1.append(i*i)\n",
    "print(lst1)"
   ]
  },
  {
   "cell_type": "code",
   "execution_count": null,
   "id": "bb026778",
   "metadata": {
    "scrolled": true
   },
   "outputs": [],
   "source": [
    "# Trying to create a dynamic list\n",
    "# Not an assignment question\n",
    "\n",
    "element = 1\n",
    "a = []\n",
    "eleCount = input(\"Enter the number of items you want to add: \")\n",
    "\n",
    "for i in range(0, int(eleCount)):\n",
    "    item = input(element, ) #how to add a space? as it takes only two positions\n",
    "    if(item.isdigit()):\n",
    "        item = int(item)\n",
    "    element += 1\n",
    "    a.append(item)\n",
    "print(a)\n",
    "\n",
    "    "
   ]
  },
  {
   "cell_type": "code",
   "execution_count": 11,
   "id": "2beeee38",
   "metadata": {},
   "outputs": [
    {
     "name": "stdout",
     "output_type": "stream",
     "text": [
      "Enter -1 if you are done adding all items to the list: 10\n",
      "Enter -1 if you are done adding all items to the list: 18\n",
      "Enter -1 if you are done adding all items to the list: -1\n",
      "[10, 18]\n"
     ]
    }
   ],
   "source": [
    "# Dynamic input for user who is undecided on how many elements to add\n",
    "\n",
    "el = 1\n",
    "b = []\n",
    "\n",
    "item = input(\"Enter -1 if you are done adding all items to the list: \")\n",
    "\n",
    "while item != \"-1\":\n",
    "    if(item.isdigit()):\n",
    "        item = int(item)\n",
    "    \n",
    "    b.append(item)\n",
    "    item = input(\"Enter -1 if you are done adding all items to the list: \")\n",
    "\n",
    "print(b)"
   ]
  },
  {
   "cell_type": "code",
   "execution_count": null,
   "id": "88b2e1be",
   "metadata": {},
   "outputs": [],
   "source": []
  }
 ],
 "metadata": {
  "kernelspec": {
   "display_name": "Python 3 (ipykernel)",
   "language": "python",
   "name": "python3"
  },
  "language_info": {
   "codemirror_mode": {
    "name": "ipython",
    "version": 3
   },
   "file_extension": ".py",
   "mimetype": "text/x-python",
   "name": "python",
   "nbconvert_exporter": "python",
   "pygments_lexer": "ipython3",
   "version": "3.9.12"
  }
 },
 "nbformat": 4,
 "nbformat_minor": 5
}
