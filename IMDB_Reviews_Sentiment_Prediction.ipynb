{
  "nbformat": 4,
  "nbformat_minor": 0,
  "metadata": {
    "colab": {
      "provenance": []
    },
    "kernelspec": {
      "name": "python3",
      "display_name": "Python 3"
    },
    "language_info": {
      "name": "python"
    }
  },
  "cells": [
    {
      "cell_type": "code",
      "execution_count": null,
      "metadata": {
        "id": "OsLWy7Hky4lT"
      },
      "outputs": [],
      "source": [
        "import pandas as pd\n",
        "import numpy as np"
      ]
    },
    {
      "cell_type": "code",
      "source": [
        "from google.colab import drive\n",
        "drive.mount(\"/content/drive\")"
      ],
      "metadata": {
        "colab": {
          "base_uri": "https://localhost:8080/"
        },
        "id": "W8QJmmfEzFp_",
        "outputId": "71cc5e0d-adee-417f-b58c-2b874c424778"
      },
      "execution_count": null,
      "outputs": [
        {
          "output_type": "stream",
          "name": "stdout",
          "text": [
            "Mounted at /content/drive\n"
          ]
        }
      ]
    },
    {
      "cell_type": "code",
      "source": [
        "train = pd.read_csv(\"/content/drive/MyDrive/IMDB_reviews/archive/train.csv\")"
      ],
      "metadata": {
        "id": "4koJb-8jztAv"
      },
      "execution_count": null,
      "outputs": []
    },
    {
      "cell_type": "code",
      "source": [
        "test = pd.read_csv(\"/content/drive/MyDrive/IMDB_reviews/archive/test.csv\")"
      ],
      "metadata": {
        "id": "25jx1YAX0Dg3"
      },
      "execution_count": null,
      "outputs": []
    },
    {
      "cell_type": "markdown",
      "source": [
        "# Preprocess"
      ],
      "metadata": {
        "id": "FwnruBK61D5B"
      }
    },
    {
      "cell_type": "code",
      "source": [
        "train[\"sentiment\"].value_counts()"
      ],
      "metadata": {
        "colab": {
          "base_uri": "https://localhost:8080/"
        },
        "id": "FcpV9hP30Jp_",
        "outputId": "5a6af5c7-0878-4f4c-cefb-71c56120b9b1"
      },
      "execution_count": null,
      "outputs": [
        {
          "output_type": "execute_result",
          "data": {
            "text/plain": [
              "neg    12500\n",
              "pos    12500\n",
              "Name: sentiment, dtype: int64"
            ]
          },
          "metadata": {},
          "execution_count": 6
        }
      ]
    },
    {
      "cell_type": "code",
      "source": [
        "dups = train.duplicated()"
      ],
      "metadata": {
        "id": "pNQegTKi0V6m"
      },
      "execution_count": null,
      "outputs": []
    },
    {
      "cell_type": "code",
      "source": [
        "train[dups]"
      ],
      "metadata": {
        "colab": {
          "base_uri": "https://localhost:8080/",
          "height": 423
        },
        "id": "Se3Sndj70fyf",
        "outputId": "eff31488-243d-4fb8-8b4e-5f8783088478"
      },
      "execution_count": null,
      "outputs": [
        {
          "output_type": "execute_result",
          "data": {
            "text/plain": [
              "                                                    text sentiment\n",
              "1752   Do we really need any more narcissistic garbag...       neg\n",
              "3002   Bette Midler is again Divine! Raunchily humoro...       pos\n",
              "3987   Wow! So much fun! Probably a bit much for norm...       pos\n",
              "5378   in this movie, joe pesci slams dunks a basketb...       neg\n",
              "6078   .......Playing Kaddiddlehopper, Col San Fernan...       pos\n",
              "...                                                  ...       ...\n",
              "24349  This movie surprised me. Some things were \"cli...       pos\n",
              "24555  I'm trying to picture the pitch for Dark Angel...       neg\n",
              "24646  Awful, simply awful. It proves my theory about...       neg\n",
              "24658  In a movie that follows a struggling actor, pl...       neg\n",
              "24668  During a Kurt Weill celebration in Brooklyn, W...       pos\n",
              "\n",
              "[96 rows x 2 columns]"
            ],
            "text/html": [
              "\n",
              "  <div id=\"df-f1d96b17-25cc-4565-b4e3-e34f82914317\" class=\"colab-df-container\">\n",
              "    <div>\n",
              "<style scoped>\n",
              "    .dataframe tbody tr th:only-of-type {\n",
              "        vertical-align: middle;\n",
              "    }\n",
              "\n",
              "    .dataframe tbody tr th {\n",
              "        vertical-align: top;\n",
              "    }\n",
              "\n",
              "    .dataframe thead th {\n",
              "        text-align: right;\n",
              "    }\n",
              "</style>\n",
              "<table border=\"1\" class=\"dataframe\">\n",
              "  <thead>\n",
              "    <tr style=\"text-align: right;\">\n",
              "      <th></th>\n",
              "      <th>text</th>\n",
              "      <th>sentiment</th>\n",
              "    </tr>\n",
              "  </thead>\n",
              "  <tbody>\n",
              "    <tr>\n",
              "      <th>1752</th>\n",
              "      <td>Do we really need any more narcissistic garbag...</td>\n",
              "      <td>neg</td>\n",
              "    </tr>\n",
              "    <tr>\n",
              "      <th>3002</th>\n",
              "      <td>Bette Midler is again Divine! Raunchily humoro...</td>\n",
              "      <td>pos</td>\n",
              "    </tr>\n",
              "    <tr>\n",
              "      <th>3987</th>\n",
              "      <td>Wow! So much fun! Probably a bit much for norm...</td>\n",
              "      <td>pos</td>\n",
              "    </tr>\n",
              "    <tr>\n",
              "      <th>5378</th>\n",
              "      <td>in this movie, joe pesci slams dunks a basketb...</td>\n",
              "      <td>neg</td>\n",
              "    </tr>\n",
              "    <tr>\n",
              "      <th>6078</th>\n",
              "      <td>.......Playing Kaddiddlehopper, Col San Fernan...</td>\n",
              "      <td>pos</td>\n",
              "    </tr>\n",
              "    <tr>\n",
              "      <th>...</th>\n",
              "      <td>...</td>\n",
              "      <td>...</td>\n",
              "    </tr>\n",
              "    <tr>\n",
              "      <th>24349</th>\n",
              "      <td>This movie surprised me. Some things were \"cli...</td>\n",
              "      <td>pos</td>\n",
              "    </tr>\n",
              "    <tr>\n",
              "      <th>24555</th>\n",
              "      <td>I'm trying to picture the pitch for Dark Angel...</td>\n",
              "      <td>neg</td>\n",
              "    </tr>\n",
              "    <tr>\n",
              "      <th>24646</th>\n",
              "      <td>Awful, simply awful. It proves my theory about...</td>\n",
              "      <td>neg</td>\n",
              "    </tr>\n",
              "    <tr>\n",
              "      <th>24658</th>\n",
              "      <td>In a movie that follows a struggling actor, pl...</td>\n",
              "      <td>neg</td>\n",
              "    </tr>\n",
              "    <tr>\n",
              "      <th>24668</th>\n",
              "      <td>During a Kurt Weill celebration in Brooklyn, W...</td>\n",
              "      <td>pos</td>\n",
              "    </tr>\n",
              "  </tbody>\n",
              "</table>\n",
              "<p>96 rows × 2 columns</p>\n",
              "</div>\n",
              "    <div class=\"colab-df-buttons\">\n",
              "\n",
              "  <div class=\"colab-df-container\">\n",
              "    <button class=\"colab-df-convert\" onclick=\"convertToInteractive('df-f1d96b17-25cc-4565-b4e3-e34f82914317')\"\n",
              "            title=\"Convert this dataframe to an interactive table.\"\n",
              "            style=\"display:none;\">\n",
              "\n",
              "  <svg xmlns=\"http://www.w3.org/2000/svg\" height=\"24px\" viewBox=\"0 -960 960 960\">\n",
              "    <path d=\"M120-120v-720h720v720H120Zm60-500h600v-160H180v160Zm220 220h160v-160H400v160Zm0 220h160v-160H400v160ZM180-400h160v-160H180v160Zm440 0h160v-160H620v160ZM180-180h160v-160H180v160Zm440 0h160v-160H620v160Z\"/>\n",
              "  </svg>\n",
              "    </button>\n",
              "\n",
              "  <style>\n",
              "    .colab-df-container {\n",
              "      display:flex;\n",
              "      gap: 12px;\n",
              "    }\n",
              "\n",
              "    .colab-df-convert {\n",
              "      background-color: #E8F0FE;\n",
              "      border: none;\n",
              "      border-radius: 50%;\n",
              "      cursor: pointer;\n",
              "      display: none;\n",
              "      fill: #1967D2;\n",
              "      height: 32px;\n",
              "      padding: 0 0 0 0;\n",
              "      width: 32px;\n",
              "    }\n",
              "\n",
              "    .colab-df-convert:hover {\n",
              "      background-color: #E2EBFA;\n",
              "      box-shadow: 0px 1px 2px rgba(60, 64, 67, 0.3), 0px 1px 3px 1px rgba(60, 64, 67, 0.15);\n",
              "      fill: #174EA6;\n",
              "    }\n",
              "\n",
              "    .colab-df-buttons div {\n",
              "      margin-bottom: 4px;\n",
              "    }\n",
              "\n",
              "    [theme=dark] .colab-df-convert {\n",
              "      background-color: #3B4455;\n",
              "      fill: #D2E3FC;\n",
              "    }\n",
              "\n",
              "    [theme=dark] .colab-df-convert:hover {\n",
              "      background-color: #434B5C;\n",
              "      box-shadow: 0px 1px 3px 1px rgba(0, 0, 0, 0.15);\n",
              "      filter: drop-shadow(0px 1px 2px rgba(0, 0, 0, 0.3));\n",
              "      fill: #FFFFFF;\n",
              "    }\n",
              "  </style>\n",
              "\n",
              "    <script>\n",
              "      const buttonEl =\n",
              "        document.querySelector('#df-f1d96b17-25cc-4565-b4e3-e34f82914317 button.colab-df-convert');\n",
              "      buttonEl.style.display =\n",
              "        google.colab.kernel.accessAllowed ? 'block' : 'none';\n",
              "\n",
              "      async function convertToInteractive(key) {\n",
              "        const element = document.querySelector('#df-f1d96b17-25cc-4565-b4e3-e34f82914317');\n",
              "        const dataTable =\n",
              "          await google.colab.kernel.invokeFunction('convertToInteractive',\n",
              "                                                    [key], {});\n",
              "        if (!dataTable) return;\n",
              "\n",
              "        const docLinkHtml = 'Like what you see? Visit the ' +\n",
              "          '<a target=\"_blank\" href=https://colab.research.google.com/notebooks/data_table.ipynb>data table notebook</a>'\n",
              "          + ' to learn more about interactive tables.';\n",
              "        element.innerHTML = '';\n",
              "        dataTable['output_type'] = 'display_data';\n",
              "        await google.colab.output.renderOutput(dataTable, element);\n",
              "        const docLink = document.createElement('div');\n",
              "        docLink.innerHTML = docLinkHtml;\n",
              "        element.appendChild(docLink);\n",
              "      }\n",
              "    </script>\n",
              "  </div>\n",
              "\n",
              "\n",
              "<div id=\"df-526a9b79-a68b-4dd1-b4cc-e9bae027dbe8\">\n",
              "  <button class=\"colab-df-quickchart\" onclick=\"quickchart('df-526a9b79-a68b-4dd1-b4cc-e9bae027dbe8')\"\n",
              "            title=\"Suggest charts.\"\n",
              "            style=\"display:none;\">\n",
              "\n",
              "<svg xmlns=\"http://www.w3.org/2000/svg\" height=\"24px\"viewBox=\"0 0 24 24\"\n",
              "     width=\"24px\">\n",
              "    <g>\n",
              "        <path d=\"M19 3H5c-1.1 0-2 .9-2 2v14c0 1.1.9 2 2 2h14c1.1 0 2-.9 2-2V5c0-1.1-.9-2-2-2zM9 17H7v-7h2v7zm4 0h-2V7h2v10zm4 0h-2v-4h2v4z\"/>\n",
              "    </g>\n",
              "</svg>\n",
              "  </button>\n",
              "\n",
              "<style>\n",
              "  .colab-df-quickchart {\n",
              "      --bg-color: #E8F0FE;\n",
              "      --fill-color: #1967D2;\n",
              "      --hover-bg-color: #E2EBFA;\n",
              "      --hover-fill-color: #174EA6;\n",
              "      --disabled-fill-color: #AAA;\n",
              "      --disabled-bg-color: #DDD;\n",
              "  }\n",
              "\n",
              "  [theme=dark] .colab-df-quickchart {\n",
              "      --bg-color: #3B4455;\n",
              "      --fill-color: #D2E3FC;\n",
              "      --hover-bg-color: #434B5C;\n",
              "      --hover-fill-color: #FFFFFF;\n",
              "      --disabled-bg-color: #3B4455;\n",
              "      --disabled-fill-color: #666;\n",
              "  }\n",
              "\n",
              "  .colab-df-quickchart {\n",
              "    background-color: var(--bg-color);\n",
              "    border: none;\n",
              "    border-radius: 50%;\n",
              "    cursor: pointer;\n",
              "    display: none;\n",
              "    fill: var(--fill-color);\n",
              "    height: 32px;\n",
              "    padding: 0;\n",
              "    width: 32px;\n",
              "  }\n",
              "\n",
              "  .colab-df-quickchart:hover {\n",
              "    background-color: var(--hover-bg-color);\n",
              "    box-shadow: 0 1px 2px rgba(60, 64, 67, 0.3), 0 1px 3px 1px rgba(60, 64, 67, 0.15);\n",
              "    fill: var(--button-hover-fill-color);\n",
              "  }\n",
              "\n",
              "  .colab-df-quickchart-complete:disabled,\n",
              "  .colab-df-quickchart-complete:disabled:hover {\n",
              "    background-color: var(--disabled-bg-color);\n",
              "    fill: var(--disabled-fill-color);\n",
              "    box-shadow: none;\n",
              "  }\n",
              "\n",
              "  .colab-df-spinner {\n",
              "    border: 2px solid var(--fill-color);\n",
              "    border-color: transparent;\n",
              "    border-bottom-color: var(--fill-color);\n",
              "    animation:\n",
              "      spin 1s steps(1) infinite;\n",
              "  }\n",
              "\n",
              "  @keyframes spin {\n",
              "    0% {\n",
              "      border-color: transparent;\n",
              "      border-bottom-color: var(--fill-color);\n",
              "      border-left-color: var(--fill-color);\n",
              "    }\n",
              "    20% {\n",
              "      border-color: transparent;\n",
              "      border-left-color: var(--fill-color);\n",
              "      border-top-color: var(--fill-color);\n",
              "    }\n",
              "    30% {\n",
              "      border-color: transparent;\n",
              "      border-left-color: var(--fill-color);\n",
              "      border-top-color: var(--fill-color);\n",
              "      border-right-color: var(--fill-color);\n",
              "    }\n",
              "    40% {\n",
              "      border-color: transparent;\n",
              "      border-right-color: var(--fill-color);\n",
              "      border-top-color: var(--fill-color);\n",
              "    }\n",
              "    60% {\n",
              "      border-color: transparent;\n",
              "      border-right-color: var(--fill-color);\n",
              "    }\n",
              "    80% {\n",
              "      border-color: transparent;\n",
              "      border-right-color: var(--fill-color);\n",
              "      border-bottom-color: var(--fill-color);\n",
              "    }\n",
              "    90% {\n",
              "      border-color: transparent;\n",
              "      border-bottom-color: var(--fill-color);\n",
              "    }\n",
              "  }\n",
              "</style>\n",
              "\n",
              "  <script>\n",
              "    async function quickchart(key) {\n",
              "      const quickchartButtonEl =\n",
              "        document.querySelector('#' + key + ' button');\n",
              "      quickchartButtonEl.disabled = true;  // To prevent multiple clicks.\n",
              "      quickchartButtonEl.classList.add('colab-df-spinner');\n",
              "      try {\n",
              "        const charts = await google.colab.kernel.invokeFunction(\n",
              "            'suggestCharts', [key], {});\n",
              "      } catch (error) {\n",
              "        console.error('Error during call to suggestCharts:', error);\n",
              "      }\n",
              "      quickchartButtonEl.classList.remove('colab-df-spinner');\n",
              "      quickchartButtonEl.classList.add('colab-df-quickchart-complete');\n",
              "    }\n",
              "    (() => {\n",
              "      let quickchartButtonEl =\n",
              "        document.querySelector('#df-526a9b79-a68b-4dd1-b4cc-e9bae027dbe8 button');\n",
              "      quickchartButtonEl.style.display =\n",
              "        google.colab.kernel.accessAllowed ? 'block' : 'none';\n",
              "    })();\n",
              "  </script>\n",
              "</div>\n",
              "    </div>\n",
              "  </div>\n"
            ]
          },
          "metadata": {},
          "execution_count": 8
        }
      ]
    },
    {
      "cell_type": "code",
      "source": [
        "train.drop_duplicates(inplace=True)"
      ],
      "metadata": {
        "id": "DR96ZaN20udY"
      },
      "execution_count": null,
      "outputs": []
    },
    {
      "cell_type": "code",
      "source": [
        "train[\"text\"][2]"
      ],
      "metadata": {
        "colab": {
          "base_uri": "https://localhost:8080/",
          "height": 126
        },
        "id": "IFsEZ70W02-o",
        "outputId": "1e30ed9b-80c4-4e0e-ca91-9f02d3f49a8f"
      },
      "execution_count": null,
      "outputs": [
        {
          "output_type": "execute_result",
          "data": {
            "text/plain": [
              "'Last night I decided to watch the prequel or shall I say the so called prequel to Carlito\\'s Way - \"Carlito\\'s Way: Rise to Power (2005)\" which went straight to DVD...no wonder .....it completely ...and I mean completely S%&KS !!! waist of time watching it and I think it would be a pure waist of time writing about it.... I don\\'t understand how De Palma agreed on producing this sh#t-fest of a movie....except for only one fact that I tip my hat to... Jay Hernandez who plays the young Brigante.... reminded me how De Niro got into the shoes of Brando to portray the young Don Corleone in Godfather II ...but the difference De Niro was amazing and even got an Oscar for it !!! Jay Hernandez well he has guts for trying to be a young Pacino.... too bad for him I don\\'t think he will be playing in film anymore and by the way after I watched this sh#$%ty movie, I sat down and watched the original Carlitos way to get the bad taste out of my mouth.'"
            ],
            "application/vnd.google.colaboratory.intrinsic+json": {
              "type": "string"
            }
          },
          "metadata": {},
          "execution_count": 10
        }
      ]
    },
    {
      "cell_type": "code",
      "source": [
        "def con_lower(text):\n",
        "  return text.lower()"
      ],
      "metadata": {
        "id": "8WyuXdiG1yMW"
      },
      "execution_count": null,
      "outputs": []
    },
    {
      "cell_type": "code",
      "source": [
        "train[\"text\"] = train[\"text\"].apply(con_lower)\n",
        "test[\"text\"] = test[\"text\"].apply(con_lower)"
      ],
      "metadata": {
        "id": "QGJI6v5X2LsC"
      },
      "execution_count": null,
      "outputs": []
    },
    {
      "cell_type": "code",
      "source": [
        "test"
      ],
      "metadata": {
        "colab": {
          "base_uri": "https://localhost:8080/",
          "height": 423
        },
        "id": "0VMX-szy3nNJ",
        "outputId": "0aa06c04-9a49-4853-88c0-ebd939c1de98"
      },
      "execution_count": null,
      "outputs": [
        {
          "output_type": "execute_result",
          "data": {
            "text/plain": [
              "                                                    text sentiment\n",
              "0      my daughter liked it but i was aghast, that a ...       neg\n",
              "1      i... no words. no words can describe this. i w...       neg\n",
              "2      this film is basically a poor take on the old ...       neg\n",
              "3      this is a terrible movie, and i'm not even sur...       neg\n",
              "4      first of all this movie is a piece of reality ...       pos\n",
              "...                                                  ...       ...\n",
              "24995  for one thing, he produced this movie. it has ...       neg\n",
              "24996  the title comes from an alteration an adolesce...       pos\n",
              "24997  christopher nolan's first film is a 'no budget...       pos\n",
              "24998  the story is shortly about the faith-lacking b...       neg\n",
              "24999  i found parts of this movie rather slow, espec...       pos\n",
              "\n",
              "[25000 rows x 2 columns]"
            ],
            "text/html": [
              "\n",
              "  <div id=\"df-1d6f64d3-bca7-4b89-b9df-65dcb64eda2a\" class=\"colab-df-container\">\n",
              "    <div>\n",
              "<style scoped>\n",
              "    .dataframe tbody tr th:only-of-type {\n",
              "        vertical-align: middle;\n",
              "    }\n",
              "\n",
              "    .dataframe tbody tr th {\n",
              "        vertical-align: top;\n",
              "    }\n",
              "\n",
              "    .dataframe thead th {\n",
              "        text-align: right;\n",
              "    }\n",
              "</style>\n",
              "<table border=\"1\" class=\"dataframe\">\n",
              "  <thead>\n",
              "    <tr style=\"text-align: right;\">\n",
              "      <th></th>\n",
              "      <th>text</th>\n",
              "      <th>sentiment</th>\n",
              "    </tr>\n",
              "  </thead>\n",
              "  <tbody>\n",
              "    <tr>\n",
              "      <th>0</th>\n",
              "      <td>my daughter liked it but i was aghast, that a ...</td>\n",
              "      <td>neg</td>\n",
              "    </tr>\n",
              "    <tr>\n",
              "      <th>1</th>\n",
              "      <td>i... no words. no words can describe this. i w...</td>\n",
              "      <td>neg</td>\n",
              "    </tr>\n",
              "    <tr>\n",
              "      <th>2</th>\n",
              "      <td>this film is basically a poor take on the old ...</td>\n",
              "      <td>neg</td>\n",
              "    </tr>\n",
              "    <tr>\n",
              "      <th>3</th>\n",
              "      <td>this is a terrible movie, and i'm not even sur...</td>\n",
              "      <td>neg</td>\n",
              "    </tr>\n",
              "    <tr>\n",
              "      <th>4</th>\n",
              "      <td>first of all this movie is a piece of reality ...</td>\n",
              "      <td>pos</td>\n",
              "    </tr>\n",
              "    <tr>\n",
              "      <th>...</th>\n",
              "      <td>...</td>\n",
              "      <td>...</td>\n",
              "    </tr>\n",
              "    <tr>\n",
              "      <th>24995</th>\n",
              "      <td>for one thing, he produced this movie. it has ...</td>\n",
              "      <td>neg</td>\n",
              "    </tr>\n",
              "    <tr>\n",
              "      <th>24996</th>\n",
              "      <td>the title comes from an alteration an adolesce...</td>\n",
              "      <td>pos</td>\n",
              "    </tr>\n",
              "    <tr>\n",
              "      <th>24997</th>\n",
              "      <td>christopher nolan's first film is a 'no budget...</td>\n",
              "      <td>pos</td>\n",
              "    </tr>\n",
              "    <tr>\n",
              "      <th>24998</th>\n",
              "      <td>the story is shortly about the faith-lacking b...</td>\n",
              "      <td>neg</td>\n",
              "    </tr>\n",
              "    <tr>\n",
              "      <th>24999</th>\n",
              "      <td>i found parts of this movie rather slow, espec...</td>\n",
              "      <td>pos</td>\n",
              "    </tr>\n",
              "  </tbody>\n",
              "</table>\n",
              "<p>25000 rows × 2 columns</p>\n",
              "</div>\n",
              "    <div class=\"colab-df-buttons\">\n",
              "\n",
              "  <div class=\"colab-df-container\">\n",
              "    <button class=\"colab-df-convert\" onclick=\"convertToInteractive('df-1d6f64d3-bca7-4b89-b9df-65dcb64eda2a')\"\n",
              "            title=\"Convert this dataframe to an interactive table.\"\n",
              "            style=\"display:none;\">\n",
              "\n",
              "  <svg xmlns=\"http://www.w3.org/2000/svg\" height=\"24px\" viewBox=\"0 -960 960 960\">\n",
              "    <path d=\"M120-120v-720h720v720H120Zm60-500h600v-160H180v160Zm220 220h160v-160H400v160Zm0 220h160v-160H400v160ZM180-400h160v-160H180v160Zm440 0h160v-160H620v160ZM180-180h160v-160H180v160Zm440 0h160v-160H620v160Z\"/>\n",
              "  </svg>\n",
              "    </button>\n",
              "\n",
              "  <style>\n",
              "    .colab-df-container {\n",
              "      display:flex;\n",
              "      gap: 12px;\n",
              "    }\n",
              "\n",
              "    .colab-df-convert {\n",
              "      background-color: #E8F0FE;\n",
              "      border: none;\n",
              "      border-radius: 50%;\n",
              "      cursor: pointer;\n",
              "      display: none;\n",
              "      fill: #1967D2;\n",
              "      height: 32px;\n",
              "      padding: 0 0 0 0;\n",
              "      width: 32px;\n",
              "    }\n",
              "\n",
              "    .colab-df-convert:hover {\n",
              "      background-color: #E2EBFA;\n",
              "      box-shadow: 0px 1px 2px rgba(60, 64, 67, 0.3), 0px 1px 3px 1px rgba(60, 64, 67, 0.15);\n",
              "      fill: #174EA6;\n",
              "    }\n",
              "\n",
              "    .colab-df-buttons div {\n",
              "      margin-bottom: 4px;\n",
              "    }\n",
              "\n",
              "    [theme=dark] .colab-df-convert {\n",
              "      background-color: #3B4455;\n",
              "      fill: #D2E3FC;\n",
              "    }\n",
              "\n",
              "    [theme=dark] .colab-df-convert:hover {\n",
              "      background-color: #434B5C;\n",
              "      box-shadow: 0px 1px 3px 1px rgba(0, 0, 0, 0.15);\n",
              "      filter: drop-shadow(0px 1px 2px rgba(0, 0, 0, 0.3));\n",
              "      fill: #FFFFFF;\n",
              "    }\n",
              "  </style>\n",
              "\n",
              "    <script>\n",
              "      const buttonEl =\n",
              "        document.querySelector('#df-1d6f64d3-bca7-4b89-b9df-65dcb64eda2a button.colab-df-convert');\n",
              "      buttonEl.style.display =\n",
              "        google.colab.kernel.accessAllowed ? 'block' : 'none';\n",
              "\n",
              "      async function convertToInteractive(key) {\n",
              "        const element = document.querySelector('#df-1d6f64d3-bca7-4b89-b9df-65dcb64eda2a');\n",
              "        const dataTable =\n",
              "          await google.colab.kernel.invokeFunction('convertToInteractive',\n",
              "                                                    [key], {});\n",
              "        if (!dataTable) return;\n",
              "\n",
              "        const docLinkHtml = 'Like what you see? Visit the ' +\n",
              "          '<a target=\"_blank\" href=https://colab.research.google.com/notebooks/data_table.ipynb>data table notebook</a>'\n",
              "          + ' to learn more about interactive tables.';\n",
              "        element.innerHTML = '';\n",
              "        dataTable['output_type'] = 'display_data';\n",
              "        await google.colab.output.renderOutput(dataTable, element);\n",
              "        const docLink = document.createElement('div');\n",
              "        docLink.innerHTML = docLinkHtml;\n",
              "        element.appendChild(docLink);\n",
              "      }\n",
              "    </script>\n",
              "  </div>\n",
              "\n",
              "\n",
              "<div id=\"df-75b77a5a-e3d6-4ec1-8d59-8b09bd61f070\">\n",
              "  <button class=\"colab-df-quickchart\" onclick=\"quickchart('df-75b77a5a-e3d6-4ec1-8d59-8b09bd61f070')\"\n",
              "            title=\"Suggest charts.\"\n",
              "            style=\"display:none;\">\n",
              "\n",
              "<svg xmlns=\"http://www.w3.org/2000/svg\" height=\"24px\"viewBox=\"0 0 24 24\"\n",
              "     width=\"24px\">\n",
              "    <g>\n",
              "        <path d=\"M19 3H5c-1.1 0-2 .9-2 2v14c0 1.1.9 2 2 2h14c1.1 0 2-.9 2-2V5c0-1.1-.9-2-2-2zM9 17H7v-7h2v7zm4 0h-2V7h2v10zm4 0h-2v-4h2v4z\"/>\n",
              "    </g>\n",
              "</svg>\n",
              "  </button>\n",
              "\n",
              "<style>\n",
              "  .colab-df-quickchart {\n",
              "      --bg-color: #E8F0FE;\n",
              "      --fill-color: #1967D2;\n",
              "      --hover-bg-color: #E2EBFA;\n",
              "      --hover-fill-color: #174EA6;\n",
              "      --disabled-fill-color: #AAA;\n",
              "      --disabled-bg-color: #DDD;\n",
              "  }\n",
              "\n",
              "  [theme=dark] .colab-df-quickchart {\n",
              "      --bg-color: #3B4455;\n",
              "      --fill-color: #D2E3FC;\n",
              "      --hover-bg-color: #434B5C;\n",
              "      --hover-fill-color: #FFFFFF;\n",
              "      --disabled-bg-color: #3B4455;\n",
              "      --disabled-fill-color: #666;\n",
              "  }\n",
              "\n",
              "  .colab-df-quickchart {\n",
              "    background-color: var(--bg-color);\n",
              "    border: none;\n",
              "    border-radius: 50%;\n",
              "    cursor: pointer;\n",
              "    display: none;\n",
              "    fill: var(--fill-color);\n",
              "    height: 32px;\n",
              "    padding: 0;\n",
              "    width: 32px;\n",
              "  }\n",
              "\n",
              "  .colab-df-quickchart:hover {\n",
              "    background-color: var(--hover-bg-color);\n",
              "    box-shadow: 0 1px 2px rgba(60, 64, 67, 0.3), 0 1px 3px 1px rgba(60, 64, 67, 0.15);\n",
              "    fill: var(--button-hover-fill-color);\n",
              "  }\n",
              "\n",
              "  .colab-df-quickchart-complete:disabled,\n",
              "  .colab-df-quickchart-complete:disabled:hover {\n",
              "    background-color: var(--disabled-bg-color);\n",
              "    fill: var(--disabled-fill-color);\n",
              "    box-shadow: none;\n",
              "  }\n",
              "\n",
              "  .colab-df-spinner {\n",
              "    border: 2px solid var(--fill-color);\n",
              "    border-color: transparent;\n",
              "    border-bottom-color: var(--fill-color);\n",
              "    animation:\n",
              "      spin 1s steps(1) infinite;\n",
              "  }\n",
              "\n",
              "  @keyframes spin {\n",
              "    0% {\n",
              "      border-color: transparent;\n",
              "      border-bottom-color: var(--fill-color);\n",
              "      border-left-color: var(--fill-color);\n",
              "    }\n",
              "    20% {\n",
              "      border-color: transparent;\n",
              "      border-left-color: var(--fill-color);\n",
              "      border-top-color: var(--fill-color);\n",
              "    }\n",
              "    30% {\n",
              "      border-color: transparent;\n",
              "      border-left-color: var(--fill-color);\n",
              "      border-top-color: var(--fill-color);\n",
              "      border-right-color: var(--fill-color);\n",
              "    }\n",
              "    40% {\n",
              "      border-color: transparent;\n",
              "      border-right-color: var(--fill-color);\n",
              "      border-top-color: var(--fill-color);\n",
              "    }\n",
              "    60% {\n",
              "      border-color: transparent;\n",
              "      border-right-color: var(--fill-color);\n",
              "    }\n",
              "    80% {\n",
              "      border-color: transparent;\n",
              "      border-right-color: var(--fill-color);\n",
              "      border-bottom-color: var(--fill-color);\n",
              "    }\n",
              "    90% {\n",
              "      border-color: transparent;\n",
              "      border-bottom-color: var(--fill-color);\n",
              "    }\n",
              "  }\n",
              "</style>\n",
              "\n",
              "  <script>\n",
              "    async function quickchart(key) {\n",
              "      const quickchartButtonEl =\n",
              "        document.querySelector('#' + key + ' button');\n",
              "      quickchartButtonEl.disabled = true;  // To prevent multiple clicks.\n",
              "      quickchartButtonEl.classList.add('colab-df-spinner');\n",
              "      try {\n",
              "        const charts = await google.colab.kernel.invokeFunction(\n",
              "            'suggestCharts', [key], {});\n",
              "      } catch (error) {\n",
              "        console.error('Error during call to suggestCharts:', error);\n",
              "      }\n",
              "      quickchartButtonEl.classList.remove('colab-df-spinner');\n",
              "      quickchartButtonEl.classList.add('colab-df-quickchart-complete');\n",
              "    }\n",
              "    (() => {\n",
              "      let quickchartButtonEl =\n",
              "        document.querySelector('#df-75b77a5a-e3d6-4ec1-8d59-8b09bd61f070 button');\n",
              "      quickchartButtonEl.style.display =\n",
              "        google.colab.kernel.accessAllowed ? 'block' : 'none';\n",
              "    })();\n",
              "  </script>\n",
              "</div>\n",
              "    </div>\n",
              "  </div>\n"
            ]
          },
          "metadata": {},
          "execution_count": 13
        }
      ]
    },
    {
      "cell_type": "code",
      "source": [
        "pip install beautifulsoup4"
      ],
      "metadata": {
        "colab": {
          "base_uri": "https://localhost:8080/"
        },
        "id": "omKNjwmi3vMX",
        "outputId": "0db2392e-e86c-46de-8798-f0d7c15c2c2b"
      },
      "execution_count": null,
      "outputs": [
        {
          "output_type": "stream",
          "name": "stdout",
          "text": [
            "Requirement already satisfied: beautifulsoup4 in /usr/local/lib/python3.10/dist-packages (4.11.2)\n",
            "Requirement already satisfied: soupsieve>1.2 in /usr/local/lib/python3.10/dist-packages (from beautifulsoup4) (2.5)\n"
          ]
        }
      ]
    },
    {
      "cell_type": "code",
      "source": [
        "from bs4 import BeautifulSoup\n",
        "\n",
        "def remove_html(text):\n",
        "  soup = BeautifulSoup(text, \"html.parser\")\n",
        "  return soup.get_text()"
      ],
      "metadata": {
        "id": "MtBc1z7P4DCP"
      },
      "execution_count": null,
      "outputs": []
    },
    {
      "cell_type": "code",
      "source": [
        "train[\"text\"] = train[\"text\"].apply(remove_html)\n",
        "test[\"text\"] = test[\"text\"].apply(remove_html)"
      ],
      "metadata": {
        "colab": {
          "base_uri": "https://localhost:8080/"
        },
        "id": "9CM33pHn4dsJ",
        "outputId": "607c4748-88f5-450c-a052-1b9b2575d1b7"
      },
      "execution_count": null,
      "outputs": [
        {
          "output_type": "stream",
          "name": "stderr",
          "text": [
            "<ipython-input-15-713c60448a8f>:4: MarkupResemblesLocatorWarning: The input looks more like a filename than markup. You may want to open this file and pass the filehandle into Beautiful Soup.\n",
            "  soup = BeautifulSoup(text, \"html.parser\")\n"
          ]
        }
      ]
    },
    {
      "cell_type": "code",
      "source": [
        "train[\"text\"][2]"
      ],
      "metadata": {
        "colab": {
          "base_uri": "https://localhost:8080/",
          "height": 126
        },
        "id": "xxtjwn_l48GS",
        "outputId": "8fdab387-45a6-4081-f13a-8d22202e3083"
      },
      "execution_count": null,
      "outputs": [
        {
          "output_type": "execute_result",
          "data": {
            "text/plain": [
              "'last night i decided to watch the prequel or shall i say the so called prequel to carlito\\'s way - \"carlito\\'s way: rise to power (2005)\" which went straight to dvd...no wonder .....it completely ...and i mean completely s%&ks !!! waist of time watching it and i think it would be a pure waist of time writing about it.... i don\\'t understand how de palma agreed on producing this sh#t-fest of a movie....except for only one fact that i tip my hat to... jay hernandez who plays the young brigante.... reminded me how de niro got into the shoes of brando to portray the young don corleone in godfather ii ...but the difference de niro was amazing and even got an oscar for it !!! jay hernandez well he has guts for trying to be a young pacino.... too bad for him i don\\'t think he will be playing in film anymore and by the way after i watched this sh#$%ty movie, i sat down and watched the original carlitos way to get the bad taste out of my mouth.'"
            ],
            "application/vnd.google.colaboratory.intrinsic+json": {
              "type": "string"
            }
          },
          "metadata": {},
          "execution_count": 17
        }
      ]
    },
    {
      "cell_type": "code",
      "source": [
        "import string\n",
        "def remove_punctuations(text):\n",
        "  return text.translate(str.maketrans(\"\",\"\",string.punctuation))"
      ],
      "metadata": {
        "id": "a3lQZJPh5ZCp"
      },
      "execution_count": null,
      "outputs": []
    },
    {
      "cell_type": "code",
      "source": [
        "train[\"text\"] = train[\"text\"].apply(remove_punctuations)\n",
        "test[\"text\"] = test[\"text\"].apply(remove_punctuations)"
      ],
      "metadata": {
        "id": "zSkz6n-J6gWZ"
      },
      "execution_count": null,
      "outputs": []
    },
    {
      "cell_type": "code",
      "source": [
        "train[\"text\"][2]"
      ],
      "metadata": {
        "colab": {
          "base_uri": "https://localhost:8080/",
          "height": 126
        },
        "id": "034Ban_C7W0w",
        "outputId": "582254f0-58a7-4c07-8706-174b899eefaf"
      },
      "execution_count": null,
      "outputs": [
        {
          "output_type": "execute_result",
          "data": {
            "text/plain": [
              "'last night i decided to watch the prequel or shall i say the so called prequel to carlitos way  carlitos way rise to power 2005 which went straight to dvdno wonder it completely and i mean completely sks  waist of time watching it and i think it would be a pure waist of time writing about it i dont understand how de palma agreed on producing this shtfest of a movieexcept for only one fact that i tip my hat to jay hernandez who plays the young brigante reminded me how de niro got into the shoes of brando to portray the young don corleone in godfather ii but the difference de niro was amazing and even got an oscar for it  jay hernandez well he has guts for trying to be a young pacino too bad for him i dont think he will be playing in film anymore and by the way after i watched this shty movie i sat down and watched the original carlitos way to get the bad taste out of my mouth'"
            ],
            "application/vnd.google.colaboratory.intrinsic+json": {
              "type": "string"
            }
          },
          "metadata": {},
          "execution_count": 20
        }
      ]
    },
    {
      "cell_type": "code",
      "source": [
        "import re\n",
        "def remove_url(text):\n",
        "  return re.sub(r'http[s]?://\\S+', '', text)"
      ],
      "metadata": {
        "id": "epEUxqbV7cTh"
      },
      "execution_count": null,
      "outputs": []
    },
    {
      "cell_type": "code",
      "source": [
        "train[\"text\"] = train[\"text\"].apply(remove_url)\n",
        "test[\"text\"] = test[\"text\"].apply(remove_url)"
      ],
      "metadata": {
        "id": "1BV7vwRO8z3I"
      },
      "execution_count": null,
      "outputs": []
    },
    {
      "cell_type": "code",
      "source": [
        "import nltk\n",
        "nltk.download(\"stopwords\")"
      ],
      "metadata": {
        "colab": {
          "base_uri": "https://localhost:8080/"
        },
        "id": "NgnMyNCr84Vz",
        "outputId": "f6a2b8f8-9af5-4435-b911-569161d5501a"
      },
      "execution_count": null,
      "outputs": [
        {
          "output_type": "stream",
          "name": "stderr",
          "text": [
            "[nltk_data] Downloading package stopwords to /root/nltk_data...\n",
            "[nltk_data]   Unzipping corpora/stopwords.zip.\n"
          ]
        },
        {
          "output_type": "execute_result",
          "data": {
            "text/plain": [
              "True"
            ]
          },
          "metadata": {},
          "execution_count": 23
        }
      ]
    },
    {
      "cell_type": "code",
      "source": [
        "from nltk.corpus import stopwords\n",
        "stopwrd = stopwords.words(\"english\")\n",
        "def remove_stopwords(text):\n",
        "  words = text.split()\n",
        "  nostop = [word for word in words if word not in stopwrd]\n",
        "  return \" \".join(nostop)"
      ],
      "metadata": {
        "id": "RFEoP51Y_elo"
      },
      "execution_count": null,
      "outputs": []
    },
    {
      "cell_type": "code",
      "source": [
        "train[\"text\"] = train[\"text\"].apply(remove_stopwords)\n",
        "test[\"text\"] = test[\"text\"].apply(remove_stopwords)"
      ],
      "metadata": {
        "id": "Jce4NBNWEaDM"
      },
      "execution_count": null,
      "outputs": []
    },
    {
      "cell_type": "code",
      "source": [
        "train[\"text\"][2]"
      ],
      "metadata": {
        "colab": {
          "base_uri": "https://localhost:8080/",
          "height": 90
        },
        "id": "pm-IzpM3E-ER",
        "outputId": "f3d8842e-e690-4219-a333-7acbe14d35b7"
      },
      "execution_count": null,
      "outputs": [
        {
          "output_type": "execute_result",
          "data": {
            "text/plain": [
              "'last night decided watch prequel shall say called prequel carlitos way carlitos way rise power 2005 went straight dvdno wonder completely mean completely sks waist time watching think would pure waist time writing dont understand de palma agreed producing shtfest movieexcept one fact tip hat jay hernandez plays young brigante reminded de niro got shoes brando portray young corleone godfather ii difference de niro amazing even got oscar jay hernandez well guts trying young pacino bad dont think playing film anymore way watched shty movie sat watched original carlitos way get bad taste mouth'"
            ],
            "application/vnd.google.colaboratory.intrinsic+json": {
              "type": "string"
            }
          },
          "metadata": {},
          "execution_count": 26
        }
      ]
    },
    {
      "cell_type": "code",
      "source": [
        "from nltk.stem.porter import PorterStemmer\n",
        "ps = PorterStemmer()"
      ],
      "metadata": {
        "id": "GXXNm9vkFBrJ"
      },
      "execution_count": null,
      "outputs": []
    },
    {
      "cell_type": "code",
      "source": [
        "def stem_words(text):\n",
        "  return \" \".join([ps.stem(word) for word in text.split()])"
      ],
      "metadata": {
        "id": "NMm6karIGOmi"
      },
      "execution_count": null,
      "outputs": []
    },
    {
      "cell_type": "code",
      "source": [
        "train[\"text\"] = train[\"text\"].apply(stem_words)\n",
        "test[\"text\"] = test[\"text\"].apply(stem_words)"
      ],
      "metadata": {
        "id": "0P9D-yVhG1gt"
      },
      "execution_count": null,
      "outputs": []
    },
    {
      "cell_type": "code",
      "source": [
        "train[\"text\"][2]"
      ],
      "metadata": {
        "colab": {
          "base_uri": "https://localhost:8080/",
          "height": 90
        },
        "id": "5eLhsiIaG6uK",
        "outputId": "976c7c84-7d56-4aaf-c849-6411d36558bc"
      },
      "execution_count": null,
      "outputs": [
        {
          "output_type": "execute_result",
          "data": {
            "text/plain": [
              "'last night decid watch prequel shall say call prequel carlito way carlito way rise power 2005 went straight dvdno wonder complet mean complet sk waist time watch think would pure waist time write dont understand de palma agre produc shtfest movieexcept one fact tip hat jay hernandez play young brigant remind de niro got shoe brando portray young corleon godfath ii differ de niro amaz even got oscar jay hernandez well gut tri young pacino bad dont think play film anymor way watch shti movi sat watch origin carlito way get bad tast mouth'"
            ],
            "application/vnd.google.colaboratory.intrinsic+json": {
              "type": "string"
            }
          },
          "metadata": {},
          "execution_count": 30
        }
      ]
    },
    {
      "cell_type": "code",
      "source": [
        "from sklearn.preprocessing import LabelEncoder\n",
        "le = LabelEncoder()"
      ],
      "metadata": {
        "id": "j7JgnbOKcqo6"
      },
      "execution_count": null,
      "outputs": []
    },
    {
      "cell_type": "code",
      "source": [
        "train[\"sentiment\"] = le.fit_transform(train[\"sentiment\"])"
      ],
      "metadata": {
        "id": "O6hlduIqfATi"
      },
      "execution_count": null,
      "outputs": []
    },
    {
      "cell_type": "code",
      "source": [
        "test[\"sentiment\"] = le.transform(test[\"sentiment\"])"
      ],
      "metadata": {
        "id": "V96KM0jifruL"
      },
      "execution_count": null,
      "outputs": []
    },
    {
      "cell_type": "code",
      "source": [
        "train"
      ],
      "metadata": {
        "colab": {
          "base_uri": "https://localhost:8080/",
          "height": 423
        },
        "id": "Gvj9MWsngLu7",
        "outputId": "4246aaca-1508-410b-d7d2-3b22f8e37c74"
      },
      "execution_count": null,
      "outputs": [
        {
          "output_type": "execute_result",
          "data": {
            "text/plain": [
              "                                                    text  sentiment\n",
              "0      wont deni purchas ebay high expect incred outo...          0\n",
              "1      saddest thing tribut almost singer includ othe...          0\n",
              "2      last night decid watch prequel shall say call ...          0\n",
              "3      admit like first half sleeper look good act ev...          0\n",
              "4      impress film especi fact went cinema famili go...          0\n",
              "...                                                  ...        ...\n",
              "24995  film fun person like good campi featur film ev...          1\n",
              "24996  see film feel like know littl bit usa david ly...          1\n",
              "24997  first deserv 5 star due act would give better ...          0\n",
              "24998  like film rambl littl plot exposit spice kinki...          0\n",
              "24999  interest sheet cardboard dispens period piec l...          0\n",
              "\n",
              "[24904 rows x 2 columns]"
            ],
            "text/html": [
              "\n",
              "  <div id=\"df-062a01cb-d42a-4de5-8ffa-0bd7468b178a\" class=\"colab-df-container\">\n",
              "    <div>\n",
              "<style scoped>\n",
              "    .dataframe tbody tr th:only-of-type {\n",
              "        vertical-align: middle;\n",
              "    }\n",
              "\n",
              "    .dataframe tbody tr th {\n",
              "        vertical-align: top;\n",
              "    }\n",
              "\n",
              "    .dataframe thead th {\n",
              "        text-align: right;\n",
              "    }\n",
              "</style>\n",
              "<table border=\"1\" class=\"dataframe\">\n",
              "  <thead>\n",
              "    <tr style=\"text-align: right;\">\n",
              "      <th></th>\n",
              "      <th>text</th>\n",
              "      <th>sentiment</th>\n",
              "    </tr>\n",
              "  </thead>\n",
              "  <tbody>\n",
              "    <tr>\n",
              "      <th>0</th>\n",
              "      <td>wont deni purchas ebay high expect incred outo...</td>\n",
              "      <td>0</td>\n",
              "    </tr>\n",
              "    <tr>\n",
              "      <th>1</th>\n",
              "      <td>saddest thing tribut almost singer includ othe...</td>\n",
              "      <td>0</td>\n",
              "    </tr>\n",
              "    <tr>\n",
              "      <th>2</th>\n",
              "      <td>last night decid watch prequel shall say call ...</td>\n",
              "      <td>0</td>\n",
              "    </tr>\n",
              "    <tr>\n",
              "      <th>3</th>\n",
              "      <td>admit like first half sleeper look good act ev...</td>\n",
              "      <td>0</td>\n",
              "    </tr>\n",
              "    <tr>\n",
              "      <th>4</th>\n",
              "      <td>impress film especi fact went cinema famili go...</td>\n",
              "      <td>0</td>\n",
              "    </tr>\n",
              "    <tr>\n",
              "      <th>...</th>\n",
              "      <td>...</td>\n",
              "      <td>...</td>\n",
              "    </tr>\n",
              "    <tr>\n",
              "      <th>24995</th>\n",
              "      <td>film fun person like good campi featur film ev...</td>\n",
              "      <td>1</td>\n",
              "    </tr>\n",
              "    <tr>\n",
              "      <th>24996</th>\n",
              "      <td>see film feel like know littl bit usa david ly...</td>\n",
              "      <td>1</td>\n",
              "    </tr>\n",
              "    <tr>\n",
              "      <th>24997</th>\n",
              "      <td>first deserv 5 star due act would give better ...</td>\n",
              "      <td>0</td>\n",
              "    </tr>\n",
              "    <tr>\n",
              "      <th>24998</th>\n",
              "      <td>like film rambl littl plot exposit spice kinki...</td>\n",
              "      <td>0</td>\n",
              "    </tr>\n",
              "    <tr>\n",
              "      <th>24999</th>\n",
              "      <td>interest sheet cardboard dispens period piec l...</td>\n",
              "      <td>0</td>\n",
              "    </tr>\n",
              "  </tbody>\n",
              "</table>\n",
              "<p>24904 rows × 2 columns</p>\n",
              "</div>\n",
              "    <div class=\"colab-df-buttons\">\n",
              "\n",
              "  <div class=\"colab-df-container\">\n",
              "    <button class=\"colab-df-convert\" onclick=\"convertToInteractive('df-062a01cb-d42a-4de5-8ffa-0bd7468b178a')\"\n",
              "            title=\"Convert this dataframe to an interactive table.\"\n",
              "            style=\"display:none;\">\n",
              "\n",
              "  <svg xmlns=\"http://www.w3.org/2000/svg\" height=\"24px\" viewBox=\"0 -960 960 960\">\n",
              "    <path d=\"M120-120v-720h720v720H120Zm60-500h600v-160H180v160Zm220 220h160v-160H400v160Zm0 220h160v-160H400v160ZM180-400h160v-160H180v160Zm440 0h160v-160H620v160ZM180-180h160v-160H180v160Zm440 0h160v-160H620v160Z\"/>\n",
              "  </svg>\n",
              "    </button>\n",
              "\n",
              "  <style>\n",
              "    .colab-df-container {\n",
              "      display:flex;\n",
              "      gap: 12px;\n",
              "    }\n",
              "\n",
              "    .colab-df-convert {\n",
              "      background-color: #E8F0FE;\n",
              "      border: none;\n",
              "      border-radius: 50%;\n",
              "      cursor: pointer;\n",
              "      display: none;\n",
              "      fill: #1967D2;\n",
              "      height: 32px;\n",
              "      padding: 0 0 0 0;\n",
              "      width: 32px;\n",
              "    }\n",
              "\n",
              "    .colab-df-convert:hover {\n",
              "      background-color: #E2EBFA;\n",
              "      box-shadow: 0px 1px 2px rgba(60, 64, 67, 0.3), 0px 1px 3px 1px rgba(60, 64, 67, 0.15);\n",
              "      fill: #174EA6;\n",
              "    }\n",
              "\n",
              "    .colab-df-buttons div {\n",
              "      margin-bottom: 4px;\n",
              "    }\n",
              "\n",
              "    [theme=dark] .colab-df-convert {\n",
              "      background-color: #3B4455;\n",
              "      fill: #D2E3FC;\n",
              "    }\n",
              "\n",
              "    [theme=dark] .colab-df-convert:hover {\n",
              "      background-color: #434B5C;\n",
              "      box-shadow: 0px 1px 3px 1px rgba(0, 0, 0, 0.15);\n",
              "      filter: drop-shadow(0px 1px 2px rgba(0, 0, 0, 0.3));\n",
              "      fill: #FFFFFF;\n",
              "    }\n",
              "  </style>\n",
              "\n",
              "    <script>\n",
              "      const buttonEl =\n",
              "        document.querySelector('#df-062a01cb-d42a-4de5-8ffa-0bd7468b178a button.colab-df-convert');\n",
              "      buttonEl.style.display =\n",
              "        google.colab.kernel.accessAllowed ? 'block' : 'none';\n",
              "\n",
              "      async function convertToInteractive(key) {\n",
              "        const element = document.querySelector('#df-062a01cb-d42a-4de5-8ffa-0bd7468b178a');\n",
              "        const dataTable =\n",
              "          await google.colab.kernel.invokeFunction('convertToInteractive',\n",
              "                                                    [key], {});\n",
              "        if (!dataTable) return;\n",
              "\n",
              "        const docLinkHtml = 'Like what you see? Visit the ' +\n",
              "          '<a target=\"_blank\" href=https://colab.research.google.com/notebooks/data_table.ipynb>data table notebook</a>'\n",
              "          + ' to learn more about interactive tables.';\n",
              "        element.innerHTML = '';\n",
              "        dataTable['output_type'] = 'display_data';\n",
              "        await google.colab.output.renderOutput(dataTable, element);\n",
              "        const docLink = document.createElement('div');\n",
              "        docLink.innerHTML = docLinkHtml;\n",
              "        element.appendChild(docLink);\n",
              "      }\n",
              "    </script>\n",
              "  </div>\n",
              "\n",
              "\n",
              "<div id=\"df-a386c08b-3a5b-40a3-b518-a8c3609deb71\">\n",
              "  <button class=\"colab-df-quickchart\" onclick=\"quickchart('df-a386c08b-3a5b-40a3-b518-a8c3609deb71')\"\n",
              "            title=\"Suggest charts.\"\n",
              "            style=\"display:none;\">\n",
              "\n",
              "<svg xmlns=\"http://www.w3.org/2000/svg\" height=\"24px\"viewBox=\"0 0 24 24\"\n",
              "     width=\"24px\">\n",
              "    <g>\n",
              "        <path d=\"M19 3H5c-1.1 0-2 .9-2 2v14c0 1.1.9 2 2 2h14c1.1 0 2-.9 2-2V5c0-1.1-.9-2-2-2zM9 17H7v-7h2v7zm4 0h-2V7h2v10zm4 0h-2v-4h2v4z\"/>\n",
              "    </g>\n",
              "</svg>\n",
              "  </button>\n",
              "\n",
              "<style>\n",
              "  .colab-df-quickchart {\n",
              "      --bg-color: #E8F0FE;\n",
              "      --fill-color: #1967D2;\n",
              "      --hover-bg-color: #E2EBFA;\n",
              "      --hover-fill-color: #174EA6;\n",
              "      --disabled-fill-color: #AAA;\n",
              "      --disabled-bg-color: #DDD;\n",
              "  }\n",
              "\n",
              "  [theme=dark] .colab-df-quickchart {\n",
              "      --bg-color: #3B4455;\n",
              "      --fill-color: #D2E3FC;\n",
              "      --hover-bg-color: #434B5C;\n",
              "      --hover-fill-color: #FFFFFF;\n",
              "      --disabled-bg-color: #3B4455;\n",
              "      --disabled-fill-color: #666;\n",
              "  }\n",
              "\n",
              "  .colab-df-quickchart {\n",
              "    background-color: var(--bg-color);\n",
              "    border: none;\n",
              "    border-radius: 50%;\n",
              "    cursor: pointer;\n",
              "    display: none;\n",
              "    fill: var(--fill-color);\n",
              "    height: 32px;\n",
              "    padding: 0;\n",
              "    width: 32px;\n",
              "  }\n",
              "\n",
              "  .colab-df-quickchart:hover {\n",
              "    background-color: var(--hover-bg-color);\n",
              "    box-shadow: 0 1px 2px rgba(60, 64, 67, 0.3), 0 1px 3px 1px rgba(60, 64, 67, 0.15);\n",
              "    fill: var(--button-hover-fill-color);\n",
              "  }\n",
              "\n",
              "  .colab-df-quickchart-complete:disabled,\n",
              "  .colab-df-quickchart-complete:disabled:hover {\n",
              "    background-color: var(--disabled-bg-color);\n",
              "    fill: var(--disabled-fill-color);\n",
              "    box-shadow: none;\n",
              "  }\n",
              "\n",
              "  .colab-df-spinner {\n",
              "    border: 2px solid var(--fill-color);\n",
              "    border-color: transparent;\n",
              "    border-bottom-color: var(--fill-color);\n",
              "    animation:\n",
              "      spin 1s steps(1) infinite;\n",
              "  }\n",
              "\n",
              "  @keyframes spin {\n",
              "    0% {\n",
              "      border-color: transparent;\n",
              "      border-bottom-color: var(--fill-color);\n",
              "      border-left-color: var(--fill-color);\n",
              "    }\n",
              "    20% {\n",
              "      border-color: transparent;\n",
              "      border-left-color: var(--fill-color);\n",
              "      border-top-color: var(--fill-color);\n",
              "    }\n",
              "    30% {\n",
              "      border-color: transparent;\n",
              "      border-left-color: var(--fill-color);\n",
              "      border-top-color: var(--fill-color);\n",
              "      border-right-color: var(--fill-color);\n",
              "    }\n",
              "    40% {\n",
              "      border-color: transparent;\n",
              "      border-right-color: var(--fill-color);\n",
              "      border-top-color: var(--fill-color);\n",
              "    }\n",
              "    60% {\n",
              "      border-color: transparent;\n",
              "      border-right-color: var(--fill-color);\n",
              "    }\n",
              "    80% {\n",
              "      border-color: transparent;\n",
              "      border-right-color: var(--fill-color);\n",
              "      border-bottom-color: var(--fill-color);\n",
              "    }\n",
              "    90% {\n",
              "      border-color: transparent;\n",
              "      border-bottom-color: var(--fill-color);\n",
              "    }\n",
              "  }\n",
              "</style>\n",
              "\n",
              "  <script>\n",
              "    async function quickchart(key) {\n",
              "      const quickchartButtonEl =\n",
              "        document.querySelector('#' + key + ' button');\n",
              "      quickchartButtonEl.disabled = true;  // To prevent multiple clicks.\n",
              "      quickchartButtonEl.classList.add('colab-df-spinner');\n",
              "      try {\n",
              "        const charts = await google.colab.kernel.invokeFunction(\n",
              "            'suggestCharts', [key], {});\n",
              "      } catch (error) {\n",
              "        console.error('Error during call to suggestCharts:', error);\n",
              "      }\n",
              "      quickchartButtonEl.classList.remove('colab-df-spinner');\n",
              "      quickchartButtonEl.classList.add('colab-df-quickchart-complete');\n",
              "    }\n",
              "    (() => {\n",
              "      let quickchartButtonEl =\n",
              "        document.querySelector('#df-a386c08b-3a5b-40a3-b518-a8c3609deb71 button');\n",
              "      quickchartButtonEl.style.display =\n",
              "        google.colab.kernel.accessAllowed ? 'block' : 'none';\n",
              "    })();\n",
              "  </script>\n",
              "</div>\n",
              "    </div>\n",
              "  </div>\n"
            ]
          },
          "metadata": {},
          "execution_count": 34
        }
      ]
    },
    {
      "cell_type": "markdown",
      "source": [
        "# Feature Extraction"
      ],
      "metadata": {
        "id": "CNdl5VBOb3HN"
      }
    },
    {
      "cell_type": "code",
      "source": [
        "from sklearn.feature_extraction.text import CountVectorizer"
      ],
      "metadata": {
        "id": "I5eBHFNPg6-K"
      },
      "execution_count": null,
      "outputs": []
    },
    {
      "cell_type": "code",
      "source": [
        "cv = CountVectorizer(max_features=5000)"
      ],
      "metadata": {
        "id": "Vnt22tqjckHl"
      },
      "execution_count": null,
      "outputs": []
    },
    {
      "cell_type": "code",
      "source": [
        "train_bow = cv.fit_transform(train[\"text\"])\n",
        "test_bow = cv.transform(test[\"text\"])"
      ],
      "metadata": {
        "id": "Q929BRU1c_O5"
      },
      "execution_count": null,
      "outputs": []
    },
    {
      "cell_type": "code",
      "source": [
        "train_bow"
      ],
      "metadata": {
        "colab": {
          "base_uri": "https://localhost:8080/"
        },
        "id": "ZnKkb6pIeoKM",
        "outputId": "51998b7e-bf7e-43ec-f0ea-d5ec81a8e5d1"
      },
      "execution_count": null,
      "outputs": [
        {
          "output_type": "execute_result",
          "data": {
            "text/plain": [
              "<24904x5000 sparse matrix of type '<class 'numpy.int64'>'\n",
              "\twith 2054553 stored elements in Compressed Sparse Row format>"
            ]
          },
          "metadata": {},
          "execution_count": 38
        }
      ]
    },
    {
      "cell_type": "code",
      "source": [
        "len(cv.vocabulary_)"
      ],
      "metadata": {
        "colab": {
          "base_uri": "https://localhost:8080/"
        },
        "id": "gmXuNV72h2Wk",
        "outputId": "1c6b129c-3c22-4df8-c710-308949382e74"
      },
      "execution_count": null,
      "outputs": [
        {
          "output_type": "execute_result",
          "data": {
            "text/plain": [
              "5000"
            ]
          },
          "metadata": {},
          "execution_count": 39
        }
      ]
    },
    {
      "cell_type": "code",
      "source": [
        "sorted(cv.vocabulary_.items())"
      ],
      "metadata": {
        "colab": {
          "base_uri": "https://localhost:8080/"
        },
        "id": "K_oZSo9ah-a_",
        "outputId": "7f01aade-34ee-40ae-b9f6-b62cd4213267"
      },
      "execution_count": null,
      "outputs": [
        {
          "output_type": "execute_result",
          "data": {
            "text/plain": [
              "[('10', 0),\n",
              " ('100', 1),\n",
              " ('1000', 2),\n",
              " ('1010', 3),\n",
              " ('11', 4),\n",
              " ('110', 5),\n",
              " ('12', 6),\n",
              " ('13', 7),\n",
              " ('13th', 8),\n",
              " ('14', 9),\n",
              " ('15', 10),\n",
              " ('16', 11),\n",
              " ('17', 12),\n",
              " ('18', 13),\n",
              " ('1920', 14),\n",
              " ('1930', 15),\n",
              " ('1933', 16),\n",
              " ('1936', 17),\n",
              " ('1939', 18),\n",
              " ('1940', 19),\n",
              " ('1945', 20),\n",
              " ('1950', 21),\n",
              " ('1960', 22),\n",
              " ('1968', 23),\n",
              " ('1969', 24),\n",
              " ('1970', 25),\n",
              " ('1971', 26),\n",
              " ('1972', 27),\n",
              " ('1973', 28),\n",
              " ('1976', 29),\n",
              " ('1977', 30),\n",
              " ('1978', 31),\n",
              " ('1979', 32),\n",
              " ('1980', 33),\n",
              " ('1981', 34),\n",
              " ('1983', 35),\n",
              " ('1984', 36),\n",
              " ('1986', 37),\n",
              " ('1987', 38),\n",
              " ('1988', 39),\n",
              " ('1989', 40),\n",
              " ('1990', 41),\n",
              " ('1991', 42),\n",
              " ('1993', 43),\n",
              " ('1995', 44),\n",
              " ('1996', 45),\n",
              " ('1997', 46),\n",
              " ('1999', 47),\n",
              " ('19th', 48),\n",
              " ('1st', 49),\n",
              " ('20', 50),\n",
              " ('2000', 51),\n",
              " ('2001', 52),\n",
              " ('2002', 53),\n",
              " ('2003', 54),\n",
              " ('2004', 55),\n",
              " ('2005', 56),\n",
              " ('2006', 57),\n",
              " ('2007', 58),\n",
              " ('2008', 59),\n",
              " ('20th', 60),\n",
              " ('210', 61),\n",
              " ('21st', 62),\n",
              " ('22', 63),\n",
              " ('23', 64),\n",
              " ('24', 65),\n",
              " ('25', 66),\n",
              " ('2nd', 67),\n",
              " ('30', 68),\n",
              " ('3000', 69),\n",
              " ('310', 70),\n",
              " ('35', 71),\n",
              " ('3d', 72),\n",
              " ('3rd', 73),\n",
              " ('40', 74),\n",
              " ('410', 75),\n",
              " ('45', 76),\n",
              " ('4th', 77),\n",
              " ('50', 78),\n",
              " ('60', 79),\n",
              " ('70', 80),\n",
              " ('710', 81),\n",
              " ('73', 82),\n",
              " ('75', 83),\n",
              " ('80', 84),\n",
              " ('810', 85),\n",
              " ('90', 86),\n",
              " ('910', 87),\n",
              " ('911', 88),\n",
              " ('abandon', 89),\n",
              " ('abc', 90),\n",
              " ('abil', 91),\n",
              " ('abl', 92),\n",
              " ('abomin', 93),\n",
              " ('aborigin', 94),\n",
              " ('abort', 95),\n",
              " ('abraham', 96),\n",
              " ('abrupt', 97),\n",
              " ('abruptli', 98),\n",
              " ('absenc', 99),\n",
              " ('absent', 100),\n",
              " ('absolut', 101),\n",
              " ('absorb', 102),\n",
              " ('absurd', 103),\n",
              " ('abund', 104),\n",
              " ('abus', 105),\n",
              " ('abysm', 106),\n",
              " ('academi', 107),\n",
              " ('accent', 108),\n",
              " ('accept', 109),\n",
              " ('access', 110),\n",
              " ('accid', 111),\n",
              " ('accident', 112),\n",
              " ('acclaim', 113),\n",
              " ('accompani', 114),\n",
              " ('accomplish', 115),\n",
              " ('accord', 116),\n",
              " ('account', 117),\n",
              " ('accur', 118),\n",
              " ('accuraci', 119),\n",
              " ('accus', 120),\n",
              " ('ace', 121),\n",
              " ('achiev', 122),\n",
              " ('acid', 123),\n",
              " ('acknowledg', 124),\n",
              " ('acquaint', 125),\n",
              " ('acquir', 126),\n",
              " ('across', 127),\n",
              " ('act', 128),\n",
              " ('action', 129),\n",
              " ('activ', 130),\n",
              " ('actor', 131),\n",
              " ('actress', 132),\n",
              " ('actual', 133),\n",
              " ('ad', 134),\n",
              " ('adam', 135),\n",
              " ('adapt', 136),\n",
              " ('add', 137),\n",
              " ('addict', 138),\n",
              " ('addit', 139),\n",
              " ('address', 140),\n",
              " ('adequ', 141),\n",
              " ('admir', 142),\n",
              " ('admit', 143),\n",
              " ('admittedli', 144),\n",
              " ('adolesc', 145),\n",
              " ('adopt', 146),\n",
              " ('ador', 147),\n",
              " ('adult', 148),\n",
              " ('advanc', 149),\n",
              " ('advantag', 150),\n",
              " ('adventur', 151),\n",
              " ('advertis', 152),\n",
              " ('advic', 153),\n",
              " ('advis', 154),\n",
              " ('aesthet', 155),\n",
              " ('affair', 156),\n",
              " ('affect', 157),\n",
              " ('affleck', 158),\n",
              " ('afford', 159),\n",
              " ('aforement', 160),\n",
              " ('afraid', 161),\n",
              " ('africa', 162),\n",
              " ('african', 163),\n",
              " ('africanamerican', 164),\n",
              " ('afternoon', 165),\n",
              " ('afterward', 166),\n",
              " ('age', 167),\n",
              " ('agenc', 168),\n",
              " ('agenda', 169),\n",
              " ('agent', 170),\n",
              " ('aggress', 171),\n",
              " ('ago', 172),\n",
              " ('agre', 173),\n",
              " ('ah', 174),\n",
              " ('ahead', 175),\n",
              " ('aid', 176),\n",
              " ('aim', 177),\n",
              " ('aint', 178),\n",
              " ('air', 179),\n",
              " ('airplan', 180),\n",
              " ('airport', 181),\n",
              " ('aka', 182),\n",
              " ('akin', 183),\n",
              " ('akshay', 184),\n",
              " ('al', 185),\n",
              " ('ala', 186),\n",
              " ('alan', 187),\n",
              " ('alarm', 188),\n",
              " ('albeit', 189),\n",
              " ('albert', 190),\n",
              " ('album', 191),\n",
              " ('alcohol', 192),\n",
              " ('alec', 193),\n",
              " ('alert', 194),\n",
              " ('alex', 195),\n",
              " ('alexand', 196),\n",
              " ('alexandr', 197),\n",
              " ('alfr', 198),\n",
              " ('alic', 199),\n",
              " ('alicia', 200),\n",
              " ('alien', 201),\n",
              " ('alik', 202),\n",
              " ('alison', 203),\n",
              " ('aliv', 204),\n",
              " ('alleg', 205),\n",
              " ('allen', 206),\n",
              " ('alley', 207),\n",
              " ('alli', 208),\n",
              " ('allow', 209),\n",
              " ('alltim', 210),\n",
              " ('almost', 211),\n",
              " ('alon', 212),\n",
              " ('along', 213),\n",
              " ('alongsid', 214),\n",
              " ('alreadi', 215),\n",
              " ('alright', 216),\n",
              " ('also', 217),\n",
              " ('alter', 218),\n",
              " ('altern', 219),\n",
              " ('although', 220),\n",
              " ('altman', 221),\n",
              " ('altogeth', 222),\n",
              " ('alvin', 223),\n",
              " ('alway', 224),\n",
              " ('amanda', 225),\n",
              " ('amateur', 226),\n",
              " ('amateurish', 227),\n",
              " ('amaz', 228),\n",
              " ('amazingli', 229),\n",
              " ('ambigu', 230),\n",
              " ('ambit', 231),\n",
              " ('ambiti', 232),\n",
              " ('america', 233),\n",
              " ('american', 234),\n",
              " ('ami', 235),\n",
              " ('amitabh', 236),\n",
              " ('among', 237),\n",
              " ('amongst', 238),\n",
              " ('amor', 239),\n",
              " ('amount', 240),\n",
              " ('amus', 241),\n",
              " ('analysi', 242),\n",
              " ('analyz', 243),\n",
              " ('anchor', 244),\n",
              " ('ancient', 245),\n",
              " ('anderson', 246),\n",
              " ('andi', 247),\n",
              " ('andor', 248),\n",
              " ('andr', 249),\n",
              " ('andrew', 250),\n",
              " ('angel', 251),\n",
              " ('angela', 252),\n",
              " ('anger', 253),\n",
              " ('angl', 254),\n",
              " ('angri', 255),\n",
              " ('anim', 256),\n",
              " ('ann', 257),\n",
              " ('anna', 258),\n",
              " ('anni', 259),\n",
              " ('announc', 260),\n",
              " ('annoy', 261),\n",
              " ('anoth', 262),\n",
              " ('answer', 263),\n",
              " ('ant', 264),\n",
              " ('antagonist', 265),\n",
              " ('antholog', 266),\n",
              " ('anthoni', 267),\n",
              " ('antic', 268),\n",
              " ('anticip', 269),\n",
              " ('anton', 270),\n",
              " ('antonio', 271),\n",
              " ('antonioni', 272),\n",
              " ('antwon', 273),\n",
              " ('anybodi', 274),\n",
              " ('anymor', 275),\n",
              " ('anyon', 276),\n",
              " ('anyth', 277),\n",
              " ('anyway', 278),\n",
              " ('anywher', 279),\n",
              " ('apart', 280),\n",
              " ('ape', 281),\n",
              " ('apolog', 282),\n",
              " ('appal', 283),\n",
              " ('appar', 284),\n",
              " ('appeal', 285),\n",
              " ('appear', 286),\n",
              " ('applaud', 287),\n",
              " ('appli', 288),\n",
              " ('appreci', 289),\n",
              " ('approach', 290),\n",
              " ('appropri', 291),\n",
              " ('approv', 292),\n",
              " ('april', 293),\n",
              " ('arab', 294),\n",
              " ('arc', 295),\n",
              " ('archiv', 296),\n",
              " ('area', 297),\n",
              " ('arent', 298),\n",
              " ('argu', 299),\n",
              " ('arguabl', 300),\n",
              " ('argument', 301),\n",
              " ('ariel', 302),\n",
              " ('aris', 303),\n",
              " ('aristocrat', 304),\n",
              " ('arm', 305),\n",
              " ('armi', 306),\n",
              " ('armstrong', 307),\n",
              " ('arnold', 308),\n",
              " ('around', 309),\n",
              " ('arrang', 310),\n",
              " ('arrest', 311),\n",
              " ('arriv', 312),\n",
              " ('arrog', 313),\n",
              " ('arrow', 314),\n",
              " ('art', 315),\n",
              " ('arthous', 316),\n",
              " ('arthur', 317),\n",
              " ('articl', 318),\n",
              " ('artifici', 319),\n",
              " ('artist', 320),\n",
              " ('artsi', 321),\n",
              " ('artwork', 322),\n",
              " ('ash', 323),\n",
              " ('asham', 324),\n",
              " ('ashley', 325),\n",
              " ('asian', 326),\n",
              " ('asid', 327),\n",
              " ('ask', 328),\n",
              " ('asleep', 329),\n",
              " ('aspect', 330),\n",
              " ('aspir', 331),\n",
              " ('ass', 332),\n",
              " ('assassin', 333),\n",
              " ('assault', 334),\n",
              " ('assembl', 335),\n",
              " ('assert', 336),\n",
              " ('asset', 337),\n",
              " ('assign', 338),\n",
              " ('assist', 339),\n",
              " ('associ', 340),\n",
              " ('assort', 341),\n",
              " ('assum', 342),\n",
              " ('assur', 343),\n",
              " ('astair', 344),\n",
              " ('astonish', 345),\n",
              " ('astound', 346),\n",
              " ('astronaut', 347),\n",
              " ('asylum', 348),\n",
              " ('athlet', 349),\n",
              " ('atlanti', 350),\n",
              " ('atmospher', 351),\n",
              " ('atroc', 352),\n",
              " ('atroci', 353),\n",
              " ('attach', 354),\n",
              " ('attack', 355),\n",
              " ('attempt', 356),\n",
              " ('attenborough', 357),\n",
              " ('attend', 358),\n",
              " ('attent', 359),\n",
              " ('attitud', 360),\n",
              " ('attorney', 361),\n",
              " ('attract', 362),\n",
              " ('attribut', 363),\n",
              " ('audienc', 364),\n",
              " ('audio', 365),\n",
              " ('audit', 366),\n",
              " ('audrey', 367),\n",
              " ('aunt', 368),\n",
              " ('aussi', 369),\n",
              " ('austen', 370),\n",
              " ('austin', 371),\n",
              " ('australia', 372),\n",
              " ('australian', 373),\n",
              " ('authent', 374),\n",
              " ('author', 375),\n",
              " ('automat', 376),\n",
              " ('avail', 377),\n",
              " ('aveng', 378),\n",
              " ('averag', 379),\n",
              " ('avoid', 380),\n",
              " ('aw', 381),\n",
              " ('await', 382),\n",
              " ('awak', 383),\n",
              " ('awaken', 384),\n",
              " ('awar', 385),\n",
              " ('award', 386),\n",
              " ('away', 387),\n",
              " ('awe', 388),\n",
              " ('awesom', 389),\n",
              " ('awhil', 390),\n",
              " ('awkward', 391),\n",
              " ('axe', 392),\n",
              " ('babe', 393),\n",
              " ('babi', 394),\n",
              " ('bacal', 395),\n",
              " ('bach', 396),\n",
              " ('bachelor', 397),\n",
              " ('back', 398),\n",
              " ('backdrop', 399),\n",
              " ('background', 400),\n",
              " ('backward', 401),\n",
              " ('bacon', 402),\n",
              " ('bad', 403),\n",
              " ('baddi', 404),\n",
              " ('badli', 405),\n",
              " ('baffl', 406),\n",
              " ('bag', 407),\n",
              " ('baker', 408),\n",
              " ('bakshi', 409),\n",
              " ('balanc', 410),\n",
              " ('baldwin', 411),\n",
              " ('ball', 412),\n",
              " ('ballet', 413),\n",
              " ('ban', 414),\n",
              " ('banal', 415),\n",
              " ('band', 416),\n",
              " ('bang', 417),\n",
              " ('bank', 418),\n",
              " ('banter', 419),\n",
              " ('bar', 420),\n",
              " ('barbara', 421),\n",
              " ('bare', 422),\n",
              " ('bargain', 423),\n",
              " ('barn', 424),\n",
              " ('barrel', 425),\n",
              " ('barri', 426),\n",
              " ('barrymor', 427),\n",
              " ('base', 428),\n",
              " ('basebal', 429),\n",
              " ('basement', 430),\n",
              " ('bash', 431),\n",
              " ('basi', 432),\n",
              " ('basic', 433),\n",
              " ('basing', 434),\n",
              " ('basketbal', 435),\n",
              " ('bastard', 436),\n",
              " ('bat', 437),\n",
              " ('bate', 438),\n",
              " ('bath', 439),\n",
              " ('bathroom', 440),\n",
              " ('batman', 441),\n",
              " ('battl', 442),\n",
              " ('bay', 443),\n",
              " ('bbc', 444),\n",
              " ('be', 445),\n",
              " ('beach', 446),\n",
              " ('bean', 447),\n",
              " ('bear', 448),\n",
              " ('beard', 449),\n",
              " ('beast', 450),\n",
              " ('beat', 451),\n",
              " ('beaten', 452),\n",
              " ('beatl', 453),\n",
              " ('beatti', 454),\n",
              " ('beauti', 455),\n",
              " ('becam', 456),\n",
              " ('becom', 457),\n",
              " ('bed', 458),\n",
              " ('bedroom', 459),\n",
              " ('beer', 460),\n",
              " ('befriend', 461),\n",
              " ('beg', 462),\n",
              " ('began', 463),\n",
              " ('begin', 464),\n",
              " ('behav', 465),\n",
              " ('behavior', 466),\n",
              " ('behaviour', 467),\n",
              " ('behind', 468),\n",
              " ('behold', 469),\n",
              " ('bela', 470),\n",
              " ('belief', 471),\n",
              " ('believ', 472),\n",
              " ('bell', 473),\n",
              " ('belong', 474),\n",
              " ('belov', 475),\n",
              " ('belt', 476),\n",
              " ('belushi', 477),\n",
              " ('ben', 478),\n",
              " ('bend', 479),\n",
              " ('beneath', 480),\n",
              " ('benefit', 481),\n",
              " ('bent', 482),\n",
              " ('beowulf', 483),\n",
              " ('bergman', 484),\n",
              " ('berlin', 485),\n",
              " ('bernard', 486),\n",
              " ('besid', 487),\n",
              " ('best', 488),\n",
              " ('bet', 489),\n",
              " ('betray', 490),\n",
              " ('bett', 491),\n",
              " ('better', 492),\n",
              " ('betti', 493),\n",
              " ('beverli', 494),\n",
              " ('bewar', 495),\n",
              " ('beyond', 496),\n",
              " ('bias', 497),\n",
              " ('bibl', 498),\n",
              " ('biblic', 499),\n",
              " ('big', 500),\n",
              " ('bigger', 501),\n",
              " ('biggest', 502),\n",
              " ('bike', 503),\n",
              " ('biker', 504),\n",
              " ('biko', 505),\n",
              " ('bill', 506),\n",
              " ('billi', 507),\n",
              " ('bin', 508),\n",
              " ('biographi', 509),\n",
              " ('biopic', 510),\n",
              " ('bird', 511),\n",
              " ('birth', 512),\n",
              " ('birthday', 513),\n",
              " ('bit', 514),\n",
              " ('bitch', 515),\n",
              " ('bite', 516),\n",
              " ('bitter', 517),\n",
              " ('bizarr', 518),\n",
              " ('black', 519),\n",
              " ('blackmail', 520),\n",
              " ('blade', 521),\n",
              " ('blah', 522),\n",
              " ('blair', 523),\n",
              " ('blake', 524),\n",
              " ('blame', 525),\n",
              " ('bland', 526),\n",
              " ('blank', 527),\n",
              " ('blast', 528),\n",
              " ('blatant', 529),\n",
              " ('blatantli', 530),\n",
              " ('bleak', 531),\n",
              " ('bleed', 532),\n",
              " ('blend', 533),\n",
              " ('bless', 534),\n",
              " ('blew', 535),\n",
              " ('blind', 536),\n",
              " ('blob', 537),\n",
              " ('block', 538),\n",
              " ('blockbust', 539),\n",
              " ('blond', 540),\n",
              " ('blood', 541),\n",
              " ('bloodi', 542),\n",
              " ('bloom', 543),\n",
              " ('blow', 544),\n",
              " ('blown', 545),\n",
              " ('blue', 546),\n",
              " ('blunt', 547),\n",
              " ('bmovi', 548),\n",
              " ('bo', 549),\n",
              " ('board', 550),\n",
              " ('boast', 551),\n",
              " ('boat', 552),\n",
              " ('bob', 553),\n",
              " ('bobbi', 554),\n",
              " ('bodi', 555),\n",
              " ('bogu', 556),\n",
              " ('boil', 557),\n",
              " ('bold', 558),\n",
              " ('boll', 559),\n",
              " ('bollywood', 560),\n",
              " ('bomb', 561),\n",
              " ('bond', 562),\n",
              " ('bondag', 563),\n",
              " ('bone', 564),\n",
              " ('bonu', 565),\n",
              " ('boob', 566),\n",
              " ('book', 567),\n",
              " ('boom', 568),\n",
              " ('boot', 569),\n",
              " ('border', 570),\n",
              " ('bore', 571),\n",
              " ('boredom', 572),\n",
              " ('bori', 573),\n",
              " ('born', 574),\n",
              " ('borrow', 575),\n",
              " ('boss', 576),\n",
              " ('boston', 577),\n",
              " ('bother', 578),\n",
              " ('bottl', 579),\n",
              " ('bottom', 580),\n",
              " ('bought', 581),\n",
              " ('bounc', 582),\n",
              " ('bound', 583),\n",
              " ('bourn', 584),\n",
              " ('bow', 585),\n",
              " ('bowl', 586),\n",
              " ('box', 587),\n",
              " ('boxer', 588),\n",
              " ('boy', 589),\n",
              " ('boyer', 590),\n",
              " ('boyfriend', 591),\n",
              " ('boyl', 592),\n",
              " ('brad', 593),\n",
              " ('bradi', 594),\n",
              " ('brain', 595),\n",
              " ('branagh', 596),\n",
              " ('brand', 597),\n",
              " ('brando', 598),\n",
              " ('brave', 599),\n",
              " ('brazil', 600),\n",
              " ('bread', 601),\n",
              " ('break', 602),\n",
              " ('breakdown', 603),\n",
              " ('breakfast', 604),\n",
              " ('breast', 605),\n",
              " ('breath', 606),\n",
              " ('breathtak', 607),\n",
              " ('breed', 608),\n",
              " ('brenda', 609),\n",
              " ('brendan', 610),\n",
              " ('brian', 611),\n",
              " ('bride', 612),\n",
              " ('bridg', 613),\n",
              " ('bridget', 614),\n",
              " ('brief', 615),\n",
              " ('briefli', 616),\n",
              " ('bright', 617),\n",
              " ('brillianc', 618),\n",
              " ('brilliant', 619),\n",
              " ('brilliantli', 620),\n",
              " ('bring', 621),\n",
              " ('brit', 622),\n",
              " ('britain', 623),\n",
              " ('british', 624),\n",
              " ('bro', 625),\n",
              " ('broad', 626),\n",
              " ('broadcast', 627),\n",
              " ('broadway', 628),\n",
              " ('broke', 629),\n",
              " ('broken', 630),\n",
              " ('bronson', 631),\n",
              " ('brood', 632),\n",
              " ('brook', 633),\n",
              " ('brooklyn', 634),\n",
              " ('brosnan', 635),\n",
              " ('brother', 636),\n",
              " ('brought', 637),\n",
              " ('brown', 638),\n",
              " ('bruce', 639),\n",
              " ('bruno', 640),\n",
              " ('brush', 641),\n",
              " ('brutal', 642),\n",
              " ('bu', 643),\n",
              " ('bubbl', 644),\n",
              " ('buck', 645),\n",
              " ('bud', 646),\n",
              " ('buddi', 647),\n",
              " ('budget', 648),\n",
              " ('buff', 649),\n",
              " ('buffalo', 650),\n",
              " ('bug', 651),\n",
              " ('build', 652),\n",
              " ('built', 653),\n",
              " ('bulk', 654),\n",
              " ('bull', 655),\n",
              " ('bullet', 656),\n",
              " ('bulli', 657),\n",
              " ('bumbl', 658),\n",
              " ('bump', 659),\n",
              " ('bunch', 660),\n",
              " ('bunni', 661),\n",
              " ('buri', 662),\n",
              " ('burn', 663),\n",
              " ('burst', 664),\n",
              " ('burt', 665),\n",
              " ('burton', 666),\n",
              " ('bush', 667),\n",
              " ('busi', 668),\n",
              " ('businessman', 669),\n",
              " ('bust', 670),\n",
              " ('buster', 671),\n",
              " ('butch', 672),\n",
              " ('butcher', 673),\n",
              " ('butler', 674),\n",
              " ('butt', 675),\n",
              " ('button', 676),\n",
              " ('buy', 677),\n",
              " ('buzz', 678),\n",
              " ('cabin', 679),\n",
              " ('cabl', 680),\n",
              " ('cage', 681),\n",
              " ('cagney', 682),\n",
              " ('cain', 683),\n",
              " ('cake', 684),\n",
              " ('calib', 685),\n",
              " ('california', 686),\n",
              " ('call', 687),\n",
              " ('calm', 688),\n",
              " ('camcord', 689),\n",
              " ('came', 690),\n",
              " ('cameo', 691),\n",
              " ('camera', 692),\n",
              " ('camerawork', 693),\n",
              " ('cameron', 694),\n",
              " ('camp', 695),\n",
              " ('campaign', 696),\n",
              " ('campbel', 697),\n",
              " ('campi', 698),\n",
              " ('can', 699),\n",
              " ('canada', 700),\n",
              " ('canadian', 701),\n",
              " ('cancel', 702),\n",
              " ('cancer', 703),\n",
              " ('candi', 704),\n",
              " ('candid', 705),\n",
              " ('candl', 706),\n",
              " ('cannib', 707),\n",
              " ('cannon', 708),\n",
              " ('cannot', 709),\n",
              " ('cant', 710),\n",
              " ('canyon', 711),\n",
              " ('cap', 712),\n",
              " ('capabl', 713),\n",
              " ('capit', 714),\n",
              " ('capot', 715),\n",
              " ('captain', 716),\n",
              " ('captiv', 717),\n",
              " ('captur', 718),\n",
              " ('car', 719),\n",
              " ('card', 720),\n",
              " ('cardboard', 721),\n",
              " ('care', 722),\n",
              " ('career', 723),\n",
              " ('carel', 724),\n",
              " ('carey', 725),\n",
              " ('cari', 726),\n",
              " ('caricatur', 727),\n",
              " ('carl', 728),\n",
              " ('carla', 729),\n",
              " ('carlito', 730),\n",
              " ('carlo', 731),\n",
              " ('carol', 732),\n",
              " ('carpent', 733),\n",
              " ('carradin', 734),\n",
              " ('carrey', 735),\n",
              " ('carri', 736),\n",
              " ('carter', 737),\n",
              " ('cartoon', 738),\n",
              " ('cartoonish', 739),\n",
              " ('case', 740),\n",
              " ('cash', 741),\n",
              " ('casino', 742),\n",
              " ('casper', 743),\n",
              " ('cassavet', 744),\n",
              " ('cassidi', 745),\n",
              " ('cast', 746),\n",
              " ('castl', 747),\n",
              " ('casual', 748),\n",
              " ('cat', 749),\n",
              " ('catch', 750),\n",
              " ('catchi', 751),\n",
              " ('categori', 752),\n",
              " ('catherin', 753),\n",
              " ('cathol', 754),\n",
              " ('cattl', 755),\n",
              " ('caught', 756),\n",
              " ('caus', 757),\n",
              " ('cave', 758),\n",
              " ('cb', 759),\n",
              " ('cd', 760),\n",
              " ('cecil', 761),\n",
              " ('celebr', 762),\n",
              " ('cell', 763),\n",
              " ('celluloid', 764),\n",
              " ('cemeteri', 765),\n",
              " ('censor', 766),\n",
              " ('cent', 767),\n",
              " ('center', 768),\n",
              " ('centr', 769),\n",
              " ('central', 770),\n",
              " ('centuri', 771),\n",
              " ('cerebr', 772),\n",
              " ('ceremoni', 773),\n",
              " ('certain', 774),\n",
              " ('certainli', 775),\n",
              " ('cg', 776),\n",
              " ('cgi', 777),\n",
              " ('chain', 778),\n",
              " ('chainsaw', 779),\n",
              " ('chair', 780),\n",
              " ('challeng', 781),\n",
              " ('chamberlain', 782),\n",
              " ('champion', 783),\n",
              " ('championship', 784),\n",
              " ('chan', 785),\n",
              " ('chanc', 786),\n",
              " ('chang', 787),\n",
              " ('channel', 788),\n",
              " ('chao', 789),\n",
              " ('chaplin', 790),\n",
              " ('chapter', 791),\n",
              " ('charact', 792),\n",
              " ('character', 793),\n",
              " ('characteris', 794),\n",
              " ('characterist', 795),\n",
              " ('charg', 796),\n",
              " ('charisma', 797),\n",
              " ('charismat', 798),\n",
              " ('charl', 799),\n",
              " ('charli', 800),\n",
              " ('charlott', 801),\n",
              " ('charlton', 802),\n",
              " ('charm', 803),\n",
              " ('chase', 804),\n",
              " ('chavez', 805),\n",
              " ('che', 806),\n",
              " ('cheap', 807),\n",
              " ('cheat', 808),\n",
              " ('check', 809),\n",
              " ('cheek', 810),\n",
              " ('cheer', 811),\n",
              " ('chees', 812),\n",
              " ('cheesi', 813),\n",
              " ('chemistri', 814),\n",
              " ('cher', 815),\n",
              " ('chess', 816),\n",
              " ('chest', 817),\n",
              " ('chew', 818),\n",
              " ('chicago', 819),\n",
              " ('chick', 820),\n",
              " ('chicken', 821),\n",
              " ('chief', 822),\n",
              " ('child', 823),\n",
              " ('childhood', 824),\n",
              " ('childish', 825),\n",
              " ('children', 826),\n",
              " ('chill', 827),\n",
              " ('china', 828),\n",
              " ('chines', 829),\n",
              " ('chip', 830),\n",
              " ('choic', 831),\n",
              " ('choke', 832),\n",
              " ('choos', 833),\n",
              " ('chop', 834),\n",
              " ('choppi', 835),\n",
              " ('choreograph', 836),\n",
              " ('choreographi', 837),\n",
              " ('choru', 838),\n",
              " ('chose', 839),\n",
              " ('chosen', 840),\n",
              " ('chri', 841),\n",
              " ('christ', 842),\n",
              " ('christi', 843),\n",
              " ('christian', 844),\n",
              " ('christin', 845),\n",
              " ('christma', 846),\n",
              " ('christoph', 847),\n",
              " ('chronicl', 848),\n",
              " ('chuck', 849),\n",
              " ('chuckl', 850),\n",
              " ('church', 851),\n",
              " ('cia', 852),\n",
              " ('cigarett', 853),\n",
              " ('cinderella', 854),\n",
              " ('cinema', 855),\n",
              " ('cinemat', 856),\n",
              " ('cinematograph', 857),\n",
              " ('cinematographi', 858),\n",
              " ('circl', 859),\n",
              " ('circu', 860),\n",
              " ('circumst', 861),\n",
              " ('citi', 862),\n",
              " ('citizen', 863),\n",
              " ('civil', 864),\n",
              " ('claim', 865),\n",
              " ('clair', 866),\n",
              " ('clan', 867),\n",
              " ('clara', 868),\n",
              " ('clark', 869),\n",
              " ('clash', 870),\n",
              " ('class', 871),\n",
              " ('classic', 872),\n",
              " ('clau', 873),\n",
              " ('claustrophob', 874),\n",
              " ('clean', 875),\n",
              " ('clear', 876),\n",
              " ('clearli', 877),\n",
              " ('clerk', 878),\n",
              " ('clever', 879),\n",
              " ('cleverli', 880),\n",
              " ('clich', 881),\n",
              " ('cliché', 882),\n",
              " ('clichéd', 883),\n",
              " ('click', 884),\n",
              " ('client', 885),\n",
              " ('cliff', 886),\n",
              " ('cliffhang', 887),\n",
              " ('climact', 888),\n",
              " ('climat', 889),\n",
              " ('climax', 890),\n",
              " ('climb', 891),\n",
              " ('clinic', 892),\n",
              " ('clint', 893),\n",
              " ('clip', 894),\n",
              " ('clock', 895),\n",
              " ('clone', 896),\n",
              " ('close', 897),\n",
              " ('closer', 898),\n",
              " ('closest', 899),\n",
              " ('closet', 900),\n",
              " ('closeup', 901),\n",
              " ('cloth', 902),\n",
              " ('cloud', 903),\n",
              " ('clown', 904),\n",
              " ('club', 905),\n",
              " ('clue', 906),\n",
              " ('clueless', 907),\n",
              " ('clumsi', 908),\n",
              " ('co', 909),\n",
              " ('coach', 910),\n",
              " ('coast', 911),\n",
              " ('coat', 912),\n",
              " ('code', 913),\n",
              " ('coffe', 914),\n",
              " ('cohen', 915),\n",
              " ('coher', 916),\n",
              " ('coincid', 917),\n",
              " ('cold', 918),\n",
              " ('cole', 919),\n",
              " ('colin', 920),\n",
              " ('collabor', 921),\n",
              " ('collaps', 922),\n",
              " ('colleagu', 923),\n",
              " ('collect', 924),\n",
              " ('collector', 925),\n",
              " ('colleg', 926),\n",
              " ('colonel', 927),\n",
              " ('coloni', 928),\n",
              " ('color', 929),\n",
              " ('colour', 930),\n",
              " ('columbo', 931),\n",
              " ('comb', 932),\n",
              " ('combat', 933),\n",
              " ('combin', 934),\n",
              " ('come', 935),\n",
              " ('comed', 936),\n",
              " ('comedi', 937),\n",
              " ('comedian', 938),\n",
              " ('comfort', 939),\n",
              " ('comic', 940),\n",
              " ('command', 941),\n",
              " ('commend', 942),\n",
              " ('comment', 943),\n",
              " ('commentari', 944),\n",
              " ('commerci', 945),\n",
              " ('commit', 946),\n",
              " ('common', 947),\n",
              " ('commun', 948),\n",
              " ('communist', 949),\n",
              " ('compani', 950),\n",
              " ('companion', 951),\n",
              " ('compar', 952),\n",
              " ('comparison', 953),\n",
              " ('compass', 954),\n",
              " ('compel', 955),\n",
              " ('compens', 956),\n",
              " ('compet', 957),\n",
              " ('competit', 958),\n",
              " ('complain', 959),\n",
              " ('complaint', 960),\n",
              " ('complet', 961),\n",
              " ('complex', 962),\n",
              " ('complic', 963),\n",
              " ('compliment', 964),\n",
              " ('compos', 965),\n",
              " ('composit', 966),\n",
              " ('comprehend', 967),\n",
              " ('comprehens', 968),\n",
              " ('compris', 969),\n",
              " ('compromis', 970),\n",
              " ('comput', 971),\n",
              " ('con', 972),\n",
              " ('conceiv', 973),\n",
              " ('concentr', 974),\n",
              " ('concept', 975),\n",
              " ('concern', 976),\n",
              " ('concert', 977),\n",
              " ('conclud', 978),\n",
              " ('conclus', 979),\n",
              " ('condemn', 980),\n",
              " ('condit', 981),\n",
              " ('conduct', 982),\n",
              " ('confess', 983),\n",
              " ('confid', 984),\n",
              " ('confin', 985),\n",
              " ('confirm', 986),\n",
              " ('conflict', 987),\n",
              " ('confront', 988),\n",
              " ('confus', 989),\n",
              " ('connect', 990),\n",
              " ('conneri', 991),\n",
              " ('conquer', 992),\n",
              " ('conrad', 993),\n",
              " ('conscienc', 994),\n",
              " ('consequ', 995),\n",
              " ('conserv', 996),\n",
              " ('consid', 997),\n",
              " ('consider', 998),\n",
              " ('consist', 999),\n",
              " ...]"
            ]
          },
          "metadata": {},
          "execution_count": 40
        }
      ]
    },
    {
      "cell_type": "code",
      "source": [
        "from sklearn.model_selection import train_test_split"
      ],
      "metadata": {
        "id": "bACn-U0bmCir"
      },
      "execution_count": null,
      "outputs": []
    },
    {
      "cell_type": "code",
      "source": [
        "X_train = train[[\"text\"]]\n",
        "y_train = train[\"sentiment\"]\n",
        "X_test = test[[\"text\"]]\n",
        "y_test = test[[\"sentiment\"]]"
      ],
      "metadata": {
        "id": "F-kqPcCMmJy2"
      },
      "execution_count": null,
      "outputs": []
    },
    {
      "cell_type": "code",
      "source": [
        "from sklearn.ensemble import RandomForestClassifier"
      ],
      "metadata": {
        "id": "QP3Ze_FGiB_s"
      },
      "execution_count": null,
      "outputs": []
    },
    {
      "cell_type": "code",
      "source": [
        "rf = RandomForestClassifier(n_estimators=300)"
      ],
      "metadata": {
        "id": "VFG_0OZIljGM"
      },
      "execution_count": null,
      "outputs": []
    },
    {
      "cell_type": "code",
      "source": [
        "rf.fit((train_bow).toarray(), y_train)"
      ],
      "metadata": {
        "colab": {
          "base_uri": "https://localhost:8080/",
          "height": 74
        },
        "id": "PFlTwkPxl6NU",
        "outputId": "a295d1e0-96a4-4dc9-ef0c-fe16a40026ff"
      },
      "execution_count": null,
      "outputs": [
        {
          "output_type": "execute_result",
          "data": {
            "text/plain": [
              "RandomForestClassifier(n_estimators=300)"
            ],
            "text/html": [
              "<style>#sk-container-id-1 {color: black;background-color: white;}#sk-container-id-1 pre{padding: 0;}#sk-container-id-1 div.sk-toggleable {background-color: white;}#sk-container-id-1 label.sk-toggleable__label {cursor: pointer;display: block;width: 100%;margin-bottom: 0;padding: 0.3em;box-sizing: border-box;text-align: center;}#sk-container-id-1 label.sk-toggleable__label-arrow:before {content: \"▸\";float: left;margin-right: 0.25em;color: #696969;}#sk-container-id-1 label.sk-toggleable__label-arrow:hover:before {color: black;}#sk-container-id-1 div.sk-estimator:hover label.sk-toggleable__label-arrow:before {color: black;}#sk-container-id-1 div.sk-toggleable__content {max-height: 0;max-width: 0;overflow: hidden;text-align: left;background-color: #f0f8ff;}#sk-container-id-1 div.sk-toggleable__content pre {margin: 0.2em;color: black;border-radius: 0.25em;background-color: #f0f8ff;}#sk-container-id-1 input.sk-toggleable__control:checked~div.sk-toggleable__content {max-height: 200px;max-width: 100%;overflow: auto;}#sk-container-id-1 input.sk-toggleable__control:checked~label.sk-toggleable__label-arrow:before {content: \"▾\";}#sk-container-id-1 div.sk-estimator input.sk-toggleable__control:checked~label.sk-toggleable__label {background-color: #d4ebff;}#sk-container-id-1 div.sk-label input.sk-toggleable__control:checked~label.sk-toggleable__label {background-color: #d4ebff;}#sk-container-id-1 input.sk-hidden--visually {border: 0;clip: rect(1px 1px 1px 1px);clip: rect(1px, 1px, 1px, 1px);height: 1px;margin: -1px;overflow: hidden;padding: 0;position: absolute;width: 1px;}#sk-container-id-1 div.sk-estimator {font-family: monospace;background-color: #f0f8ff;border: 1px dotted black;border-radius: 0.25em;box-sizing: border-box;margin-bottom: 0.5em;}#sk-container-id-1 div.sk-estimator:hover {background-color: #d4ebff;}#sk-container-id-1 div.sk-parallel-item::after {content: \"\";width: 100%;border-bottom: 1px solid gray;flex-grow: 1;}#sk-container-id-1 div.sk-label:hover label.sk-toggleable__label {background-color: #d4ebff;}#sk-container-id-1 div.sk-serial::before {content: \"\";position: absolute;border-left: 1px solid gray;box-sizing: border-box;top: 0;bottom: 0;left: 50%;z-index: 0;}#sk-container-id-1 div.sk-serial {display: flex;flex-direction: column;align-items: center;background-color: white;padding-right: 0.2em;padding-left: 0.2em;position: relative;}#sk-container-id-1 div.sk-item {position: relative;z-index: 1;}#sk-container-id-1 div.sk-parallel {display: flex;align-items: stretch;justify-content: center;background-color: white;position: relative;}#sk-container-id-1 div.sk-item::before, #sk-container-id-1 div.sk-parallel-item::before {content: \"\";position: absolute;border-left: 1px solid gray;box-sizing: border-box;top: 0;bottom: 0;left: 50%;z-index: -1;}#sk-container-id-1 div.sk-parallel-item {display: flex;flex-direction: column;z-index: 1;position: relative;background-color: white;}#sk-container-id-1 div.sk-parallel-item:first-child::after {align-self: flex-end;width: 50%;}#sk-container-id-1 div.sk-parallel-item:last-child::after {align-self: flex-start;width: 50%;}#sk-container-id-1 div.sk-parallel-item:only-child::after {width: 0;}#sk-container-id-1 div.sk-dashed-wrapped {border: 1px dashed gray;margin: 0 0.4em 0.5em 0.4em;box-sizing: border-box;padding-bottom: 0.4em;background-color: white;}#sk-container-id-1 div.sk-label label {font-family: monospace;font-weight: bold;display: inline-block;line-height: 1.2em;}#sk-container-id-1 div.sk-label-container {text-align: center;}#sk-container-id-1 div.sk-container {/* jupyter's `normalize.less` sets `[hidden] { display: none; }` but bootstrap.min.css set `[hidden] { display: none !important; }` so we also need the `!important` here to be able to override the default hidden behavior on the sphinx rendered scikit-learn.org. See: https://github.com/scikit-learn/scikit-learn/issues/21755 */display: inline-block !important;position: relative;}#sk-container-id-1 div.sk-text-repr-fallback {display: none;}</style><div id=\"sk-container-id-1\" class=\"sk-top-container\"><div class=\"sk-text-repr-fallback\"><pre>RandomForestClassifier(n_estimators=300)</pre><b>In a Jupyter environment, please rerun this cell to show the HTML representation or trust the notebook. <br />On GitHub, the HTML representation is unable to render, please try loading this page with nbviewer.org.</b></div><div class=\"sk-container\" hidden><div class=\"sk-item\"><div class=\"sk-estimator sk-toggleable\"><input class=\"sk-toggleable__control sk-hidden--visually\" id=\"sk-estimator-id-1\" type=\"checkbox\" checked><label for=\"sk-estimator-id-1\" class=\"sk-toggleable__label sk-toggleable__label-arrow\">RandomForestClassifier</label><div class=\"sk-toggleable__content\"><pre>RandomForestClassifier(n_estimators=300)</pre></div></div></div></div></div>"
            ]
          },
          "metadata": {},
          "execution_count": 45
        }
      ]
    },
    {
      "cell_type": "code",
      "source": [
        "from sklearn.metrics import accuracy_score, confusion_matrix"
      ],
      "metadata": {
        "id": "HUnXzqbvsvry"
      },
      "execution_count": null,
      "outputs": []
    },
    {
      "cell_type": "code",
      "source": [
        "y_pred = rf.predict(test_bow)"
      ],
      "metadata": {
        "id": "Mfk75tQCt_xi"
      },
      "execution_count": null,
      "outputs": []
    },
    {
      "cell_type": "code",
      "source": [
        "accuracy_score(y_test, y_pred)"
      ],
      "metadata": {
        "colab": {
          "base_uri": "https://localhost:8080/"
        },
        "id": "N2Y8F901uV-K",
        "outputId": "5b25e63b-d1f8-4571-d5b8-a3b1d6726118"
      },
      "execution_count": null,
      "outputs": [
        {
          "output_type": "execute_result",
          "data": {
            "text/plain": [
              "0.84948"
            ]
          },
          "metadata": {},
          "execution_count": 48
        }
      ]
    },
    {
      "cell_type": "markdown",
      "source": [
        "# Word2Vec"
      ],
      "metadata": {
        "id": "poEyxpjMm2e4"
      }
    },
    {
      "cell_type": "code",
      "source": [
        "from nltk import sent_tokenize\n",
        "import gensim\n",
        "from gensim.utils import simple_preprocess"
      ],
      "metadata": {
        "id": "rQz76dyLwSnS"
      },
      "execution_count": null,
      "outputs": []
    },
    {
      "cell_type": "code",
      "source": [
        "nltk.download(\"punkt\")"
      ],
      "metadata": {
        "colab": {
          "base_uri": "https://localhost:8080/"
        },
        "id": "ue8U-d55xffN",
        "outputId": "c6b4a753-edb8-4137-ef94-d5e8f35c580e"
      },
      "execution_count": null,
      "outputs": [
        {
          "output_type": "stream",
          "name": "stderr",
          "text": [
            "[nltk_data] Downloading package punkt to /root/nltk_data...\n",
            "[nltk_data]   Unzipping tokenizers/punkt.zip.\n"
          ]
        },
        {
          "output_type": "execute_result",
          "data": {
            "text/plain": [
              "True"
            ]
          },
          "metadata": {},
          "execution_count": 50
        }
      ]
    },
    {
      "cell_type": "code",
      "source": [
        "sentences = []\n",
        "\n",
        "for doc in train[\"text\"]:\n",
        "  raw_sent = sent_tokenize(doc)\n",
        "  for sent in raw_sent:\n",
        "    sentences.append(simple_preprocess(sent))"
      ],
      "metadata": {
        "id": "qZES-NPDwf-q"
      },
      "execution_count": null,
      "outputs": []
    },
    {
      "cell_type": "code",
      "source": [
        "model = gensim.models.Word2Vec(\n",
        "    window=10,\n",
        "    min_count=2\n",
        ")"
      ],
      "metadata": {
        "id": "7SodRKP-xmpp"
      },
      "execution_count": null,
      "outputs": []
    },
    {
      "cell_type": "code",
      "source": [
        "model.build_vocab(sentences)"
      ],
      "metadata": {
        "id": "U2XSkHU-x6VA"
      },
      "execution_count": null,
      "outputs": []
    },
    {
      "cell_type": "code",
      "source": [
        "model.train(sentences, total_examples=model.corpus_count, epochs=model.epochs)"
      ],
      "metadata": {
        "colab": {
          "base_uri": "https://localhost:8080/"
        },
        "id": "RNbDL7y5yF5Z",
        "outputId": "2be5d228-9cd0-4f27-e57e-44c842f12217"
      },
      "execution_count": null,
      "outputs": [
        {
          "output_type": "execute_result",
          "data": {
            "text/plain": [
              "(13807805, 14924425)"
            ]
          },
          "metadata": {},
          "execution_count": 54
        }
      ]
    },
    {
      "cell_type": "code",
      "source": [
        "len(model.wv.index_to_key)"
      ],
      "metadata": {
        "colab": {
          "base_uri": "https://localhost:8080/"
        },
        "id": "aCwC8mI8yXsS",
        "outputId": "d17dee21-8771-4e82-a679-0b4c5e762981"
      },
      "execution_count": null,
      "outputs": [
        {
          "output_type": "execute_result",
          "data": {
            "text/plain": [
              "38974"
            ]
          },
          "metadata": {},
          "execution_count": 55
        }
      ]
    },
    {
      "cell_type": "code",
      "source": [
        "def document_vec(doc):\n",
        "  doc = [word for word in doc.split() if word in model.wv.index_to_key]\n",
        "  return np.mean(model.wv[doc], axis=0)"
      ],
      "metadata": {
        "id": "Ka149UCeyoIh"
      },
      "execution_count": null,
      "outputs": []
    },
    {
      "cell_type": "code",
      "source": [
        "document_vec(train[\"text\"].values[0])"
      ],
      "metadata": {
        "colab": {
          "base_uri": "https://localhost:8080/"
        },
        "id": "qIqt-3BYzLMx",
        "outputId": "17314b9e-795a-4728-d6c1-5af66316acdc"
      },
      "execution_count": null,
      "outputs": [
        {
          "output_type": "execute_result",
          "data": {
            "text/plain": [
              "array([-0.09040391, -0.40028614, -0.62131727, -0.02047815, -0.70542645,\n",
              "       -0.4188075 ,  0.23285356,  0.32584608, -0.43481937, -0.41964665,\n",
              "        0.28416222, -0.05770575,  0.24099281,  0.3111157 , -0.10796093,\n",
              "        0.15904094,  0.3870949 , -0.30280882, -0.6935178 , -0.7561509 ,\n",
              "       -0.02460149, -0.29363424,  0.47490928,  0.3005068 ,  0.21963398,\n",
              "       -0.24331921,  0.1072198 ,  0.4794314 ,  0.39353186,  0.4139428 ,\n",
              "       -0.01227661, -0.34559435,  0.3751155 , -0.69719315, -0.59809375,\n",
              "        0.6531599 ,  0.47340196, -0.34662735, -0.20839743, -0.63208365,\n",
              "        0.3738677 , -0.5396282 , -0.30861402, -0.5093353 ,  0.15800332,\n",
              "       -0.38819924, -0.05896813, -0.30203408,  0.82727015,  0.08655819,\n",
              "       -0.0943589 , -0.25625297,  0.10218864,  0.3997227 ,  0.18244864,\n",
              "        0.2843055 , -0.18711653, -0.6267462 , -0.6230006 , -0.3219008 ,\n",
              "       -0.35962883,  0.22592545,  0.5513871 ,  0.14112246, -0.2822685 ,\n",
              "        0.303108  , -0.44239187, -0.1425835 , -0.833801  , -0.16125402,\n",
              "        0.4295006 ,  0.41487947,  0.034873  ,  0.02272439,  0.42562398,\n",
              "       -0.07426935, -0.41503   ,  0.1813073 , -0.99043566, -0.03875581,\n",
              "       -0.52184546, -0.16981877,  0.11321451,  0.69850594, -0.9034702 ,\n",
              "       -1.0197799 ,  0.3531726 ,  0.74578714,  0.3160046 , -0.460239  ,\n",
              "        0.29132268, -0.32906857,  0.8967435 , -0.4324237 ,  0.36801013,\n",
              "       -0.37826896,  0.7159147 ,  0.30486044,  0.46622905, -0.01218393],\n",
              "      dtype=float32)"
            ]
          },
          "metadata": {},
          "execution_count": 57
        }
      ]
    },
    {
      "cell_type": "code",
      "source": [
        "pip install tqdm"
      ],
      "metadata": {
        "colab": {
          "base_uri": "https://localhost:8080/"
        },
        "id": "rO4ToIY6lhhB",
        "outputId": "32b0cea4-5d31-4f1b-c697-26f757779099"
      },
      "execution_count": null,
      "outputs": [
        {
          "output_type": "stream",
          "name": "stdout",
          "text": [
            "Requirement already satisfied: tqdm in /usr/local/lib/python3.10/dist-packages (4.66.1)\n"
          ]
        }
      ]
    },
    {
      "cell_type": "code",
      "source": [
        "from tqdm import tqdm"
      ],
      "metadata": {
        "id": "0Ag6HpvnlzEf"
      },
      "execution_count": null,
      "outputs": []
    },
    {
      "cell_type": "code",
      "source": [
        "X = []\n",
        "for doc in tqdm(train[\"text\"].values):\n",
        "  X.append(document_vec(doc))"
      ],
      "metadata": {
        "colab": {
          "base_uri": "https://localhost:8080/"
        },
        "id": "2hM2W8Ksl8Dy",
        "outputId": "4cbc96f4-f66f-400d-c63f-ce24c1e5860b"
      },
      "execution_count": null,
      "outputs": [
        {
          "output_type": "stream",
          "name": "stderr",
          "text": [
            "100%|██████████| 24904/24904 [07:07<00:00, 58.31it/s]\n"
          ]
        }
      ]
    },
    {
      "cell_type": "code",
      "source": [
        "X_test = []\n",
        "for doc in tqdm(test[\"text\"].values):\n",
        "  X_test.append(document_vec(doc))"
      ],
      "metadata": {
        "colab": {
          "base_uri": "https://localhost:8080/"
        },
        "id": "7jkm95mCohJX",
        "outputId": "65fdb901-2479-40f9-e0ca-de75503efbe3"
      },
      "execution_count": null,
      "outputs": [
        {
          "output_type": "stream",
          "name": "stderr",
          "text": [
            "100%|██████████| 25000/25000 [08:51<00:00, 47.02it/s]\n"
          ]
        }
      ]
    },
    {
      "cell_type": "code",
      "source": [
        "rf_wv = RandomForestClassifier()"
      ],
      "metadata": {
        "id": "cdjOgjJ9pWJw"
      },
      "execution_count": null,
      "outputs": []
    },
    {
      "cell_type": "code",
      "source": [
        "rf_wv.fit(X, y_train)"
      ],
      "metadata": {
        "colab": {
          "base_uri": "https://localhost:8080/",
          "height": 74
        },
        "id": "o0dO5Zchpdtm",
        "outputId": "ce8a7871-18d9-4270-e58d-286f5284f046"
      },
      "execution_count": null,
      "outputs": [
        {
          "output_type": "execute_result",
          "data": {
            "text/plain": [
              "RandomForestClassifier()"
            ],
            "text/html": [
              "<style>#sk-container-id-2 {color: black;background-color: white;}#sk-container-id-2 pre{padding: 0;}#sk-container-id-2 div.sk-toggleable {background-color: white;}#sk-container-id-2 label.sk-toggleable__label {cursor: pointer;display: block;width: 100%;margin-bottom: 0;padding: 0.3em;box-sizing: border-box;text-align: center;}#sk-container-id-2 label.sk-toggleable__label-arrow:before {content: \"▸\";float: left;margin-right: 0.25em;color: #696969;}#sk-container-id-2 label.sk-toggleable__label-arrow:hover:before {color: black;}#sk-container-id-2 div.sk-estimator:hover label.sk-toggleable__label-arrow:before {color: black;}#sk-container-id-2 div.sk-toggleable__content {max-height: 0;max-width: 0;overflow: hidden;text-align: left;background-color: #f0f8ff;}#sk-container-id-2 div.sk-toggleable__content pre {margin: 0.2em;color: black;border-radius: 0.25em;background-color: #f0f8ff;}#sk-container-id-2 input.sk-toggleable__control:checked~div.sk-toggleable__content {max-height: 200px;max-width: 100%;overflow: auto;}#sk-container-id-2 input.sk-toggleable__control:checked~label.sk-toggleable__label-arrow:before {content: \"▾\";}#sk-container-id-2 div.sk-estimator input.sk-toggleable__control:checked~label.sk-toggleable__label {background-color: #d4ebff;}#sk-container-id-2 div.sk-label input.sk-toggleable__control:checked~label.sk-toggleable__label {background-color: #d4ebff;}#sk-container-id-2 input.sk-hidden--visually {border: 0;clip: rect(1px 1px 1px 1px);clip: rect(1px, 1px, 1px, 1px);height: 1px;margin: -1px;overflow: hidden;padding: 0;position: absolute;width: 1px;}#sk-container-id-2 div.sk-estimator {font-family: monospace;background-color: #f0f8ff;border: 1px dotted black;border-radius: 0.25em;box-sizing: border-box;margin-bottom: 0.5em;}#sk-container-id-2 div.sk-estimator:hover {background-color: #d4ebff;}#sk-container-id-2 div.sk-parallel-item::after {content: \"\";width: 100%;border-bottom: 1px solid gray;flex-grow: 1;}#sk-container-id-2 div.sk-label:hover label.sk-toggleable__label {background-color: #d4ebff;}#sk-container-id-2 div.sk-serial::before {content: \"\";position: absolute;border-left: 1px solid gray;box-sizing: border-box;top: 0;bottom: 0;left: 50%;z-index: 0;}#sk-container-id-2 div.sk-serial {display: flex;flex-direction: column;align-items: center;background-color: white;padding-right: 0.2em;padding-left: 0.2em;position: relative;}#sk-container-id-2 div.sk-item {position: relative;z-index: 1;}#sk-container-id-2 div.sk-parallel {display: flex;align-items: stretch;justify-content: center;background-color: white;position: relative;}#sk-container-id-2 div.sk-item::before, #sk-container-id-2 div.sk-parallel-item::before {content: \"\";position: absolute;border-left: 1px solid gray;box-sizing: border-box;top: 0;bottom: 0;left: 50%;z-index: -1;}#sk-container-id-2 div.sk-parallel-item {display: flex;flex-direction: column;z-index: 1;position: relative;background-color: white;}#sk-container-id-2 div.sk-parallel-item:first-child::after {align-self: flex-end;width: 50%;}#sk-container-id-2 div.sk-parallel-item:last-child::after {align-self: flex-start;width: 50%;}#sk-container-id-2 div.sk-parallel-item:only-child::after {width: 0;}#sk-container-id-2 div.sk-dashed-wrapped {border: 1px dashed gray;margin: 0 0.4em 0.5em 0.4em;box-sizing: border-box;padding-bottom: 0.4em;background-color: white;}#sk-container-id-2 div.sk-label label {font-family: monospace;font-weight: bold;display: inline-block;line-height: 1.2em;}#sk-container-id-2 div.sk-label-container {text-align: center;}#sk-container-id-2 div.sk-container {/* jupyter's `normalize.less` sets `[hidden] { display: none; }` but bootstrap.min.css set `[hidden] { display: none !important; }` so we also need the `!important` here to be able to override the default hidden behavior on the sphinx rendered scikit-learn.org. See: https://github.com/scikit-learn/scikit-learn/issues/21755 */display: inline-block !important;position: relative;}#sk-container-id-2 div.sk-text-repr-fallback {display: none;}</style><div id=\"sk-container-id-2\" class=\"sk-top-container\"><div class=\"sk-text-repr-fallback\"><pre>RandomForestClassifier()</pre><b>In a Jupyter environment, please rerun this cell to show the HTML representation or trust the notebook. <br />On GitHub, the HTML representation is unable to render, please try loading this page with nbviewer.org.</b></div><div class=\"sk-container\" hidden><div class=\"sk-item\"><div class=\"sk-estimator sk-toggleable\"><input class=\"sk-toggleable__control sk-hidden--visually\" id=\"sk-estimator-id-2\" type=\"checkbox\" checked><label for=\"sk-estimator-id-2\" class=\"sk-toggleable__label sk-toggleable__label-arrow\">RandomForestClassifier</label><div class=\"sk-toggleable__content\"><pre>RandomForestClassifier()</pre></div></div></div></div></div>"
            ]
          },
          "metadata": {},
          "execution_count": 63
        }
      ]
    },
    {
      "cell_type": "code",
      "source": [
        "y_pred = rf_wv.predict(X_test)\n",
        "accuracy_score(y_test, y_pred)"
      ],
      "metadata": {
        "colab": {
          "base_uri": "https://localhost:8080/"
        },
        "id": "KQCEa6yvpqyZ",
        "outputId": "3b3f7597-d669-4313-9968-11e051fba9a1"
      },
      "execution_count": null,
      "outputs": [
        {
          "output_type": "execute_result",
          "data": {
            "text/plain": [
              "0.82656"
            ]
          },
          "metadata": {},
          "execution_count": 64
        }
      ]
    },
    {
      "cell_type": "code",
      "source": [
        "sentim = test[\"text\"][7]\n",
        "pre_sent = simple_preprocess(sentim)\n",
        "sen_vec = document_vec(\" \".join(pre_sent))\n",
        "rf_wv.predict([sen_vec])"
      ],
      "metadata": {
        "colab": {
          "base_uri": "https://localhost:8080/"
        },
        "id": "xO4yqZeIZMNL",
        "outputId": "7ee011cf-6aa6-449b-feb7-ff2903f30fb9"
      },
      "execution_count": null,
      "outputs": [
        {
          "output_type": "execute_result",
          "data": {
            "text/plain": [
              "array([0])"
            ]
          },
          "metadata": {},
          "execution_count": 87
        }
      ]
    },
    {
      "cell_type": "code",
      "source": [
        "test[\"text\"][7]"
      ],
      "metadata": {
        "colab": {
          "base_uri": "https://localhost:8080/",
          "height": 54
        },
        "id": "LJ0wYqVMnw0b",
        "outputId": "5c209f8f-a96e-4e9c-b3cd-5d79f88f6597"
      },
      "execution_count": null,
      "outputs": [
        {
          "output_type": "execute_result",
          "data": {
            "text/plain": [
              "'save 3 whatev cost rent movi local video store anguish hourandhoweverlongthismoviei here simpl plan go friend hous talk rent pest watch first 30 second make excus leav open sequenc realli funni definit worth watch unfortun 99 movi horribl without shower scene begin one worst movi time'"
            ],
            "application/vnd.google.colaboratory.intrinsic+json": {
              "type": "string"
            }
          },
          "metadata": {},
          "execution_count": 88
        }
      ]
    }
  ]
}