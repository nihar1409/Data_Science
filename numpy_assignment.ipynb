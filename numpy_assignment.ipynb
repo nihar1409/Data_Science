{
 "cells": [
  {
   "cell_type": "code",
   "execution_count": 1,
   "id": "37b1d0a7",
   "metadata": {},
   "outputs": [],
   "source": [
    "import numpy as np\n",
    "import pandas as pd"
   ]
  },
  {
   "cell_type": "code",
   "execution_count": 2,
   "id": "62387dbc",
   "metadata": {},
   "outputs": [
    {
     "data": {
      "text/plain": [
       "(array([], dtype=float64),\n",
       " array([[7, 7, 7, 7],\n",
       "        [7, 7, 7, 7],\n",
       "        [7, 7, 7, 7]]))"
      ]
     },
     "execution_count": 2,
     "metadata": {},
     "output_type": "execute_result"
    }
   ],
   "source": [
    "#empty and full numpy array\n",
    "emp = np.empty(0)\n",
    "full = np.full((3,4),(7))\n",
    "emp, full"
   ]
  },
  {
   "cell_type": "code",
   "execution_count": 3,
   "id": "6dec4910",
   "metadata": {},
   "outputs": [
    {
     "data": {
      "text/plain": [
       "array([[0, 0, 0, 0, 0],\n",
       "       [0, 0, 0, 0, 0],\n",
       "       [0, 0, 0, 0, 0],\n",
       "       [0, 0, 0, 0, 0],\n",
       "       [0, 0, 0, 0, 0]])"
      ]
     },
     "execution_count": 3,
     "metadata": {},
     "output_type": "execute_result"
    }
   ],
   "source": [
    "#numpy array with zeros\n",
    "zer = np.full((5,5), 0)\n",
    "zer"
   ]
  },
  {
   "cell_type": "code",
   "execution_count": 4,
   "id": "f9749ab7",
   "metadata": {},
   "outputs": [
    {
     "data": {
      "text/plain": [
       "array([[1, 1, 1, 1, 1],\n",
       "       [1, 1, 1, 1, 1],\n",
       "       [1, 1, 1, 1, 1],\n",
       "       [1, 1, 1, 1, 1],\n",
       "       [1, 1, 1, 1, 1]])"
      ]
     },
     "execution_count": 4,
     "metadata": {},
     "output_type": "execute_result"
    }
   ],
   "source": [
    "#numpy array with ones\n",
    "zer = np.full((5,5), 1)\n",
    "zer"
   ]
  },
  {
   "cell_type": "code",
   "execution_count": 5,
   "id": "facd7b80",
   "metadata": {},
   "outputs": [
    {
     "data": {
      "text/plain": [
       "array([[12, 73, 10],\n",
       "       [34, 84, 54],\n",
       "       [53, 71, 18],\n",
       "       [ 0,  3,  9],\n",
       "       [17, 15, 37]])"
      ]
     },
     "execution_count": 5,
     "metadata": {},
     "output_type": "execute_result"
    }
   ],
   "source": [
    "arr = np.random.randint(0,100, (5,3))\n",
    "\n",
    "\n",
    "arr"
   ]
  },
  {
   "cell_type": "code",
   "execution_count": 6,
   "id": "3d64509e",
   "metadata": {},
   "outputs": [
    {
     "data": {
      "text/plain": [
       "array([False, False, False, False, False])"
      ]
     },
     "execution_count": 6,
     "metadata": {},
     "output_type": "execute_result"
    }
   ],
   "source": [
    "row = [17,80,15]\n",
    "np.all(np.isin(arr,row).reshape(arr.shape), axis=1)"
   ]
  },
  {
   "cell_type": "code",
   "execution_count": 7,
   "id": "12847745",
   "metadata": {},
   "outputs": [
    {
     "data": {
      "text/plain": [
       "array([['10', '2', '4'],\n",
       "       ['12', '2', '4']], dtype='<U11')"
      ]
     },
     "execution_count": 7,
     "metadata": {},
     "output_type": "execute_result"
    }
   ],
   "source": [
    "#remove non numeric values\n",
    "arr = np.array([[\"hi\",\"hi\",\"no\"],\n",
    "      [10,2,4],\n",
    "      [20,0,\"w\"],\n",
    "      [12,2,4]])\n",
    "non_num = ~np.core.defchararray.isdigit(np.asarray(arr, dtype=str))\n",
    "num_arr = arr[~np.any(non_num, axis=1)]\n",
    "num_arr"
   ]
  },
  {
   "cell_type": "code",
   "execution_count": 8,
   "id": "2e8ef2eb",
   "metadata": {},
   "outputs": [
    {
     "data": {
      "text/plain": [
       "array([[1, 2, 3]])"
      ]
     },
     "execution_count": 8,
     "metadata": {},
     "output_type": "execute_result"
    }
   ],
   "source": [
    "#\n",
    "arr = np.array([[[1,2,3]]])\n",
    "no1d = np.squeeze(arr, axis=1)\n",
    "no1d"
   ]
  },
  {
   "cell_type": "code",
   "execution_count": 9,
   "id": "af413161",
   "metadata": {},
   "outputs": [
    {
     "data": {
      "text/plain": [
       "4"
      ]
     },
     "execution_count": 9,
     "metadata": {},
     "output_type": "execute_result"
    }
   ],
   "source": [
    "#frequency \n",
    "arr = np.array([1, 2, 3, 2, 4, 2, 5, 2])\n",
    "count = np.count_nonzero(arr == 2)\n",
    "count"
   ]
  },
  {
   "cell_type": "code",
   "execution_count": 10,
   "id": "0ea74331",
   "metadata": {},
   "outputs": [
    {
     "data": {
      "text/plain": [
       "2"
      ]
     },
     "execution_count": 10,
     "metadata": {},
     "output_type": "execute_result"
    }
   ],
   "source": [
    "#most frequent number\n",
    "np.argmax(np.bincount(arr))"
   ]
  },
  {
   "cell_type": "code",
   "execution_count": 11,
   "id": "03f3baab",
   "metadata": {
    "scrolled": true
   },
   "outputs": [
    {
     "data": {
      "text/plain": [
       "(array([[1, 2, 3],\n",
       "        [1, 2, 3],\n",
       "        [3, 4, 5],\n",
       "        [6, 7, 8]]),\n",
       " array([[1, 1, 2, 3],\n",
       "        [2, 3, 4, 5],\n",
       "        [3, 6, 7, 8]]))"
      ]
     },
     "execution_count": 11,
     "metadata": {},
     "output_type": "execute_result"
    }
   ],
   "source": [
    "#combine vstack and hstack\n",
    "arr = np.array([1,2,3])\n",
    "arr1 = np.array([[1,2,3], [3,4,5], [6,7,8]])\n",
    "comb = np.vstack((arr,arr1))\n",
    "combh = np.hstack((arr.reshape(-1,1), arr1))\n",
    "comb, combh"
   ]
  },
  {
   "cell_type": "code",
   "execution_count": 12,
   "id": "3e0f16b1",
   "metadata": {},
   "outputs": [
    {
     "ename": "SyntaxError",
     "evalue": "unexpected EOF while parsing (520560447.py, line 6)",
     "output_type": "error",
     "traceback": [
      "\u001b[1;36m  Input \u001b[1;32mIn [12]\u001b[1;36m\u001b[0m\n\u001b[1;33m    np.select (# returns an array drawn from elements in choicelist, depending on conditions)\u001b[0m\n\u001b[1;37m                                                                                             ^\u001b[0m\n\u001b[1;31mSyntaxError\u001b[0m\u001b[1;31m:\u001b[0m unexpected EOF while parsing\n"
     ]
    }
   ],
   "source": [
    "# 5 numpy functions\n",
    "np.percentile (#computes the q-th percentile of the data along the specified axis)\n",
    "np.diff (#calculates the n-th discrete difference along a given axis)\n",
    "np.searchsorted (#finds the indices where elements should be inserted to maintain order. It's helpful for performing binary searches)\n",
    "np.lexsort (# performs an indirect sort on multiple keys. It can be used to sort several arrays based on different sorting criteria.)\n",
    "np.select (# returns an array drawn from elements in choicelist, depending on conditions)\n"
   ]
  },
  {
   "cell_type": "code",
   "execution_count": 13,
   "id": "32b96c5a",
   "metadata": {
    "scrolled": true
   },
   "outputs": [
    {
     "data": {
      "text/plain": [
       "array([12, 63, 36, 11, 29, 56, 35, 42, 17, 36, 48, 86, 51, 54, 31, 51, 87,\n",
       "       76, 72, 32, 76, 58,  9, 23, 17, 52,  6, 21, 64, 24])"
      ]
     },
     "execution_count": 13,
     "metadata": {},
     "output_type": "execute_result"
    }
   ],
   "source": [
    "arr = np.random.randint(2, 100, 30)\n",
    "arr"
   ]
  },
  {
   "cell_type": "code",
   "execution_count": 14,
   "id": "3806683e",
   "metadata": {},
   "outputs": [
    {
     "data": {
      "text/plain": [
       "57.5"
      ]
     },
     "execution_count": 14,
     "metadata": {},
     "output_type": "execute_result"
    }
   ],
   "source": [
    "#function 1 np.percentile\n",
    "per = np.percentile(arr, 75)\n",
    "per\n",
    "#calculates the 75th percentile of the given array \n",
    "# needs two arguments first the array and second the percetile we want to calculate"
   ]
  },
  {
   "cell_type": "code",
   "execution_count": 15,
   "id": "4c5f64dd",
   "metadata": {},
   "outputs": [
    {
     "data": {
      "text/plain": [
       "array([ 51, -27, -25,  18,  27, -21,   7, -25,  19])"
      ]
     },
     "execution_count": 15,
     "metadata": {},
     "output_type": "execute_result"
    }
   ],
   "source": [
    "#functiion 2 np.diff\n",
    "diff = np.diff(arr[0:10])\n",
    "diff\n",
    "#calculates the difference between indexes one by one and using first the latter index first as in 1st index is subtracted from 0\n"
   ]
  },
  {
   "cell_type": "code",
   "execution_count": 16,
   "id": "481cb41f",
   "metadata": {},
   "outputs": [
    {
     "data": {
      "text/plain": [
       "0"
      ]
     },
     "execution_count": 16,
     "metadata": {},
     "output_type": "execute_result"
    }
   ],
   "source": [
    "#function 3 np.searchsorted\n",
    "sort = np.searchsorted(arr,3)\n",
    "sort\n",
    "#gives the index at which a value should be inserted to maintain the sorting order."
   ]
  },
  {
   "cell_type": "code",
   "execution_count": 21,
   "id": "1b2b3bba",
   "metadata": {},
   "outputs": [
    {
     "data": {
      "text/plain": [
       "array(['^', 'D', '0', 'X', '!', 'a', '1', '1', '4', 'v', 'd', 'G', 'X',\n",
       "       'm', 'O', 'i', 'S', ')', 'C', '6', 'Z', '&', 'b', 'Y', 'I', 'F',\n",
       "       'B', 'C', 'q', 'h'], dtype='<U1')"
      ]
     },
     "execution_count": 21,
     "metadata": {},
     "output_type": "execute_result"
    }
   ],
   "source": [
    "import string\n",
    "characters = np.array(list(string.ascii_letters + string.digits + '!@#$%^&*()'))\n",
    "char_arr = np.random.choice(characters, size=30)\n",
    "char_arr"
   ]
  },
  {
   "cell_type": "code",
   "execution_count": 24,
   "id": "265685d4",
   "metadata": {},
   "outputs": [
    {
     "data": {
      "text/plain": [
       "array([0, 3, 6, 1, 4, 7, 2, 5, 8], dtype=int64)"
      ]
     },
     "execution_count": 24,
     "metadata": {},
     "output_type": "execute_result"
    }
   ],
   "source": [
    "#function 4 np.lexsort\n",
    "arr2 = np.array([2, 3, 1, 2, 3, 1, 4, 3, 4])\n",
    "char_arr1 = np.array(['a', 'b', 'c', 'a', 'b', 'c', 'a', 'b', 'c'])\n",
    "lsort = np.lexsort((arr2, char_arr1))\n",
    "lsort\n",
    "#sorts the values based on multiple keys on multiple arrays in lexicographic order and returns indices \n",
    "#145 comes before 146 and cat is before catalog as cat is shorter\n",
    "#the sorting is done based on char_arr1 and if there is a tie it uses the arr2 to sort but based on the index where the tie is"
   ]
  },
  {
   "cell_type": "code",
   "execution_count": 32,
   "id": "197b5511",
   "metadata": {
    "scrolled": true
   },
   "outputs": [
    {
     "data": {
      "text/plain": [
       "(array([12, 63, 36, 11, 29, 56, 35, 42, 17, 36, 48, 86, 51, 54, 31, 51, 87,\n",
       "        76, 72, 32, 76, 58,  9, 23, 17, 52,  6, 21, 64, 24]),\n",
       " array([ 0,  0,  0,  0,  0,  0,  0,  0,  0,  0,  0,  0,  0,  0,  0,  0,  0,\n",
       "         0,  0,  0,  0,  0, 10,  0,  0,  0, 10,  0,  0,  0]))"
      ]
     },
     "execution_count": 32,
     "metadata": {},
     "output_type": "execute_result"
    }
   ],
   "source": [
    "#function 5 np.select\n",
    "selection = np.select([arr>10,arr<=10], [0, 10], 1000)\n",
    "arr,selection\n",
    "#replaces the values based on conditions as first argument, values to replace with as second argument and \n",
    "#default values if condition not satisfied."
   ]
  }
 ],
 "metadata": {
  "kernelspec": {
   "display_name": "Python 3 (ipykernel)",
   "language": "python",
   "name": "python3"
  },
  "language_info": {
   "codemirror_mode": {
    "name": "ipython",
    "version": 3
   },
   "file_extension": ".py",
   "mimetype": "text/x-python",
   "name": "python",
   "nbconvert_exporter": "python",
   "pygments_lexer": "ipython3",
   "version": "3.9.12"
  }
 },
 "nbformat": 4,
 "nbformat_minor": 5
}
