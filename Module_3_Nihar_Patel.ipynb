{
 "cells": [
  {
   "cell_type": "code",
   "execution_count": 1,
   "id": "df010e97",
   "metadata": {},
   "outputs": [
    {
     "name": "stdout",
     "output_type": "stream",
     "text": [
      "[1.5, 'def', 1, 'a']\n"
     ]
    }
   ],
   "source": [
    "#Question 1 \n",
    "# What is a list and how to reverse a list\n",
    "\n",
    "# A list is a container of objects of multiple data types. It can consist of integers, floats, character, lists itself or -\n",
    "# other data types. To make a list we use[]. For example [1,2,3,\"abc\", 1.89,[1.5,\"apples\", 1]].\n",
    "# It is a data type.\n",
    "\n",
    "# To reverse a list we use reverse method\n",
    "lst1 = [\"a\", 1, \"def\", 1.5]\n",
    "lst1.reverse()\n",
    "print(lst1)"
   ]
  },
  {
   "cell_type": "code",
   "execution_count": 2,
   "id": "031665f8",
   "metadata": {},
   "outputs": [
    {
     "name": "stdout",
     "output_type": "stream",
     "text": [
      "['a', 1, 'def']\n"
     ]
    }
   ],
   "source": [
    "# Question 2\n",
    "#How to remove last object from a list\n",
    "\n",
    "# We use pop method to remove the last object\n",
    "lst1 = [\"a\", 1, \"def\", 1.5]\n",
    "lst1.pop()\n",
    "print(lst1)\n"
   ]
  },
  {
   "cell_type": "code",
   "execution_count": 3,
   "id": "76c31e76",
   "metadata": {},
   "outputs": [
    {
     "name": "stdout",
     "output_type": "stream",
     "text": [
      "25\n"
     ]
    }
   ],
   "source": [
    "# Question 3 \n",
    "# What is index [-1] of list1 = [2, 33, 222, 14, 25]\n",
    "#[-1] is the last element of the list.\n",
    "\n",
    "list1 = [2, 33, 222, 14, 25]\n",
    "a = list1[-1]\n",
    "print(a)"
   ]
  },
  {
   "cell_type": "code",
   "execution_count": 4,
   "id": "05d31a17",
   "metadata": {},
   "outputs": [
    {
     "name": "stdout",
     "output_type": "stream",
     "text": [
      "[2, 33, 222, 14, 25, ['a', 1, 'def', 1.5]]\n",
      "\n",
      "[2, 33, 222, 14, 25, ['a', 1, 'def', 1.5], 'a', 1, 'def', 1.5]\n"
     ]
    }
   ],
   "source": [
    "# Question 4\n",
    "# Differentiate between appen and extend method\n",
    "\n",
    "# append method adds an element to the last index of the list but it adds it as a single element if its a list or other similar\n",
    "#data type.\n",
    "# Whereas extend adds the whole lists each element as a different element after the current list we are adding to ends.\n",
    "\n",
    "list1 = [2, 33, 222, 14, 25]\n",
    "lst1 = [\"a\", 1, \"def\", 1.5]\n",
    "list1.append(lst1)\n",
    "print(list1)\n",
    "print()\n",
    "list1.extend(lst1)\n",
    "print(list1)"
   ]
  },
  {
   "cell_type": "code",
   "execution_count": 18,
   "id": "e4c946fa",
   "metadata": {},
   "outputs": [
    {
     "name": "stdout",
     "output_type": "stream",
     "text": [
      "Largest number in the list is : 222\n",
      "Smallest number in the list is : 1\n",
      "Sum of two numbers is : 297\n"
     ]
    }
   ],
   "source": [
    "# Question 5\n",
    "# Find the largest, smallest, sum of all numbs in a list\n",
    "\n",
    "list1 = [2, 33, 222, 14, 25, 1]\n",
    "a = 0\n",
    "for i in list1:\n",
    "    if(a < i):\n",
    "        a = i\n",
    "print(\"Largest number in the list is :\", a)\n",
    "\n",
    "for i in list1:\n",
    "    b = list1[0]\n",
    "    if(b > i):\n",
    "        b = i\n",
    "    \n",
    "print(\"Smallest number in the list is :\", b)\n",
    "\n",
    "c = 0\n",
    "for i in list1:\n",
    "    c += i\n",
    "    \n",
    "print(\"Sum of two numbers is :\", c)"
   ]
  },
  {
   "cell_type": "code",
   "execution_count": 23,
   "id": "7f428616",
   "metadata": {},
   "outputs": [],
   "source": [
    "# Question 6\n",
    "# How to compare two lists\n",
    "\n"
   ]
  },
  {
   "cell_type": "code",
   "execution_count": 76,
   "id": "92848a49",
   "metadata": {},
   "outputs": [
    {
     "name": "stdout",
     "output_type": "stream",
     "text": [
      "['bye bye hi hi{b}', 'hi hello']\n"
     ]
    }
   ],
   "source": [
    "# Question 7\n",
    "# Program to count the number of strings where the string length is more than two or equal and first and last character are\n",
    "# same\n",
    "\n",
    "b = (\"-\", \"hi\", \"{b}\")\n",
    "str1 = \"\"\"bye bye hi hi{b}\n",
    "hi hello\"\"\"\n",
    "a = str1.splitlines(True)\n",
    "print(a)"
   ]
  },
  {
   "cell_type": "code",
   "execution_count": null,
   "id": "7197e89b",
   "metadata": {},
   "outputs": [],
   "source": []
  }
 ],
 "metadata": {
  "kernelspec": {
   "display_name": "Python 3 (ipykernel)",
   "language": "python",
   "name": "python3"
  },
  "language_info": {
   "codemirror_mode": {
    "name": "ipython",
    "version": 3
   },
   "file_extension": ".py",
   "mimetype": "text/x-python",
   "name": "python",
   "nbconvert_exporter": "python",
   "pygments_lexer": "ipython3",
   "version": "3.9.12"
  }
 },
 "nbformat": 4,
 "nbformat_minor": 5
}
